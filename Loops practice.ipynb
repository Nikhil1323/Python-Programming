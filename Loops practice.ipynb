{
 "cells": [
  {
   "cell_type": "code",
   "execution_count": 1,
   "id": "c41a5d8d-e5e0-499a-a9f6-219d583093e2",
   "metadata": {},
   "outputs": [],
   "source": [
    "l = [1,2,3,4,5]"
   ]
  },
  {
   "cell_type": "code",
   "execution_count": 3,
   "id": "d65eea01-048b-40b5-b78b-d0c36ae51aba",
   "metadata": {},
   "outputs": [
    {
     "name": "stdout",
     "output_type": "stream",
     "text": [
      "1 <class 'int'>\n",
      "2 <class 'int'>\n",
      "3 <class 'int'>\n",
      "4 <class 'int'>\n",
      "5 <class 'int'>\n"
     ]
    }
   ],
   "source": [
    "for i in l :\n",
    "    print(i, type(i))"
   ]
  },
  {
   "cell_type": "code",
   "execution_count": 4,
   "id": "01ecf24d-2b4c-45cf-b8db-56016cab0043",
   "metadata": {},
   "outputs": [],
   "source": [
    "l1 = [\"nikh\", \"bagul\",\"yash\"]"
   ]
  },
  {
   "cell_type": "code",
   "execution_count": 5,
   "id": "5feb10a2-ecff-4231-8e1e-acf41382e879",
   "metadata": {},
   "outputs": [
    {
     "name": "stdout",
     "output_type": "stream",
     "text": [
      "nikh\n",
      "bagul\n",
      "yash\n"
     ]
    }
   ],
   "source": [
    "for i in l1:\n",
    "    print(i)"
   ]
  },
  {
   "cell_type": "code",
   "execution_count": 6,
   "id": "8eed92b1-a117-49d8-b294-c564eccc1dbf",
   "metadata": {},
   "outputs": [
    {
     "data": {
      "text/plain": [
       "['nikh', 'bagul', 'yash']"
      ]
     },
     "execution_count": 6,
     "metadata": {},
     "output_type": "execute_result"
    }
   ],
   "source": [
    "l1"
   ]
  },
  {
   "cell_type": "code",
   "execution_count": 10,
   "id": "d921e0ac-6996-4272-94c6-0df9b42c2dd8",
   "metadata": {},
   "outputs": [
    {
     "name": "stdout",
     "output_type": "stream",
     "text": [
      "nikh\n",
      "bagul\n",
      "yash\n",
      "if for loop is able to complete itself then only else will execute\n"
     ]
    }
   ],
   "source": [
    "for i in l1 :\n",
    "    print(i)\n",
    "else :\n",
    "    print(\"if for loop is able to complete itself then only else will execute\")"
   ]
  },
  {
   "cell_type": "markdown",
   "id": "7f74f03c-47aa-4aee-b135-8dc98e2c81b2",
   "metadata": {},
   "source": [
    "For else statement is only available in python."
   ]
  },
  {
   "cell_type": "code",
   "execution_count": 12,
   "id": "12f7143f-2035-40bb-85de-f064802cd34e",
   "metadata": {},
   "outputs": [
    {
     "name": "stdout",
     "output_type": "stream",
     "text": [
      "nikh\n"
     ]
    }
   ],
   "source": [
    "for i in l1 :\n",
    "    if i == \"bagul\" :\n",
    "        break\n",
    "    print(i)"
   ]
  },
  {
   "cell_type": "markdown",
   "id": "32823a10-0a70-4d11-9867-aa63fe96f52e",
   "metadata": {},
   "source": [
    "Break is also a in built key word\n",
    "Loop stops immediately\n",
    "And loop is terminated"
   ]
  },
  {
   "cell_type": "code",
   "execution_count": 14,
   "id": "d3e5e4a6-e461-4137-b4c3-bcc5ff50aaaf",
   "metadata": {},
   "outputs": [
    {
     "data": {
      "text/plain": [
       "['nikh', 'bagul', 'yash']"
      ]
     },
     "execution_count": 14,
     "metadata": {},
     "output_type": "execute_result"
    }
   ],
   "source": [
    "l1"
   ]
  },
  {
   "cell_type": "code",
   "execution_count": 15,
   "id": "75a675cf-750e-48e9-b6b8-4c29e464b002",
   "metadata": {},
   "outputs": [
    {
     "name": "stdout",
     "output_type": "stream",
     "text": [
      "nikh\n"
     ]
    }
   ],
   "source": [
    "for i in l1 :\n",
    "    if i ==\"bagul\" :\n",
    "        break\n",
    "    print(i)\n",
    "else :\n",
    "    print(\"Execute this if for loop is able to complete itself\")"
   ]
  },
  {
   "cell_type": "markdown",
   "id": "2e123276-65a1-4697-82de-12f3977613b3",
   "metadata": {},
   "source": [
    "If we use for else then else loop will get executed only when for loop gets fully executed"
   ]
  },
  {
   "cell_type": "code",
   "execution_count": 16,
   "id": "dcd7c428-86dd-4090-bd73-0b14935cedf5",
   "metadata": {},
   "outputs": [
    {
     "data": {
      "text/plain": [
       "['nikh', 'bagul', 'yash']"
      ]
     },
     "execution_count": 16,
     "metadata": {},
     "output_type": "execute_result"
    }
   ],
   "source": [
    "l1"
   ]
  },
  {
   "cell_type": "code",
   "execution_count": 18,
   "id": "c48adbc1-f17d-4f0a-a92f-c1a9c93d6005",
   "metadata": {},
   "outputs": [
    {
     "name": "stdout",
     "output_type": "stream",
     "text": [
      "nikh\n",
      "yash\n"
     ]
    }
   ],
   "source": [
    "for i in l1 :\n",
    "    if i ==\"bagul\":\n",
    "        continue\n",
    "    print(i)"
   ]
  },
  {
   "cell_type": "code",
   "execution_count": 19,
   "id": "308c8b2b-af0d-4224-ad6d-2e517e2eed09",
   "metadata": {},
   "outputs": [
    {
     "name": "stdout",
     "output_type": "stream",
     "text": [
      "nikh\n",
      "yash\n",
      "execute this if for loop is able to complete itself\n"
     ]
    }
   ],
   "source": [
    "for i in l1 :\n",
    "    if i ==\"bagul\":\n",
    "        continue\n",
    "    print(i)\n",
    "else :\n",
    "    print(\"execute this if for loop is able to complete itself\")"
   ]
  },
  {
   "cell_type": "code",
   "execution_count": 20,
   "id": "9d19c461-0e63-43d2-8bbd-772db96be676",
   "metadata": {},
   "outputs": [
    {
     "data": {
      "text/plain": [
       "range(0, 5)"
      ]
     },
     "execution_count": 20,
     "metadata": {},
     "output_type": "execute_result"
    }
   ],
   "source": [
    "range(0,5) # is a generator function"
   ]
  },
  {
   "cell_type": "code",
   "execution_count": 21,
   "id": "21b8e706-e778-4201-a996-dc9c5c9c082d",
   "metadata": {},
   "outputs": [
    {
     "data": {
      "text/plain": [
       "range(0, 5)"
      ]
     },
     "execution_count": 21,
     "metadata": {},
     "output_type": "execute_result"
    }
   ],
   "source": [
    "range(5)"
   ]
  },
  {
   "cell_type": "code",
   "execution_count": 22,
   "id": "ea08c178-9c9d-4e25-90e5-9a8269000ba9",
   "metadata": {},
   "outputs": [
    {
     "data": {
      "text/plain": [
       "[0, 1, 2, 3, 4]"
      ]
     },
     "execution_count": 22,
     "metadata": {},
     "output_type": "execute_result"
    }
   ],
   "source": [
    "list(range(5))"
   ]
  },
  {
   "cell_type": "code",
   "execution_count": 26,
   "id": "8e7c8334-7160-4745-a26b-b56f35b2dd4f",
   "metadata": {},
   "outputs": [
    {
     "data": {
      "text/plain": [
       "[0, 2, 4, 6, 8, 10, 12, 14, 16, 18]"
      ]
     },
     "execution_count": 26,
     "metadata": {},
     "output_type": "execute_result"
    }
   ],
   "source": [
    "list(range(0,20,2)) # here the parameters passed to range function includes the starting, the ending and the jump"
   ]
  },
  {
   "cell_type": "code",
   "execution_count": 28,
   "id": "ae039429-7d61-43a9-a048-d06461f45cec",
   "metadata": {},
   "outputs": [
    {
     "data": {
      "text/plain": [
       "[-10, -9, -8, -7, -6, -5, -4, -3, -2, -1]"
      ]
     },
     "execution_count": 28,
     "metadata": {},
     "output_type": "execute_result"
    }
   ],
   "source": [
    "list(range(-10,0)) # by defalut the jump is of 1 and same function can be used to generate the negative values as well"
   ]
  },
  {
   "cell_type": "markdown",
   "id": "04a86236-02ed-451e-8224-757ef556772e",
   "metadata": {},
   "source": [
    "The range produces data in range which is less than the upper bound by 1"
   ]
  },
  {
   "cell_type": "code",
   "execution_count": 29,
   "id": "7d6b85ae-63b1-46a8-845e-88a3409262e4",
   "metadata": {},
   "outputs": [
    {
     "data": {
      "text/plain": [
       "['nikh', 'bagul', 'yash']"
      ]
     },
     "execution_count": 29,
     "metadata": {},
     "output_type": "execute_result"
    }
   ],
   "source": [
    "l1"
   ]
  },
  {
   "cell_type": "code",
   "execution_count": 36,
   "id": "5b1ad0c4-5b1f-4293-ae14-58f6ff63398d",
   "metadata": {},
   "outputs": [
    {
     "name": "stdout",
     "output_type": "stream",
     "text": [
      "nikh\n",
      "bagul\n",
      "yash\n"
     ]
    }
   ],
   "source": [
    "for i in range(len(l1)) :\n",
    "    print(l1[i])"
   ]
  },
  {
   "cell_type": "code",
   "execution_count": 38,
   "id": "2ef3be6c-488b-4783-81f0-532adea59905",
   "metadata": {},
   "outputs": [
    {
     "name": "stdout",
     "output_type": "stream",
     "text": [
      "yash\n",
      "bagul\n",
      "nikh\n"
     ]
    }
   ],
   "source": [
    "for i in range(len(l1)-1,-1,-1) :\n",
    "    print(l1[i])"
   ]
  },
  {
   "cell_type": "markdown",
   "id": "48ae48ee-5e7f-4afc-9598-eebcd86a6a80",
   "metadata": {},
   "source": [
    "Here in the above example in the range function \n",
    "we need the l1 list elements in the reverse order hence \n",
    "we give lower bound as len(l1)-1 because of we give only len(l1) then the lastth index of l1 is ignored \n",
    "and then we give the upper bound as -1 as we need it till 0\n",
    "for reversing it we need to give the jump of -1  to keep the pointer moving backward\n"
   ]
  },
  {
   "cell_type": "code",
   "execution_count": 39,
   "id": "414bd9fd-ec56-423c-977f-61845b43000a",
   "metadata": {},
   "outputs": [],
   "source": [
    "l2 = [2,5,3,2,5,1,4,2,5,366,25,2]"
   ]
  },
  {
   "cell_type": "code",
   "execution_count": 41,
   "id": "e56694de-13ef-4024-805f-802495d223f7",
   "metadata": {},
   "outputs": [
    {
     "data": {
      "text/plain": [
       "[0, 2, 4, 6, 8, 10]"
      ]
     },
     "execution_count": 41,
     "metadata": {},
     "output_type": "execute_result"
    }
   ],
   "source": [
    "list(range(0,len(l2),2))"
   ]
  },
  {
   "cell_type": "code",
   "execution_count": 44,
   "id": "7ed490b6-a899-407a-bc91-1dea296a62c2",
   "metadata": {},
   "outputs": [
    {
     "name": "stdout",
     "output_type": "stream",
     "text": [
      "2\n",
      "3\n",
      "5\n",
      "4\n",
      "5\n",
      "25\n"
     ]
    }
   ],
   "source": [
    "for i in range(0, len(l2),2) :\n",
    "    print(l2[i])"
   ]
  },
  {
   "cell_type": "code",
   "execution_count": 45,
   "id": "7280689c-43a4-41ce-a5ed-aaf79c5e3f1c",
   "metadata": {},
   "outputs": [],
   "source": [
    "l = [1,2,3,4,5,2,6,8,5,1,4]"
   ]
  },
  {
   "cell_type": "code",
   "execution_count": 46,
   "id": "67045a85-6c95-4404-bf99-b69d026118e2",
   "metadata": {},
   "outputs": [
    {
     "data": {
      "text/plain": [
       "41"
      ]
     },
     "execution_count": 46,
     "metadata": {},
     "output_type": "execute_result"
    }
   ],
   "source": [
    "result = 0\n",
    "for i in l :\n",
    "    result = result + i\n",
    "result\n",
    "    "
   ]
  },
  {
   "cell_type": "code",
   "execution_count": 47,
   "id": "45a006db-6cf0-4e52-ae4d-d3168541a607",
   "metadata": {},
   "outputs": [
    {
     "data": {
      "text/plain": [
       "41"
      ]
     },
     "execution_count": 47,
     "metadata": {},
     "output_type": "execute_result"
    }
   ],
   "source": [
    "sum(l)"
   ]
  },
  {
   "cell_type": "code",
   "execution_count": 48,
   "id": "a4a6767a-4efc-4c1d-82e4-581273b78966",
   "metadata": {},
   "outputs": [
    {
     "name": "stdout",
     "output_type": "stream",
     "text": [
      "1\n",
      "2\n",
      "3\n",
      "4\n",
      "5\n",
      "6\n"
     ]
    }
   ],
   "source": [
    "t = (1,2,3,4,5,6)\n",
    "for i in t :\n",
    "    print(i)"
   ]
  },
  {
   "cell_type": "code",
   "execution_count": 49,
   "id": "39d6f25d-6eb6-42e2-8f2d-3f8c2cf650fb",
   "metadata": {},
   "outputs": [
    {
     "data": {
      "text/plain": [
       "21"
      ]
     },
     "execution_count": 49,
     "metadata": {},
     "output_type": "execute_result"
    }
   ],
   "source": [
    "result = 0\n",
    "for i in t :\n",
    "    result = result + i\n",
    "result"
   ]
  },
  {
   "cell_type": "code",
   "execution_count": 50,
   "id": "e14a8208-60fc-4b3a-b553-65993691ec7c",
   "metadata": {},
   "outputs": [
    {
     "name": "stdout",
     "output_type": "stream",
     "text": [
      "1\n",
      "2\n",
      "3\n",
      "4\n",
      "5\n",
      "nikhil\n",
      "bagul\n"
     ]
    }
   ],
   "source": [
    "s= {1,2,3,4,5,\"nikhil\",\"bagul\"}\n",
    "for i in s :\n",
    "    print(i)"
   ]
  },
  {
   "cell_type": "code",
   "execution_count": 51,
   "id": "dabbd238-2a5a-4ee0-93b2-91d9e2df28c2",
   "metadata": {},
   "outputs": [],
   "source": [
    "s1 = \"nikhil\""
   ]
  },
  {
   "cell_type": "code",
   "execution_count": 52,
   "id": "f67bc19c-f06e-4297-8b1f-8490f0c26435",
   "metadata": {},
   "outputs": [
    {
     "name": "stdout",
     "output_type": "stream",
     "text": [
      "n\n",
      "i\n",
      "k\n",
      "h\n",
      "i\n",
      "l\n"
     ]
    }
   ],
   "source": [
    "for i in s1 :\n",
    "    print(i)"
   ]
  },
  {
   "cell_type": "code",
   "execution_count": 53,
   "id": "eabc634b-5752-4972-8e6a-d43ea11ae3c8",
   "metadata": {},
   "outputs": [],
   "source": [
    "d = {\"name\":\"nikhil\",\"class\":\"data science masters\",\"topic\":[\"python\",\"stats\",\"machine learning\",\"DL\",\"CV\",\"NLP\"]}"
   ]
  },
  {
   "cell_type": "code",
   "execution_count": 54,
   "id": "9040e891-045f-4526-9275-28e70903d6e6",
   "metadata": {},
   "outputs": [
    {
     "data": {
      "text/plain": [
       "{'name': 'nikhil',\n",
       " 'class': 'data science masters',\n",
       " 'topic': ['python', 'stats', 'machine learning', 'DL', 'CV', 'NLP']}"
      ]
     },
     "execution_count": 54,
     "metadata": {},
     "output_type": "execute_result"
    }
   ],
   "source": [
    "d"
   ]
  },
  {
   "cell_type": "code",
   "execution_count": 55,
   "id": "1e2550f5-37df-4180-b21b-3e6518f74ecc",
   "metadata": {},
   "outputs": [
    {
     "data": {
      "text/plain": [
       "'nikhil'"
      ]
     },
     "execution_count": 55,
     "metadata": {},
     "output_type": "execute_result"
    }
   ],
   "source": [
    "d[\"name\"]"
   ]
  },
  {
   "cell_type": "code",
   "execution_count": 56,
   "id": "600f3dc8-209c-4591-a0fb-8408c8f86629",
   "metadata": {},
   "outputs": [
    {
     "data": {
      "text/plain": [
       "dict_keys(['name', 'class', 'topic'])"
      ]
     },
     "execution_count": 56,
     "metadata": {},
     "output_type": "execute_result"
    }
   ],
   "source": [
    "d.keys()"
   ]
  },
  {
   "cell_type": "code",
   "execution_count": 57,
   "id": "674a901d-48da-4d4d-af34-b1e0da198e72",
   "metadata": {},
   "outputs": [
    {
     "name": "stdout",
     "output_type": "stream",
     "text": [
      "nikhil\n",
      "data science masters\n",
      "['python', 'stats', 'machine learning', 'DL', 'CV', 'NLP']\n"
     ]
    }
   ],
   "source": [
    "for i in d.keys() :\n",
    "    print(d[i])"
   ]
  },
  {
   "cell_type": "code",
   "execution_count": 58,
   "id": "97418bbf-9329-4145-abe7-bfad324ac4d9",
   "metadata": {},
   "outputs": [
    {
     "data": {
      "text/plain": [
       "dict_values(['nikhil', 'data science masters', ['python', 'stats', 'machine learning', 'DL', 'CV', 'NLP']])"
      ]
     },
     "execution_count": 58,
     "metadata": {},
     "output_type": "execute_result"
    }
   ],
   "source": [
    "d.values()"
   ]
  },
  {
   "cell_type": "code",
   "execution_count": 60,
   "id": "ae5fc9ea-eee6-43b7-a5e3-5d66b9337c43",
   "metadata": {},
   "outputs": [
    {
     "name": "stdout",
     "output_type": "stream",
     "text": [
      "nikhil\n",
      "data science masters\n",
      "['python', 'stats', 'machine learning', 'DL', 'CV', 'NLP']\n"
     ]
    }
   ],
   "source": [
    "for i in d.values() :\n",
    "    print(i)"
   ]
  },
  {
   "cell_type": "code",
   "execution_count": 61,
   "id": "b472811e-1fbc-4c54-9767-020643992a2d",
   "metadata": {},
   "outputs": [
    {
     "data": {
      "text/plain": [
       "dict_items([('name', 'nikhil'), ('class', 'data science masters'), ('topic', ['python', 'stats', 'machine learning', 'DL', 'CV', 'NLP'])])"
      ]
     },
     "execution_count": 61,
     "metadata": {},
     "output_type": "execute_result"
    }
   ],
   "source": [
    "d.items()"
   ]
  },
  {
   "cell_type": "code",
   "execution_count": 62,
   "id": "cca06726-68a9-48d9-8824-1ba7b01e85ec",
   "metadata": {},
   "outputs": [
    {
     "name": "stdout",
     "output_type": "stream",
     "text": [
      "('name', 'nikhil')\n",
      "('class', 'data science masters')\n",
      "('topic', ['python', 'stats', 'machine learning', 'DL', 'CV', 'NLP'])\n"
     ]
    }
   ],
   "source": [
    "for i in d.items() :\n",
    "    print(i)"
   ]
  },
  {
   "cell_type": "code",
   "execution_count": null,
   "id": "0d33a891-e36d-418d-84fe-8ab37df963b2",
   "metadata": {},
   "outputs": [],
   "source": []
  }
 ],
 "metadata": {
  "kernelspec": {
   "display_name": "Python 3 (ipykernel)",
   "language": "python",
   "name": "python3"
  },
  "language_info": {
   "codemirror_mode": {
    "name": "ipython",
    "version": 3
   },
   "file_extension": ".py",
   "mimetype": "text/x-python",
   "name": "python",
   "nbconvert_exporter": "python",
   "pygments_lexer": "ipython3",
   "version": "3.10.8"
  }
 },
 "nbformat": 4,
 "nbformat_minor": 5
}
