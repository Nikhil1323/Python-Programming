{
 "cells": [
  {
   "cell_type": "code",
   "execution_count": 1,
   "id": "589f6ea1-ac39-46ce-a03a-28104a671add",
   "metadata": {},
   "outputs": [],
   "source": [
    "l = [1,2.56,\"nikhil\",[1,2,3],8+78j]"
   ]
  },
  {
   "cell_type": "code",
   "execution_count": 2,
   "id": "9799b252-187a-4bcd-b882-71293eb6a227",
   "metadata": {},
   "outputs": [
    {
     "data": {
      "text/plain": [
       "[1, 2.56, 'nikhil', [1, 2, 3], (8+78j)]"
      ]
     },
     "execution_count": 2,
     "metadata": {},
     "output_type": "execute_result"
    }
   ],
   "source": [
    "l"
   ]
  },
  {
   "cell_type": "code",
   "execution_count": 3,
   "id": "f8fe7d88-770e-4335-aadf-6638a6789723",
   "metadata": {},
   "outputs": [
    {
     "data": {
      "text/plain": [
       "(8+78j)"
      ]
     },
     "execution_count": 3,
     "metadata": {},
     "output_type": "execute_result"
    }
   ],
   "source": [
    "l.pop()"
   ]
  },
  {
   "cell_type": "code",
   "execution_count": 4,
   "id": "ee631a99-e1c6-46af-9894-4ce1e5123c31",
   "metadata": {},
   "outputs": [
    {
     "data": {
      "text/plain": [
       "2.56"
      ]
     },
     "execution_count": 4,
     "metadata": {},
     "output_type": "execute_result"
    }
   ],
   "source": [
    "l.pop(1)"
   ]
  },
  {
   "cell_type": "code",
   "execution_count": 5,
   "id": "f4af688f-bed0-4e73-986e-0e2d1e25d662",
   "metadata": {},
   "outputs": [
    {
     "data": {
      "text/plain": [
       "[1, 'nikhil', [1, 2, 3]]"
      ]
     },
     "execution_count": 5,
     "metadata": {},
     "output_type": "execute_result"
    }
   ],
   "source": [
    "l"
   ]
  },
  {
   "cell_type": "code",
   "execution_count": 6,
   "id": "6e6fcad2-75c5-4faf-9e37-896a635c6c77",
   "metadata": {},
   "outputs": [
    {
     "data": {
      "text/plain": [
       "[[1, 2, 3], 'nikhil', 1]"
      ]
     },
     "execution_count": 6,
     "metadata": {},
     "output_type": "execute_result"
    }
   ],
   "source": [
    "l[::-1]"
   ]
  },
  {
   "cell_type": "code",
   "execution_count": 7,
   "id": "4a5b5ea6-37fe-4344-ac18-adb50e7fa92f",
   "metadata": {},
   "outputs": [
    {
     "data": {
      "text/plain": [
       "[1, 'nikhil', [1, 2, 3]]"
      ]
     },
     "execution_count": 7,
     "metadata": {},
     "output_type": "execute_result"
    }
   ],
   "source": [
    "l"
   ]
  },
  {
   "cell_type": "code",
   "execution_count": 8,
   "id": "1be5b049-c9c3-4d3b-83dd-53a337bd8957",
   "metadata": {},
   "outputs": [],
   "source": [
    "l.reverse()"
   ]
  },
  {
   "cell_type": "code",
   "execution_count": 9,
   "id": "9173e2cd-2b39-4d22-a5ed-5f6581a68c14",
   "metadata": {},
   "outputs": [
    {
     "data": {
      "text/plain": [
       "[[1, 2, 3], 'nikhil', 1]"
      ]
     },
     "execution_count": 9,
     "metadata": {},
     "output_type": "execute_result"
    }
   ],
   "source": [
    "l"
   ]
  },
  {
   "cell_type": "code",
   "execution_count": 10,
   "id": "e2fa7a8e-0430-4def-987b-d12cff02e921",
   "metadata": {},
   "outputs": [],
   "source": [
    "l.reverse()"
   ]
  },
  {
   "cell_type": "code",
   "execution_count": 11,
   "id": "a2e0d42b-dd90-4b8c-acb6-33bde7244a80",
   "metadata": {},
   "outputs": [
    {
     "data": {
      "text/plain": [
       "[1, 'nikhil', [1, 2, 3]]"
      ]
     },
     "execution_count": 11,
     "metadata": {},
     "output_type": "execute_result"
    }
   ],
   "source": [
    "l"
   ]
  },
  {
   "cell_type": "code",
   "execution_count": 12,
   "id": "993e72d1-a463-45b0-93b0-b131f7c4bb03",
   "metadata": {},
   "outputs": [],
   "source": [
    "l.append(\"nikhil\")"
   ]
  },
  {
   "cell_type": "code",
   "execution_count": 13,
   "id": "9225ad7f-1ed8-4f03-affa-c4b9283d5256",
   "metadata": {},
   "outputs": [
    {
     "data": {
      "text/plain": [
       "[1, 'nikhil', [1, 2, 3], 'nikhil']"
      ]
     },
     "execution_count": 13,
     "metadata": {},
     "output_type": "execute_result"
    }
   ],
   "source": [
    "l"
   ]
  },
  {
   "cell_type": "code",
   "execution_count": 14,
   "id": "65a326f8-035b-4efd-bf82-17a187c565b8",
   "metadata": {},
   "outputs": [],
   "source": [
    "l.remove(\"nikhil\")"
   ]
  },
  {
   "cell_type": "code",
   "execution_count": 15,
   "id": "fd4d0785-b1c6-4311-8f54-006ab293ed0a",
   "metadata": {},
   "outputs": [
    {
     "data": {
      "text/plain": [
       "[1, [1, 2, 3], 'nikhil']"
      ]
     },
     "execution_count": 15,
     "metadata": {},
     "output_type": "execute_result"
    }
   ],
   "source": [
    "l"
   ]
  },
  {
   "cell_type": "code",
   "execution_count": 1,
   "id": "6fa647ee-cc2f-4a5e-b51a-2e17e7dd6379",
   "metadata": {},
   "outputs": [],
   "source": [
    "l = [1,[1,2,3],\"nikhil\"]"
   ]
  },
  {
   "cell_type": "code",
   "execution_count": 2,
   "id": "dceb0fd6-d142-4774-baa9-cc707736bf0d",
   "metadata": {},
   "outputs": [
    {
     "data": {
      "text/plain": [
       "[1, [1, 2, 3], 'nikhil']"
      ]
     },
     "execution_count": 2,
     "metadata": {},
     "output_type": "execute_result"
    }
   ],
   "source": [
    "l"
   ]
  },
  {
   "cell_type": "code",
   "execution_count": 3,
   "id": "b8dd4d19-07d2-4274-a5b4-cc3aa756c21f",
   "metadata": {},
   "outputs": [
    {
     "ename": "AttributeError",
     "evalue": "'list' object has no attribute 'expand'",
     "output_type": "error",
     "traceback": [
      "\u001b[0;31m---------------------------------------------------------------------------\u001b[0m",
      "\u001b[0;31mAttributeError\u001b[0m                            Traceback (most recent call last)",
      "Cell \u001b[0;32mIn[3], line 1\u001b[0m\n\u001b[0;32m----> 1\u001b[0m \u001b[43ml\u001b[49m\u001b[38;5;241;43m.\u001b[39;49m\u001b[43mexpand\u001b[49m(\u001b[38;5;241m25\u001b[39m)\n",
      "\u001b[0;31mAttributeError\u001b[0m: 'list' object has no attribute 'expand'"
     ]
    }
   ],
   "source": [
    "l.expand(25)"
   ]
  },
  {
   "cell_type": "code",
   "execution_count": 4,
   "id": "ac2ba8c5-3581-4591-8315-af5367fca9da",
   "metadata": {},
   "outputs": [
    {
     "data": {
      "text/plain": [
       "[1, [1, 2, 3], 'nikhil']"
      ]
     },
     "execution_count": 4,
     "metadata": {},
     "output_type": "execute_result"
    }
   ],
   "source": [
    "l"
   ]
  },
  {
   "cell_type": "code",
   "execution_count": 5,
   "id": "adfcaa2e-fad2-4acc-952a-9a8e98802f6d",
   "metadata": {},
   "outputs": [
    {
     "ename": "TypeError",
     "evalue": "'int' object is not iterable",
     "output_type": "error",
     "traceback": [
      "\u001b[0;31m---------------------------------------------------------------------------\u001b[0m",
      "\u001b[0;31mTypeError\u001b[0m                                 Traceback (most recent call last)",
      "Cell \u001b[0;32mIn[5], line 1\u001b[0m\n\u001b[0;32m----> 1\u001b[0m \u001b[43ml\u001b[49m\u001b[38;5;241;43m.\u001b[39;49m\u001b[43mextend\u001b[49m\u001b[43m(\u001b[49m\u001b[38;5;241;43m25\u001b[39;49m\u001b[43m)\u001b[49m\n",
      "\u001b[0;31mTypeError\u001b[0m: 'int' object is not iterable"
     ]
    }
   ],
   "source": [
    "l.extend(25)"
   ]
  },
  {
   "cell_type": "code",
   "execution_count": 6,
   "id": "a2b417f1-6cf5-46f5-8db8-ff61e1646b80",
   "metadata": {},
   "outputs": [],
   "source": [
    "l.extend(\"nikhil\")"
   ]
  },
  {
   "cell_type": "code",
   "execution_count": 7,
   "id": "6357d7cb-7b90-4199-bb91-e74c0510a16a",
   "metadata": {},
   "outputs": [
    {
     "data": {
      "text/plain": [
       "[1, [1, 2, 3], 'nikhil', 'n', 'i', 'k', 'h', 'i', 'l']"
      ]
     },
     "execution_count": 7,
     "metadata": {},
     "output_type": "execute_result"
    }
   ],
   "source": [
    "l"
   ]
  },
  {
   "cell_type": "code",
   "execution_count": 8,
   "id": "1181d182-6d48-49dd-b02c-3c93635dc577",
   "metadata": {},
   "outputs": [],
   "source": [
    "l.append(\"nikhil\")"
   ]
  },
  {
   "cell_type": "code",
   "execution_count": 9,
   "id": "68f471b7-8030-48ce-a09c-324ae67e2a7f",
   "metadata": {},
   "outputs": [
    {
     "data": {
      "text/plain": [
       "[1, [1, 2, 3], 'nikhil', 'n', 'i', 'k', 'h', 'i', 'l', 'nikhil']"
      ]
     },
     "execution_count": 9,
     "metadata": {},
     "output_type": "execute_result"
    }
   ],
   "source": [
    "l"
   ]
  },
  {
   "cell_type": "code",
   "execution_count": 10,
   "id": "3e025078-eab9-4669-b971-751f3d539954",
   "metadata": {},
   "outputs": [
    {
     "ename": "TypeError",
     "evalue": "insert expected 2 arguments, got 1",
     "output_type": "error",
     "traceback": [
      "\u001b[0;31m---------------------------------------------------------------------------\u001b[0m",
      "\u001b[0;31mTypeError\u001b[0m                                 Traceback (most recent call last)",
      "Cell \u001b[0;32mIn[10], line 1\u001b[0m\n\u001b[0;32m----> 1\u001b[0m \u001b[43ml\u001b[49m\u001b[38;5;241;43m.\u001b[39;49m\u001b[43minsert\u001b[49m\u001b[43m(\u001b[49m\u001b[38;5;241;43m25\u001b[39;49m\u001b[43m)\u001b[49m\n",
      "\u001b[0;31mTypeError\u001b[0m: insert expected 2 arguments, got 1"
     ]
    }
   ],
   "source": [
    "l.insert(25)"
   ]
  },
  {
   "cell_type": "code",
   "execution_count": 11,
   "id": "054961a0-8235-4514-a07f-049575d884ad",
   "metadata": {},
   "outputs": [],
   "source": [
    "l.insert(2,25)"
   ]
  },
  {
   "cell_type": "code",
   "execution_count": 12,
   "id": "82fdc780-1230-4933-8824-c7e7f672f32b",
   "metadata": {},
   "outputs": [
    {
     "data": {
      "text/plain": [
       "[1, [1, 2, 3], 25, 'nikhil', 'n', 'i', 'k', 'h', 'i', 'l', 'nikhil']"
      ]
     },
     "execution_count": 12,
     "metadata": {},
     "output_type": "execute_result"
    }
   ],
   "source": [
    "l"
   ]
  },
  {
   "cell_type": "code",
   "execution_count": 13,
   "id": "8f199fec-bcfb-44f4-bd91-bd682e6bf74d",
   "metadata": {},
   "outputs": [],
   "source": [
    "l.remove(25)"
   ]
  },
  {
   "cell_type": "code",
   "execution_count": 14,
   "id": "1ab050bc-44a6-4ef5-baac-155803ab5a47",
   "metadata": {},
   "outputs": [
    {
     "data": {
      "text/plain": [
       "[1, [1, 2, 3], 'nikhil', 'n', 'i', 'k', 'h', 'i', 'l', 'nikhil']"
      ]
     },
     "execution_count": 14,
     "metadata": {},
     "output_type": "execute_result"
    }
   ],
   "source": [
    "l"
   ]
  },
  {
   "cell_type": "code",
   "execution_count": 19,
   "id": "09b1c83a-d817-46f7-8323-e80e153b245b",
   "metadata": {},
   "outputs": [
    {
     "ename": "ValueError",
     "evalue": "list.remove(x): x not in list",
     "output_type": "error",
     "traceback": [
      "\u001b[0;31m---------------------------------------------------------------------------\u001b[0m",
      "\u001b[0;31mValueError\u001b[0m                                Traceback (most recent call last)",
      "Cell \u001b[0;32mIn[19], line 1\u001b[0m\n\u001b[0;32m----> 1\u001b[0m \u001b[43ml\u001b[49m\u001b[43m[\u001b[49m\u001b[38;5;241;43m1\u001b[39;49m\u001b[43m]\u001b[49m\u001b[38;5;241;43m.\u001b[39;49m\u001b[43mremove\u001b[49m\u001b[43m(\u001b[49m\u001b[38;5;241;43m3\u001b[39;49m\u001b[43m)\u001b[49m\n",
      "\u001b[0;31mValueError\u001b[0m: list.remove(x): x not in list"
     ]
    }
   ],
   "source": [
    "l[1].remove(3)"
   ]
  },
  {
   "cell_type": "code",
   "execution_count": 16,
   "id": "cbcf2ed5-a2c4-46b4-a41a-1e1e0b48ff18",
   "metadata": {},
   "outputs": [
    {
     "data": {
      "text/plain": [
       "[1, [1, 2], 'nikhil', 'n', 'i', 'k', 'h', 'i', 'l', 'nikhil']"
      ]
     },
     "execution_count": 16,
     "metadata": {},
     "output_type": "execute_result"
    }
   ],
   "source": [
    "l"
   ]
  },
  {
   "cell_type": "markdown",
   "id": "d67a83b7-32ef-47b1-b221-67ff47d895a0",
   "metadata": {},
   "source": [
    "The above process is used to remove the element of the list present inside the parent list"
   ]
  },
  {
   "cell_type": "code",
   "execution_count": 20,
   "id": "c2f7dd4f-bd8c-4403-a729-08a1d56d7c8e",
   "metadata": {},
   "outputs": [
    {
     "data": {
      "text/plain": [
       "'hil'"
      ]
     },
     "execution_count": 20,
     "metadata": {},
     "output_type": "execute_result"
    }
   ],
   "source": [
    "l[2][3:6]"
   ]
  },
  {
   "cell_type": "code",
   "execution_count": 21,
   "id": "053abd5a-86ff-4306-840e-e24e1879f357",
   "metadata": {},
   "outputs": [
    {
     "data": {
      "text/plain": [
       "'il'"
      ]
     },
     "execution_count": 21,
     "metadata": {},
     "output_type": "execute_result"
    }
   ],
   "source": [
    "l[2][4:6]"
   ]
  },
  {
   "cell_type": "code",
   "execution_count": 22,
   "id": "6181f9f9-047e-4e2d-bf8c-86c482538bed",
   "metadata": {},
   "outputs": [],
   "source": [
    "l.append(4)"
   ]
  },
  {
   "cell_type": "code",
   "execution_count": 23,
   "id": "3ba9a0c1-c943-4c54-b241-524fe89934a2",
   "metadata": {},
   "outputs": [
    {
     "data": {
      "text/plain": [
       "[1, [1, 2], 'nikhil', 'n', 'i', 'k', 'h', 'i', 'l', 'nikhil', 4]"
      ]
     },
     "execution_count": 23,
     "metadata": {},
     "output_type": "execute_result"
    }
   ],
   "source": [
    "l"
   ]
  },
  {
   "cell_type": "code",
   "execution_count": 24,
   "id": "71c03f18-0c05-4995-97e2-d8005e163aed",
   "metadata": {},
   "outputs": [],
   "source": [
    "l.insert(2,4)"
   ]
  },
  {
   "cell_type": "code",
   "execution_count": 25,
   "id": "f721a448-0560-4be1-ae7a-b1299af914a3",
   "metadata": {},
   "outputs": [
    {
     "data": {
      "text/plain": [
       "[1, [1, 2], 4, 'nikhil', 'n', 'i', 'k', 'h', 'i', 'l', 'nikhil', 4]"
      ]
     },
     "execution_count": 25,
     "metadata": {},
     "output_type": "execute_result"
    }
   ],
   "source": [
    "l"
   ]
  },
  {
   "cell_type": "code",
   "execution_count": 26,
   "id": "075d3c7b-f6d9-474a-8d24-ead48e2d2004",
   "metadata": {},
   "outputs": [],
   "source": [
    "l.reverse()"
   ]
  },
  {
   "cell_type": "code",
   "execution_count": 27,
   "id": "6a6cd15b-6371-4da0-b456-6903dfd4e401",
   "metadata": {},
   "outputs": [
    {
     "data": {
      "text/plain": [
       "[4, 'nikhil', 'l', 'i', 'h', 'k', 'i', 'n', 'nikhil', 4, [1, 2], 1]"
      ]
     },
     "execution_count": 27,
     "metadata": {},
     "output_type": "execute_result"
    }
   ],
   "source": [
    "l"
   ]
  },
  {
   "cell_type": "code",
   "execution_count": 32,
   "id": "2e08cf59-6617-4848-891e-1d96715a8357",
   "metadata": {},
   "outputs": [
    {
     "data": {
      "text/plain": [
       "[4, 'nikhil', 'l', 'i', 'h', 'k', 'i', 'n', 'nikhil', 4, [1, 2], 1]"
      ]
     },
     "execution_count": 32,
     "metadata": {},
     "output_type": "execute_result"
    }
   ],
   "source": [
    "l[::-1] #Doesnot reverse the original list permanently but only temporarily"
   ]
  },
  {
   "cell_type": "code",
   "execution_count": 29,
   "id": "3fe746cf-759e-4e0e-9159-9f014c76dd79",
   "metadata": {},
   "outputs": [
    {
     "data": {
      "text/plain": [
       "[4, 'nikhil', 'l', 'i', 'h', 'k', 'i', 'n', 'nikhil', 4, [1, 2], 1]"
      ]
     },
     "execution_count": 29,
     "metadata": {},
     "output_type": "execute_result"
    }
   ],
   "source": [
    "l"
   ]
  },
  {
   "cell_type": "code",
   "execution_count": 33,
   "id": "3d4d5fd2-717a-4cc0-94bc-0d035cc2ddc4",
   "metadata": {},
   "outputs": [],
   "source": [
    "l.reverse() #Reverses the original list permanently"
   ]
  },
  {
   "cell_type": "code",
   "execution_count": 34,
   "id": "26514d91-b7fa-4d53-bafc-e5d180a7d394",
   "metadata": {},
   "outputs": [
    {
     "data": {
      "text/plain": [
       "[4, 'nikhil', 'l', 'i', 'h', 'k', 'i', 'n', 'nikhil', 4, [1, 2], 1]"
      ]
     },
     "execution_count": 34,
     "metadata": {},
     "output_type": "execute_result"
    }
   ],
   "source": [
    "l"
   ]
  },
  {
   "cell_type": "code",
   "execution_count": 35,
   "id": "2c1721f4-d588-4a23-8154-d15472e27f39",
   "metadata": {},
   "outputs": [
    {
     "ename": "TypeError",
     "evalue": "'<' not supported between instances of 'str' and 'int'",
     "output_type": "error",
     "traceback": [
      "\u001b[0;31m---------------------------------------------------------------------------\u001b[0m",
      "\u001b[0;31mTypeError\u001b[0m                                 Traceback (most recent call last)",
      "Cell \u001b[0;32mIn[35], line 1\u001b[0m\n\u001b[0;32m----> 1\u001b[0m \u001b[43ml\u001b[49m\u001b[38;5;241;43m.\u001b[39;49m\u001b[43msort\u001b[49m\u001b[43m(\u001b[49m\u001b[43m)\u001b[49m\n",
      "\u001b[0;31mTypeError\u001b[0m: '<' not supported between instances of 'str' and 'int'"
     ]
    }
   ],
   "source": [
    "l.sort()"
   ]
  },
  {
   "cell_type": "code",
   "execution_count": 36,
   "id": "ce78178b-2691-45d9-abfb-1cf62d5138a4",
   "metadata": {},
   "outputs": [],
   "source": [
    "l1 = [2,9,8,3,1,4,6,7,15,25,65,44,789]"
   ]
  },
  {
   "cell_type": "code",
   "execution_count": 37,
   "id": "5169ce9f-0439-4d82-b4bb-02383ea44393",
   "metadata": {},
   "outputs": [],
   "source": [
    "l1.sort()"
   ]
  },
  {
   "cell_type": "code",
   "execution_count": 38,
   "id": "d0991610-027e-40af-a30e-ccf587b84eb7",
   "metadata": {},
   "outputs": [
    {
     "data": {
      "text/plain": [
       "[1, 2, 3, 4, 6, 7, 8, 9, 15, 25, 44, 65, 789]"
      ]
     },
     "execution_count": 38,
     "metadata": {},
     "output_type": "execute_result"
    }
   ],
   "source": [
    "l1"
   ]
  },
  {
   "cell_type": "code",
   "execution_count": 39,
   "id": "172e296f-fecf-421f-b5f7-9290aa08cf6b",
   "metadata": {},
   "outputs": [],
   "source": [
    "l2 = ['i','e','k','g','a','h']"
   ]
  },
  {
   "cell_type": "code",
   "execution_count": 40,
   "id": "19d648db-0253-48aa-b02e-a77bd236592c",
   "metadata": {},
   "outputs": [],
   "source": [
    "l2.sort()"
   ]
  },
  {
   "cell_type": "code",
   "execution_count": 41,
   "id": "57c726c4-b50c-4869-aef0-f796505e7fae",
   "metadata": {},
   "outputs": [
    {
     "data": {
      "text/plain": [
       "['a', 'e', 'g', 'h', 'i', 'k']"
      ]
     },
     "execution_count": 41,
     "metadata": {},
     "output_type": "execute_result"
    }
   ],
   "source": [
    "l2"
   ]
  },
  {
   "cell_type": "code",
   "execution_count": 42,
   "id": "d29051fd-6fff-49d9-8c1c-12546173dc37",
   "metadata": {},
   "outputs": [],
   "source": [
    "l3 = [\"nikhil\",\"yash\",\"data science\",\"apple\"]"
   ]
  },
  {
   "cell_type": "code",
   "execution_count": 43,
   "id": "eeb1af48-522d-4bb0-af38-aa5cb7beb865",
   "metadata": {},
   "outputs": [
    {
     "data": {
      "text/plain": [
       "['nikhil', 'yash', 'data science', 'apple']"
      ]
     },
     "execution_count": 43,
     "metadata": {},
     "output_type": "execute_result"
    }
   ],
   "source": [
    "l3"
   ]
  },
  {
   "cell_type": "code",
   "execution_count": 44,
   "id": "d57b450b-8f6b-42b8-816f-8ae00b1cbf7a",
   "metadata": {},
   "outputs": [],
   "source": [
    "l3.sort()"
   ]
  },
  {
   "cell_type": "code",
   "execution_count": 45,
   "id": "0ca91399-cc4c-4099-80b4-a3181e3f4514",
   "metadata": {},
   "outputs": [
    {
     "data": {
      "text/plain": [
       "['apple', 'data science', 'nikhil', 'yash']"
      ]
     },
     "execution_count": 45,
     "metadata": {},
     "output_type": "execute_result"
    }
   ],
   "source": [
    "l3"
   ]
  },
  {
   "cell_type": "code",
   "execution_count": 46,
   "id": "38ed01c4-c099-4716-8b38-c7312830657f",
   "metadata": {},
   "outputs": [],
   "source": [
    "l3.sort(reverse=True)"
   ]
  },
  {
   "cell_type": "code",
   "execution_count": 47,
   "id": "73e5d05e-3fa1-451a-9519-4cda94505d61",
   "metadata": {},
   "outputs": [
    {
     "data": {
      "text/plain": [
       "['yash', 'nikhil', 'data science', 'apple']"
      ]
     },
     "execution_count": 47,
     "metadata": {},
     "output_type": "execute_result"
    }
   ],
   "source": [
    "l3"
   ]
  },
  {
   "cell_type": "code",
   "execution_count": 48,
   "id": "773210c4-7b01-414f-8c84-823fb9b8d696",
   "metadata": {},
   "outputs": [
    {
     "data": {
      "text/plain": [
       "['yash', 'nikhil', 'data science', 'apple']"
      ]
     },
     "execution_count": 48,
     "metadata": {},
     "output_type": "execute_result"
    }
   ],
   "source": [
    "l3"
   ]
  },
  {
   "cell_type": "code",
   "execution_count": 49,
   "id": "095243dd-9d1d-4f29-acab-3ddd1dd8bcfa",
   "metadata": {},
   "outputs": [
    {
     "ename": "NameError",
     "evalue": "name 'l4' is not defined",
     "output_type": "error",
     "traceback": [
      "\u001b[0;31m---------------------------------------------------------------------------\u001b[0m",
      "\u001b[0;31mNameError\u001b[0m                                 Traceback (most recent call last)",
      "Cell \u001b[0;32mIn[49], line 1\u001b[0m\n\u001b[0;32m----> 1\u001b[0m \u001b[43ml4\u001b[49m\u001b[38;5;241m.\u001b[39mindex(\u001b[38;5;124m\"\u001b[39m\u001b[38;5;124mnikhil\u001b[39m\u001b[38;5;124m\"\u001b[39m)\n",
      "\u001b[0;31mNameError\u001b[0m: name 'l4' is not defined"
     ]
    }
   ],
   "source": [
    "l4.index(\"nikhil\")"
   ]
  },
  {
   "cell_type": "code",
   "execution_count": 50,
   "id": "d320d3a0-79c4-4fff-a0a9-7b59bcf5bc0d",
   "metadata": {},
   "outputs": [
    {
     "data": {
      "text/plain": [
       "1"
      ]
     },
     "execution_count": 50,
     "metadata": {},
     "output_type": "execute_result"
    }
   ],
   "source": [
    "l3.index(\"nikhil\")# gives the first occurance"
   ]
  },
  {
   "cell_type": "code",
   "execution_count": 51,
   "id": "4f41e118-f7ab-4210-a9df-d49ef967251b",
   "metadata": {},
   "outputs": [
    {
     "data": {
      "text/plain": [
       "1"
      ]
     },
     "execution_count": 51,
     "metadata": {},
     "output_type": "execute_result"
    }
   ],
   "source": [
    "l3.count(\"apple\")# gives the frequency of occurance of the element passed"
   ]
  },
  {
   "cell_type": "code",
   "execution_count": 52,
   "id": "c5b96031-cd4f-4f2f-b3f7-10eea4600884",
   "metadata": {},
   "outputs": [],
   "source": [
    "s = \"Nikhil\""
   ]
  },
  {
   "cell_type": "code",
   "execution_count": 53,
   "id": "a0c5a3b5-4b00-4c8d-8710-24c174fc35c4",
   "metadata": {},
   "outputs": [],
   "source": [
    "l4 = [3,5,6,8]"
   ]
  },
  {
   "cell_type": "code",
   "execution_count": 54,
   "id": "8cacc90d-7bc8-42b1-a433-5d6b467141ac",
   "metadata": {},
   "outputs": [
    {
     "data": {
      "text/plain": [
       "'N'"
      ]
     },
     "execution_count": 54,
     "metadata": {},
     "output_type": "execute_result"
    }
   ],
   "source": [
    "s[0]"
   ]
  },
  {
   "cell_type": "code",
   "execution_count": 55,
   "id": "5a83c105-3233-49f4-9f48-ac1c17986307",
   "metadata": {},
   "outputs": [
    {
     "ename": "TypeError",
     "evalue": "'str' object does not support item assignment",
     "output_type": "error",
     "traceback": [
      "\u001b[0;31m---------------------------------------------------------------------------\u001b[0m",
      "\u001b[0;31mTypeError\u001b[0m                                 Traceback (most recent call last)",
      "Cell \u001b[0;32mIn[55], line 1\u001b[0m\n\u001b[0;32m----> 1\u001b[0m \u001b[43ms\u001b[49m\u001b[43m[\u001b[49m\u001b[38;5;241;43m0\u001b[39;49m\u001b[43m]\u001b[49m \u001b[38;5;241m=\u001b[39m\u001b[38;5;124m\"\u001b[39m\u001b[38;5;124ma\u001b[39m\u001b[38;5;124m\"\u001b[39m\n",
      "\u001b[0;31mTypeError\u001b[0m: 'str' object does not support item assignment"
     ]
    }
   ],
   "source": [
    "s[0] =\"a\""
   ]
  },
  {
   "cell_type": "code",
   "execution_count": 56,
   "id": "9252a6d8-cace-4d15-9fb2-c3bf29d9aa95",
   "metadata": {},
   "outputs": [
    {
     "data": {
      "text/plain": [
       "3"
      ]
     },
     "execution_count": 56,
     "metadata": {},
     "output_type": "execute_result"
    }
   ],
   "source": [
    "l4[0]"
   ]
  },
  {
   "cell_type": "code",
   "execution_count": 57,
   "id": "53b44295-177e-4110-bdad-566c5e7e10a8",
   "metadata": {},
   "outputs": [],
   "source": [
    "l[0] = 30"
   ]
  },
  {
   "cell_type": "code",
   "execution_count": 58,
   "id": "06f89c46-fd42-4472-a00c-0122b61fe9ea",
   "metadata": {},
   "outputs": [],
   "source": [
    "l4[0] = 30"
   ]
  },
  {
   "cell_type": "code",
   "execution_count": 59,
   "id": "bd016ebf-b9f4-4acc-ac4d-7949859983b9",
   "metadata": {},
   "outputs": [
    {
     "data": {
      "text/plain": [
       "[30, 5, 6, 8]"
      ]
     },
     "execution_count": 59,
     "metadata": {},
     "output_type": "execute_result"
    }
   ],
   "source": [
    "l4"
   ]
  },
  {
   "cell_type": "code",
   "execution_count": 60,
   "id": "8886cf0e-bc6c-42f3-849e-fad7aee497c9",
   "metadata": {},
   "outputs": [
    {
     "data": {
      "text/plain": [
       "'N'"
      ]
     },
     "execution_count": 60,
     "metadata": {},
     "output_type": "execute_result"
    }
   ],
   "source": [
    " s[0].format('s','a')"
   ]
  },
  {
   "cell_type": "code",
   "execution_count": 66,
   "id": "e19c6e63-76fb-45ce-8116-1a1cc620459f",
   "metadata": {},
   "outputs": [
    {
     "data": {
      "text/plain": [
       "'N'"
      ]
     },
     "execution_count": 66,
     "metadata": {},
     "output_type": "execute_result"
    }
   ],
   "source": [
    "s[0].format({'N'},{\"A\"})"
   ]
  },
  {
   "cell_type": "code",
   "execution_count": 67,
   "id": "23655884-07d8-4fe6-95fc-f5dfdb9f7c16",
   "metadata": {},
   "outputs": [
    {
     "data": {
      "text/plain": [
       "'Nikhil'"
      ]
     },
     "execution_count": 67,
     "metadata": {},
     "output_type": "execute_result"
    }
   ],
   "source": [
    "s"
   ]
  },
  {
   "cell_type": "code",
   "execution_count": 69,
   "id": "8ac8bace-b978-4c3b-b333-c6252b282b48",
   "metadata": {},
   "outputs": [
    {
     "data": {
      "text/plain": [
       "'Aikhil'"
      ]
     },
     "execution_count": 69,
     "metadata": {},
     "output_type": "execute_result"
    }
   ],
   "source": [
    "s.replace(\"N\",\"A\") #strings get mutated temporary and produces a pure new object"
   ]
  },
  {
   "cell_type": "code",
   "execution_count": 70,
   "id": "5daa7334-5a76-45cc-a127-b560b772be2a",
   "metadata": {},
   "outputs": [
    {
     "data": {
      "text/plain": [
       "'Nikhil'"
      ]
     },
     "execution_count": 70,
     "metadata": {},
     "output_type": "execute_result"
    }
   ],
   "source": [
    "s #the old string remains the same even after replace function"
   ]
  },
  {
   "cell_type": "markdown",
   "id": "2f897c86-ab4e-49af-ace4-217def807f1d",
   "metadata": {},
   "source": [
    "The string is immutable"
   ]
  },
  {
   "cell_type": "markdown",
   "id": "6b80f12f-8619-4c88-b378-4f1e723e3395",
   "metadata": {},
   "source": [
    "Tuples"
   ]
  },
  {
   "cell_type": "code",
   "execution_count": 81,
   "id": "8a3c8112-d934-448d-bfcb-5125e5d7233e",
   "metadata": {},
   "outputs": [],
   "source": [
    "t = (2,25,2.356,4+5j,False,[1,2,3],\"nikhil\")"
   ]
  },
  {
   "cell_type": "markdown",
   "id": "747bbc30-69c4-47e8-b067-12a7cdb74d65",
   "metadata": {},
   "source": [
    "Tuples are ket in round brackets\n",
    "tuples can store any type of data\n",
    "Tuple is also same as that of list"
   ]
  },
  {
   "cell_type": "code",
   "execution_count": 82,
   "id": "93ecf41e-b431-4ad0-967d-1a3af6dff225",
   "metadata": {},
   "outputs": [
    {
     "data": {
      "text/plain": [
       "(2, 25, 2.356, (4+5j), False, [1, 2, 3], 'nikhil')"
      ]
     },
     "execution_count": 82,
     "metadata": {},
     "output_type": "execute_result"
    }
   ],
   "source": [
    "t"
   ]
  },
  {
   "cell_type": "code",
   "execution_count": 83,
   "id": "3f1688fe-2722-444d-a908-263fcddb0301",
   "metadata": {},
   "outputs": [
    {
     "data": {
      "text/plain": [
       "tuple"
      ]
     },
     "execution_count": 83,
     "metadata": {},
     "output_type": "execute_result"
    }
   ],
   "source": [
    "type(t)"
   ]
  },
  {
   "cell_type": "code",
   "execution_count": 84,
   "id": "9e5657b1-197a-4b52-ba12-2e2f5d81cbf5",
   "metadata": {},
   "outputs": [
    {
     "data": {
      "text/plain": [
       "7"
      ]
     },
     "execution_count": 84,
     "metadata": {},
     "output_type": "execute_result"
    }
   ],
   "source": [
    "len(t)"
   ]
  },
  {
   "cell_type": "code",
   "execution_count": 85,
   "id": "cdb1c2fa-a15b-4f6b-8bc3-3e66e6889c4f",
   "metadata": {},
   "outputs": [
    {
     "data": {
      "text/plain": [
       "2"
      ]
     },
     "execution_count": 85,
     "metadata": {},
     "output_type": "execute_result"
    }
   ],
   "source": [
    "t[0]"
   ]
  },
  {
   "cell_type": "code",
   "execution_count": 86,
   "id": "b99b999a-ad8f-482b-9afe-769aa3c0650d",
   "metadata": {},
   "outputs": [
    {
     "data": {
      "text/plain": [
       "[1, 2, 3]"
      ]
     },
     "execution_count": 86,
     "metadata": {},
     "output_type": "execute_result"
    }
   ],
   "source": [
    "t[5]"
   ]
  },
  {
   "cell_type": "code",
   "execution_count": 87,
   "id": "737521f8-3d65-457a-825d-af511568d10b",
   "metadata": {},
   "outputs": [
    {
     "data": {
      "text/plain": [
       "'nikhil'"
      ]
     },
     "execution_count": 87,
     "metadata": {},
     "output_type": "execute_result"
    }
   ],
   "source": [
    "t[-1]"
   ]
  },
  {
   "cell_type": "code",
   "execution_count": 88,
   "id": "6c40cb69-63b3-47e7-86e8-cb3550e66f9f",
   "metadata": {},
   "outputs": [
    {
     "data": {
      "text/plain": [
       "('nikhil', [1, 2, 3], False, (4+5j), 2.356, 25, 2)"
      ]
     },
     "execution_count": 88,
     "metadata": {},
     "output_type": "execute_result"
    }
   ],
   "source": [
    "t[::-1]"
   ]
  },
  {
   "cell_type": "code",
   "execution_count": 89,
   "id": "80c86912-752d-499e-8c17-f24d9505f1cf",
   "metadata": {},
   "outputs": [
    {
     "data": {
      "text/plain": [
       "2"
      ]
     },
     "execution_count": 89,
     "metadata": {},
     "output_type": "execute_result"
    }
   ],
   "source": [
    "t[0]"
   ]
  },
  {
   "cell_type": "code",
   "execution_count": 90,
   "id": "c7f512b6-1e56-42e0-87e6-7526992a348d",
   "metadata": {},
   "outputs": [
    {
     "data": {
      "text/plain": [
       "(2, 25, 2.356, (4+5j), False, [1, 2, 3], 'nikhil')"
      ]
     },
     "execution_count": 90,
     "metadata": {},
     "output_type": "execute_result"
    }
   ],
   "source": [
    "t"
   ]
  },
  {
   "cell_type": "code",
   "execution_count": 91,
   "id": "b0d18b49-24b7-4a3b-85b0-24c7713277f9",
   "metadata": {},
   "outputs": [
    {
     "ename": "TypeError",
     "evalue": "'tuple' object does not support item assignment",
     "output_type": "error",
     "traceback": [
      "\u001b[0;31m---------------------------------------------------------------------------\u001b[0m",
      "\u001b[0;31mTypeError\u001b[0m                                 Traceback (most recent call last)",
      "Cell \u001b[0;32mIn[91], line 1\u001b[0m\n\u001b[0;32m----> 1\u001b[0m \u001b[43mt\u001b[49m\u001b[43m[\u001b[49m\u001b[38;5;241;43m0\u001b[39;49m\u001b[43m]\u001b[49m \u001b[38;5;241m=\u001b[39m \u001b[38;5;241m15\u001b[39m\n",
      "\u001b[0;31mTypeError\u001b[0m: 'tuple' object does not support item assignment"
     ]
    }
   ],
   "source": [
    "t[0] = 15"
   ]
  },
  {
   "cell_type": "markdown",
   "id": "c46006fd-f309-4ed6-bd72-ea6a26b76265",
   "metadata": {},
   "source": [
    "String and Tuples are immutable \n",
    "List are mutable"
   ]
  },
  {
   "cell_type": "markdown",
   "id": "dea21c89-0f38-48f2-a5e9-b34fe274f168",
   "metadata": {},
   "source": [
    "Tuples are used in case of Passwords storing for safety reasons."
   ]
  },
  {
   "cell_type": "code",
   "execution_count": null,
   "id": "4c225ee4-1e26-4210-8954-4146184ac7d1",
   "metadata": {},
   "outputs": [],
   "source": [
    "t[::-1]"
   ]
  },
  {
   "cell_type": "code",
   "execution_count": null,
   "id": "6367446c-a4f3-427c-85f6-64036e6f59bd",
   "metadata": {},
   "outputs": [],
   "source": [
    "t"
   ]
  },
  {
   "cell_type": "code",
   "execution_count": null,
   "id": "0793e57b-7726-4785-91a2-39b035cdf276",
   "metadata": {},
   "outputs": [],
   "source": [
    "t = (2,25,2.356,4+5j,False,[1,2,3],\"nikhil\")"
   ]
  },
  {
   "cell_type": "code",
   "execution_count": null,
   "id": "4808f7c8-c8fe-4a8b-bc67-1a0b7f5bc9e0",
   "metadata": {},
   "outputs": [],
   "source": [
    "t[::-1]"
   ]
  },
  {
   "cell_type": "code",
   "execution_count": 92,
   "id": "73ae311c-57e0-4b0a-b6cc-184ae4bbfb47",
   "metadata": {},
   "outputs": [
    {
     "data": {
      "text/plain": [
       "1"
      ]
     },
     "execution_count": 92,
     "metadata": {},
     "output_type": "execute_result"
    }
   ],
   "source": [
    "t.count(2.356)"
   ]
  },
  {
   "cell_type": "code",
   "execution_count": 93,
   "id": "5fb49c95-2ee3-4c98-be03-9c123f893cfb",
   "metadata": {},
   "outputs": [
    {
     "ename": "ValueError",
     "evalue": "tuple.index(x): x not in tuple",
     "output_type": "error",
     "traceback": [
      "\u001b[0;31m---------------------------------------------------------------------------\u001b[0m",
      "\u001b[0;31mValueError\u001b[0m                                Traceback (most recent call last)",
      "Cell \u001b[0;32mIn[93], line 1\u001b[0m\n\u001b[0;32m----> 1\u001b[0m \u001b[43mt\u001b[49m\u001b[38;5;241;43m.\u001b[39;49m\u001b[43mindex\u001b[49m\u001b[43m(\u001b[49m\u001b[38;5;241;43m5\u001b[39;49m\u001b[43m,\u001b[49m\u001b[38;5;241;43m3\u001b[39;49m\u001b[43m)\u001b[49m\n",
      "\u001b[0;31mValueError\u001b[0m: tuple.index(x): x not in tuple"
     ]
    }
   ],
   "source": [
    "t.index(5,3)"
   ]
  },
  {
   "cell_type": "code",
   "execution_count": 94,
   "id": "f7d6d1d8-c78b-49c4-9031-f074c682adae",
   "metadata": {},
   "outputs": [
    {
     "data": {
      "text/plain": [
       "4"
      ]
     },
     "execution_count": 94,
     "metadata": {},
     "output_type": "execute_result"
    }
   ],
   "source": [
    "t.index(False)"
   ]
  },
  {
   "cell_type": "markdown",
   "id": "fe0bd74c-b53e-408b-99c4-ea55092b57b9",
   "metadata": {},
   "source": [
    "SET"
   ]
  },
  {
   "cell_type": "code",
   "execution_count": 95,
   "id": "a86362ad-ad81-470e-a3bc-e5b2cf469f1a",
   "metadata": {},
   "outputs": [],
   "source": [
    "s1 ={}"
   ]
  },
  {
   "cell_type": "code",
   "execution_count": 96,
   "id": "b6e63335-76e4-4304-ae5d-b34fccf33c4c",
   "metadata": {},
   "outputs": [
    {
     "data": {
      "text/plain": [
       "dict"
      ]
     },
     "execution_count": 96,
     "metadata": {},
     "output_type": "execute_result"
    }
   ],
   "source": [
    "type(s1)"
   ]
  },
  {
   "cell_type": "markdown",
   "id": "815f2629-217d-47d8-849b-2b191818323a",
   "metadata": {},
   "source": [
    "Dictionary"
   ]
  },
  {
   "cell_type": "code",
   "execution_count": 97,
   "id": "1f4e2bed-c1d9-47e4-a022-a7d5d26f6c92",
   "metadata": {},
   "outputs": [],
   "source": [
    "s2 ={2,3,55,64,2}"
   ]
  },
  {
   "cell_type": "code",
   "execution_count": 98,
   "id": "9145e1a7-7054-4214-8c7c-972b189e7a55",
   "metadata": {},
   "outputs": [
    {
     "data": {
      "text/plain": [
       "set"
      ]
     },
     "execution_count": 98,
     "metadata": {},
     "output_type": "execute_result"
    }
   ],
   "source": [
    "type(s2)"
   ]
  },
  {
   "cell_type": "code",
   "execution_count": 102,
   "id": "4b01a5a2-370e-428a-a938-6814d00825d3",
   "metadata": {},
   "outputs": [],
   "source": [
    "s3 = {25,25.368,\"Nikhi\",486+965j,(1,2,3)}"
   ]
  },
  {
   "cell_type": "markdown",
   "id": "bb163e80-e967-40e7-b6ef-ffa8885ba4d4",
   "metadata": {},
   "source": [
    "Set only accepts immutable and primitive data type"
   ]
  },
  {
   "cell_type": "code",
   "execution_count": 108,
   "id": "47e3af23-8559-46c5-b9c8-72eea9618e68",
   "metadata": {},
   "outputs": [],
   "source": [
    "s4 = {2,5,6,3,5,1,2,4,8,2,6,65,22,31,45,2,36,2,5,63,2,51,4,\"nik\",\"Nik\"} # set contains repetative elements"
   ]
  },
  {
   "cell_type": "code",
   "execution_count": 109,
   "id": "1f33467a-e971-45fe-ac43-409a75bfff76",
   "metadata": {},
   "outputs": [],
   "source": [
    "# To get only unique elements"
   ]
  },
  {
   "cell_type": "code",
   "execution_count": 110,
   "id": "460136d5-52bb-460d-880a-f7763c431a2b",
   "metadata": {},
   "outputs": [
    {
     "data": {
      "text/plain": [
       "{1, 2, 22, 3, 31, 36, 4, 45, 5, 51, 6, 63, 65, 8, 'Nik', 'nik'}"
      ]
     },
     "execution_count": 110,
     "metadata": {},
     "output_type": "execute_result"
    }
   ],
   "source": [
    "s4"
   ]
  },
  {
   "cell_type": "markdown",
   "id": "83aaca60-f716-4679-a1c4-ab58f59161d0",
   "metadata": {},
   "source": [
    "Set gives only unique data and removes duplicate data."
   ]
  },
  {
   "cell_type": "markdown",
   "id": "1c243e33-2d70-439a-8777-bd5329a6e97a",
   "metadata": {},
   "source": [
    "Python is case senstitive hence it recognizes different case values as unique"
   ]
  },
  {
   "cell_type": "code",
   "execution_count": 111,
   "id": "cfa7d79a-2315-4d55-ad93-657bc6792feb",
   "metadata": {},
   "outputs": [],
   "source": [
    "l4 = [2,3,5,2,1,4,2,5,3,6,2,5,8,2,6]"
   ]
  },
  {
   "cell_type": "code",
   "execution_count": 113,
   "id": "7fd311d8-82c9-4dbf-b426-1c3b2b4fd353",
   "metadata": {},
   "outputs": [
    {
     "data": {
      "text/plain": [
       "[1, 2, 3, 4, 5, 6, 8]"
      ]
     },
     "execution_count": 113,
     "metadata": {},
     "output_type": "execute_result"
    }
   ],
   "source": [
    "list(set(l4))"
   ]
  },
  {
   "cell_type": "markdown",
   "id": "fcf2d3b1-97b7-4a21-b480-6ea227485c44",
   "metadata": {},
   "source": [
    "Its giving unique values and also sorting them in ascending order"
   ]
  },
  {
   "cell_type": "code",
   "execution_count": 114,
   "id": "eea30906-93f4-449d-92e3-b09b55f8d65c",
   "metadata": {},
   "outputs": [],
   "source": [
    "s5= {254,25,23,524,256,245,254,\"abc\",142}"
   ]
  },
  {
   "cell_type": "code",
   "execution_count": 115,
   "id": "826a23e1-9942-40f7-9e3a-8fff64c12731",
   "metadata": {},
   "outputs": [
    {
     "data": {
      "text/plain": [
       "{142, 23, 245, 25, 254, 256, 524, 'abc'}"
      ]
     },
     "execution_count": 115,
     "metadata": {},
     "output_type": "execute_result"
    }
   ],
   "source": [
    "s5"
   ]
  },
  {
   "cell_type": "markdown",
   "id": "94e9ac5d-2ebe-4120-9af4-40bee4d342eb",
   "metadata": {},
   "source": [
    "Set never arranges the data. it gives unordered data"
   ]
  },
  {
   "cell_type": "code",
   "execution_count": 116,
   "id": "4d41b0da-5630-4eee-b2de-9b25b5c77539",
   "metadata": {},
   "outputs": [
    {
     "ename": "TypeError",
     "evalue": "'set' object is not subscriptable",
     "output_type": "error",
     "traceback": [
      "\u001b[0;31m---------------------------------------------------------------------------\u001b[0m",
      "\u001b[0;31mTypeError\u001b[0m                                 Traceback (most recent call last)",
      "Cell \u001b[0;32mIn[116], line 1\u001b[0m\n\u001b[0;32m----> 1\u001b[0m \u001b[43ms5\u001b[49m\u001b[43m[\u001b[49m\u001b[38;5;241;43m0\u001b[39;49m\u001b[43m]\u001b[49m\n",
      "\u001b[0;31mTypeError\u001b[0m: 'set' object is not subscriptable"
     ]
    }
   ],
   "source": [
    "s5[0]"
   ]
  },
  {
   "cell_type": "code",
   "execution_count": 117,
   "id": "1ecccf7f-47c7-4c4c-8c36-74ff1fd7e3cd",
   "metadata": {},
   "outputs": [
    {
     "ename": "TypeError",
     "evalue": "'set' object is not subscriptable",
     "output_type": "error",
     "traceback": [
      "\u001b[0;31m---------------------------------------------------------------------------\u001b[0m",
      "\u001b[0;31mTypeError\u001b[0m                                 Traceback (most recent call last)",
      "Cell \u001b[0;32mIn[117], line 1\u001b[0m\n\u001b[0;32m----> 1\u001b[0m \u001b[43ms5\u001b[49m\u001b[43m[\u001b[49m\u001b[43m:\u001b[49m\u001b[43m:\u001b[49m\u001b[38;5;241;43m-\u001b[39;49m\u001b[38;5;241;43m1\u001b[39;49m\u001b[43m]\u001b[49m\n",
      "\u001b[0;31mTypeError\u001b[0m: 'set' object is not subscriptable"
     ]
    }
   ],
   "source": [
    "s5[::-1]"
   ]
  },
  {
   "cell_type": "markdown",
   "id": "ddc15740-5d93-4791-89dc-84ca017f62a2",
   "metadata": {},
   "source": [
    "In case of set the indexing and silicing operations is not available"
   ]
  },
  {
   "cell_type": "code",
   "execution_count": 118,
   "id": "9e792d58-8cd5-4ae2-8dbd-2e02a1bffa80",
   "metadata": {},
   "outputs": [
    {
     "data": {
      "text/plain": [
       "{142, 23, 245, 25, 254, 256, 524, 'abc'}"
      ]
     },
     "execution_count": 118,
     "metadata": {},
     "output_type": "execute_result"
    }
   ],
   "source": [
    "s5"
   ]
  },
  {
   "cell_type": "code",
   "execution_count": 119,
   "id": "021893b4-9e45-4d44-8119-57ce90ca9d65",
   "metadata": {},
   "outputs": [],
   "source": [
    "s5.add(4)"
   ]
  },
  {
   "cell_type": "code",
   "execution_count": 120,
   "id": "e35d0f0a-11ba-49a8-b38a-dbed1486a25f",
   "metadata": {},
   "outputs": [
    {
     "data": {
      "text/plain": [
       "{142, 23, 245, 25, 254, 256, 4, 524, 'abc'}"
      ]
     },
     "execution_count": 120,
     "metadata": {},
     "output_type": "execute_result"
    }
   ],
   "source": [
    "s5"
   ]
  },
  {
   "cell_type": "code",
   "execution_count": 121,
   "id": "3f57d2c9-d784-47a7-9003-93adbdbd6f22",
   "metadata": {},
   "outputs": [],
   "source": [
    "s5.remove(245)"
   ]
  },
  {
   "cell_type": "code",
   "execution_count": 122,
   "id": "8942db53-22cb-40a9-abb3-8f4bb9c15cf5",
   "metadata": {},
   "outputs": [
    {
     "data": {
      "text/plain": [
       "{142, 23, 25, 254, 256, 4, 524, 'abc'}"
      ]
     },
     "execution_count": 122,
     "metadata": {},
     "output_type": "execute_result"
    }
   ],
   "source": [
    "s5"
   ]
  },
  {
   "cell_type": "markdown",
   "id": "6e3bdddf-7efe-4978-8d46-e70357aa1624",
   "metadata": {},
   "source": [
    "Set uses hash value and not index value hence slicing and indexing functions are not possible"
   ]
  },
  {
   "cell_type": "code",
   "execution_count": null,
   "id": "5023c1aa-66d4-411a-9f44-0b9e8b770060",
   "metadata": {},
   "outputs": [],
   "source": []
  }
 ],
 "metadata": {
  "kernelspec": {
   "display_name": "Python 3 (ipykernel)",
   "language": "python",
   "name": "python3"
  },
  "language_info": {
   "codemirror_mode": {
    "name": "ipython",
    "version": 3
   },
   "file_extension": ".py",
   "mimetype": "text/x-python",
   "name": "python",
   "nbconvert_exporter": "python",
   "pygments_lexer": "ipython3",
   "version": "3.10.8"
  }
 },
 "nbformat": 4,
 "nbformat_minor": 5
}
