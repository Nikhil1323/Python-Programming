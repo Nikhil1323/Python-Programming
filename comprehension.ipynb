{
 "cells": [
  {
   "cell_type": "markdown",
   "id": "7a4b27fd-a9b1-4664-bdf1-ca4e9787bdd4",
   "metadata": {},
   "source": [
    "#List Comprehension Technique in case of for loops"
   ]
  },
  {
   "cell_type": "code",
   "execution_count": 1,
   "id": "cd259688-f1b1-403d-a08a-14400c0a73ea",
   "metadata": {},
   "outputs": [
    {
     "data": {
      "text/plain": [
       "[1, 4, 25, 9, 64, 49]"
      ]
     },
     "execution_count": 1,
     "metadata": {},
     "output_type": "execute_result"
    }
   ],
   "source": [
    "l = [1,2,5,3,8,7]\n",
    "l1 = []\n",
    "for i in l :\n",
    "    l1.append(i**2)\n",
    "l1"
   ]
  },
  {
   "cell_type": "code",
   "execution_count": 2,
   "id": "1a33020a-6efe-4bed-a7f8-d7c580986728",
   "metadata": {},
   "outputs": [
    {
     "data": {
      "text/plain": [
       "[1, 2, 5, 3, 8, 7]"
      ]
     },
     "execution_count": 2,
     "metadata": {},
     "output_type": "execute_result"
    }
   ],
   "source": [
    "l"
   ]
  },
  {
   "cell_type": "markdown",
   "id": "3543ce95-8343-463b-9dce-d075772a0e8c",
   "metadata": {},
   "source": [
    "#Writing the same above operation in comprehension way"
   ]
  },
  {
   "cell_type": "code",
   "execution_count": 4,
   "id": "1e5f561b-78e6-4e17-8b13-154e105601f3",
   "metadata": {},
   "outputs": [
    {
     "data": {
      "text/plain": [
       "[1, 4, 25, 9, 64, 49]"
      ]
     },
     "execution_count": 4,
     "metadata": {},
     "output_type": "execute_result"
    }
   ],
   "source": [
    "[i**2 for i in l]"
   ]
  },
  {
   "cell_type": "markdown",
   "id": "45ba8869-74d7-453d-b6f1-3b393b392b2b",
   "metadata": {},
   "source": [
    "#To get the elements that are even"
   ]
  },
  {
   "cell_type": "code",
   "execution_count": 6,
   "id": "b6799e7d-49d3-4daf-8c4f-d0c0c65a1f80",
   "metadata": {},
   "outputs": [
    {
     "data": {
      "text/plain": [
       "[2, 8]"
      ]
     },
     "execution_count": 6,
     "metadata": {},
     "output_type": "execute_result"
    }
   ],
   "source": [
    "[i for i in l if i%2 == 0]"
   ]
  },
  {
   "cell_type": "code",
   "execution_count": 7,
   "id": "9129a654-5041-43ff-9b2c-c9979ab60e2c",
   "metadata": {},
   "outputs": [],
   "source": [
    "l1 = [\"nikhil\",\"pwskills\",\"bagul\",\"data science masters\"]"
   ]
  },
  {
   "cell_type": "code",
   "execution_count": 9,
   "id": "3e0ac6f2-665b-4794-8677-4e795acf5f0a",
   "metadata": {},
   "outputs": [
    {
     "data": {
      "text/plain": [
       "['NIKHIL', 'PWSKILLS', 'BAGUL', 'DATA SCIENCE MASTERS']"
      ]
     },
     "execution_count": 9,
     "metadata": {},
     "output_type": "execute_result"
    }
   ],
   "source": [
    "[i.upper() for i in l1]"
   ]
  },
  {
   "cell_type": "markdown",
   "id": "3be7979b-3e29-4305-b23e-c5515b3bd018",
   "metadata": {},
   "source": [
    "#Dictionary Comprehension and Tuples Comprehension"
   ]
  },
  {
   "cell_type": "code",
   "execution_count": 13,
   "id": "8af78316-a9cd-4724-ae58-24305d740a4c",
   "metadata": {},
   "outputs": [
    {
     "data": {
      "text/plain": [
       "[1, 2, 5, 3, 8, 7]"
      ]
     },
     "execution_count": 13,
     "metadata": {},
     "output_type": "execute_result"
    }
   ],
   "source": [
    "l"
   ]
  },
  {
   "cell_type": "code",
   "execution_count": 15,
   "id": "796bf949-5ecc-4729-9f64-4e2d51250f01",
   "metadata": {},
   "outputs": [
    {
     "data": {
      "text/plain": [
       "[1, 4, 25, 9, 64, 49]"
      ]
     },
     "execution_count": 15,
     "metadata": {},
     "output_type": "execute_result"
    }
   ],
   "source": [
    "list((i**2 for i in l))"
   ]
  },
  {
   "cell_type": "code",
   "execution_count": 16,
   "id": "61e8902b-5cfb-4de0-ad26-f2ae79122900",
   "metadata": {},
   "outputs": [],
   "source": [
    "d= {\"key1\":1,\"key2\":2,\"key3\":3,\"key4\":4}"
   ]
  },
  {
   "cell_type": "code",
   "execution_count": 18,
   "id": "7de834ad-fa08-4395-8df0-c31a7d7eb33e",
   "metadata": {},
   "outputs": [
    {
     "data": {
      "text/plain": [
       "{1, 4, 9, 16}"
      ]
     },
     "execution_count": 18,
     "metadata": {},
     "output_type": "execute_result"
    }
   ],
   "source": [
    "{i**2 for i in d.values()}"
   ]
  },
  {
   "cell_type": "code",
   "execution_count": 19,
   "id": "5d83630e-106b-420b-9326-d72614703e79",
   "metadata": {},
   "outputs": [
    {
     "data": {
      "text/plain": [
       "{'key1': 1, 'key2': 4, 'key3': 9, 'key4': 16}"
      ]
     },
     "execution_count": 19,
     "metadata": {},
     "output_type": "execute_result"
    }
   ],
   "source": [
    "{k:v**2 for k, v in d.items()}"
   ]
  },
  {
   "cell_type": "code",
   "execution_count": 20,
   "id": "aaa8ec01-dbf0-460a-b956-f3b75a434f5b",
   "metadata": {},
   "outputs": [
    {
     "data": {
      "text/plain": [
       "{'key1': 1, 'key2': 2, 'key3': 3, 'key4': 4}"
      ]
     },
     "execution_count": 20,
     "metadata": {},
     "output_type": "execute_result"
    }
   ],
   "source": [
    "d"
   ]
  },
  {
   "cell_type": "code",
   "execution_count": 22,
   "id": "92c6424a-8cd8-4218-82e6-d5db6f928a86",
   "metadata": {},
   "outputs": [
    {
     "data": {
      "text/plain": [
       "{'key2': 2, 'key3': 3, 'key4': 4}"
      ]
     },
     "execution_count": 22,
     "metadata": {},
     "output_type": "execute_result"
    }
   ],
   "source": [
    "{k:v for k, v in d.items() if v >1}"
   ]
  },
  {
   "cell_type": "code",
   "execution_count": null,
   "id": "14c0ff1a-cad6-40ef-977b-936a0e748e03",
   "metadata": {},
   "outputs": [],
   "source": []
  }
 ],
 "metadata": {
  "kernelspec": {
   "display_name": "Python 3 (ipykernel)",
   "language": "python",
   "name": "python3"
  },
  "language_info": {
   "codemirror_mode": {
    "name": "ipython",
    "version": 3
   },
   "file_extension": ".py",
   "mimetype": "text/x-python",
   "name": "python",
   "nbconvert_exporter": "python",
   "pygments_lexer": "ipython3",
   "version": "3.10.8"
  }
 },
 "nbformat": 4,
 "nbformat_minor": 5
}
