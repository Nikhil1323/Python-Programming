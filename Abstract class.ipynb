{
 "cells": [
  {
   "cell_type": "markdown",
   "id": "92ad7d53-fc7c-4601-9b2e-659f8adbfe49",
   "metadata": {},
   "source": [
    "#ABSTRACT CLASS"
   ]
  },
  {
   "cell_type": "markdown",
   "id": "bb4115d2-bb94-4a66-aac0-bf9f77e9c34e",
   "metadata": {},
   "source": [
    "ABSTRACT CLASS IS USED IN THE SKELETON STAGE OR BLUEPRINT OF THE PROJECT"
   ]
  },
  {
   "cell_type": "code",
   "execution_count": 2,
   "id": "aa5323f8-2341-4ba0-b1ef-49b6912caf2e",
   "metadata": {},
   "outputs": [],
   "source": [
    "import abc\n",
    "class pwskills:\n",
    "    @abc.abstractmethod\n",
    "    def students_details(self):\n",
    "        pass\n",
    "    @abc.abstractmethod\n",
    "    def students_assignment(self):\n",
    "        pass\n",
    "    @abc.abstractmethod\n",
    "    def student_marks(self):\n",
    "        pass"
   ]
  },
  {
   "cell_type": "code",
   "execution_count": 3,
   "id": "64b9731e-2d23-4766-a7d9-de93be31455c",
   "metadata": {},
   "outputs": [],
   "source": [
    "class student_details(pwskills):\n",
    "    def students_details(self):\n",
    "        return \"This is a method for taking students details\"\n",
    "    def students_assignment(self):\n",
    "        return \"This is a method for assignment details for a particular student\""
   ]
  },
  {
   "cell_type": "code",
   "execution_count": 4,
   "id": "c2daebf8-fd61-4160-b73c-994c6cedd46b",
   "metadata": {},
   "outputs": [],
   "source": [
    "class data_science_masters(pwskills):\n",
    "    def students_details(self):\n",
    "        return \"This will return a student detail for data science masters\"\n",
    "    def students_assignment(self):\n",
    "        return \"This is a method for assignment details for a particluar student\""
   ]
  },
  {
   "cell_type": "code",
   "execution_count": 5,
   "id": "4bc06476-9993-45e8-8e77-ecb8eb302640",
   "metadata": {},
   "outputs": [
    {
     "data": {
      "text/plain": [
       "'This will return a student detail for data science masters'"
      ]
     },
     "execution_count": 5,
     "metadata": {},
     "output_type": "execute_result"
    }
   ],
   "source": [
    "dsm = data_science_masters()\n",
    "dsm.students_details()"
   ]
  },
  {
   "cell_type": "code",
   "execution_count": 8,
   "id": "772ee26f-d9f8-4d55-a90e-8affd2cb2ed9",
   "metadata": {},
   "outputs": [
    {
     "data": {
      "text/plain": [
       "'This is a method for taking students details'"
      ]
     },
     "execution_count": 8,
     "metadata": {},
     "output_type": "execute_result"
    }
   ],
   "source": [
    "sd = student_details()\n",
    "sd.students_details()"
   ]
  },
  {
   "cell_type": "code",
   "execution_count": null,
   "id": "19ac5717-f613-4d44-ba97-fd2b22a7011f",
   "metadata": {},
   "outputs": [],
   "source": []
  }
 ],
 "metadata": {
  "kernelspec": {
   "display_name": "Python 3 (ipykernel)",
   "language": "python",
   "name": "python3"
  },
  "language_info": {
   "codemirror_mode": {
    "name": "ipython",
    "version": 3
   },
   "file_extension": ".py",
   "mimetype": "text/x-python",
   "name": "python",
   "nbconvert_exporter": "python",
   "pygments_lexer": "ipython3",
   "version": "3.10.8"
  }
 },
 "nbformat": 4,
 "nbformat_minor": 5
}
