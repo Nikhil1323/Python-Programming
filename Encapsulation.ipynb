{
 "cells": [
  {
   "cell_type": "markdown",
   "id": "d416e503-de32-430a-9252-79bdccc945f0",
   "metadata": {},
   "source": [
    "#ENCAPSULATION"
   ]
  },
  {
   "cell_type": "markdown",
   "id": "1790a239-50cb-4c17-a736-cbacaf71a09a",
   "metadata": {},
   "source": [
    "Encapsulation is a wrapper that protects and hides the objects and composition of our class"
   ]
  },
  {
   "cell_type": "code",
   "execution_count": 1,
   "id": "a469a99d-206a-4cf5-852d-990be623c417",
   "metadata": {},
   "outputs": [],
   "source": [
    "class test:\n",
    "    def __init__(self, a,b):\n",
    "        self.a = a\n",
    "        self.b = b"
   ]
  },
  {
   "cell_type": "code",
   "execution_count": 2,
   "id": "499de9f7-8612-469d-bea3-e1be9d08d9fd",
   "metadata": {},
   "outputs": [],
   "source": [
    "t = test(23,34)"
   ]
  },
  {
   "cell_type": "code",
   "execution_count": 3,
   "id": "5d051079-e5be-4793-ba9e-6b33ff50b038",
   "metadata": {},
   "outputs": [],
   "source": [
    "t.a = 2345345"
   ]
  },
  {
   "cell_type": "code",
   "execution_count": 4,
   "id": "6b5618ab-ed71-41c9-b205-d074bd6370dc",
   "metadata": {},
   "outputs": [
    {
     "data": {
      "text/plain": [
       "2345345"
      ]
     },
     "execution_count": 4,
     "metadata": {},
     "output_type": "execute_result"
    }
   ],
   "source": [
    "t."
   ]
  },
  {
   "cell_type": "code",
   "execution_count": 19,
   "id": "1b2cf5d7-f737-43c1-91d0-3fa02fede637",
   "metadata": {},
   "outputs": [],
   "source": [
    "#Double underscore is used to indicate the compiler that the variable/object needs to be protected\n",
    "class car:\n",
    "    def __init__(self, year, make, model, speed):\n",
    "        self.__year = year\n",
    "        self.__make = make\n",
    "        self.__model = model\n",
    "        self.__speed = 0\n",
    "        \n",
    "    def set_speed(self,speed):\n",
    "        self.__speed = 0 if speed <0 else speed\n",
    "        \n",
    "    def get_speed(self):\n",
    "        return self.__speed"
   ]
  },
  {
   "cell_type": "code",
   "execution_count": 20,
   "id": "190c769c-022d-479a-a640-d117a347f760",
   "metadata": {},
   "outputs": [],
   "source": [
    "t = car(2021,\"Toyota\",\"Innova\",12)"
   ]
  },
  {
   "cell_type": "code",
   "execution_count": 21,
   "id": "61d11536-7115-45aa-9ebd-f81fa94265f4",
   "metadata": {},
   "outputs": [
    {
     "data": {
      "text/plain": [
       "2021"
      ]
     },
     "execution_count": 21,
     "metadata": {},
     "output_type": "execute_result"
    }
   ],
   "source": [
    "#Here after typing c and . when we press tab we do not any suggestion as the compiler hides it\n",
    "t._car__year\n",
    "# to call the variable we need to use object dot single underscore class name double underscore then the name of variable"
   ]
  },
  {
   "cell_type": "code",
   "execution_count": 22,
   "id": "5774a767-83d0-4cc8-a477-8e93dfecfb91",
   "metadata": {},
   "outputs": [],
   "source": [
    "t.set_speed(-3545)"
   ]
  },
  {
   "cell_type": "code",
   "execution_count": 23,
   "id": "5e7f5ae4-d1a4-4242-9ad3-694cc31b582e",
   "metadata": {},
   "outputs": [
    {
     "data": {
      "text/plain": [
       "0"
      ]
     },
     "execution_count": 23,
     "metadata": {},
     "output_type": "execute_result"
    }
   ],
   "source": [
    "t.get_speed()"
   ]
  },
  {
   "cell_type": "code",
   "execution_count": 24,
   "id": "79375689-264f-4225-b0ab-4f9fe6561037",
   "metadata": {},
   "outputs": [],
   "source": [
    "t.set_speed(256)"
   ]
  },
  {
   "cell_type": "code",
   "execution_count": 25,
   "id": "b4006d74-4d80-4de6-91cc-23b5c1b5b5fe",
   "metadata": {},
   "outputs": [
    {
     "data": {
      "text/plain": [
       "256"
      ]
     },
     "execution_count": 25,
     "metadata": {},
     "output_type": "execute_result"
    }
   ],
   "source": [
    "t.get_speed()"
   ]
  },
  {
   "cell_type": "code",
   "execution_count": 27,
   "id": "3c967372-2984-4031-84dd-4c04a93f40a7",
   "metadata": {},
   "outputs": [],
   "source": [
    "class bank_account:\n",
    "    def __init__(self,balance):\n",
    "        self.__balance = balance\n",
    "        \n",
    "    def deposit(self, amount):\n",
    "        self.__balance = self.__balance + amount\n",
    "        \n",
    "    def withdraw(self, amount):\n",
    "        if self.__balance >= amount:\n",
    "            self.__balance = self.__balance - amount\n",
    "            return True\n",
    "        else :\n",
    "            return False\n",
    "    def get_balance(self):\n",
    "        return self.__balance"
   ]
  },
  {
   "cell_type": "code",
   "execution_count": 28,
   "id": "5b769efb-0aa5-43dd-b476-c021d232981b",
   "metadata": {},
   "outputs": [],
   "source": [
    "nik = bank_account(1000)"
   ]
  },
  {
   "cell_type": "code",
   "execution_count": 29,
   "id": "81b75859-b64d-45cc-8fd4-fb5fa1efdb2f",
   "metadata": {},
   "outputs": [
    {
     "data": {
      "text/plain": [
       "1000"
      ]
     },
     "execution_count": 29,
     "metadata": {},
     "output_type": "execute_result"
    }
   ],
   "source": [
    "nik.get_balance()"
   ]
  },
  {
   "cell_type": "code",
   "execution_count": 30,
   "id": "32053c5d-9f4b-45d3-b07f-c82f950bf880",
   "metadata": {},
   "outputs": [],
   "source": [
    "nik.deposit(5000)"
   ]
  },
  {
   "cell_type": "code",
   "execution_count": 31,
   "id": "e80a48ef-5e57-46ae-b28a-9b04225958b3",
   "metadata": {},
   "outputs": [
    {
     "data": {
      "text/plain": [
       "6000"
      ]
     },
     "execution_count": 31,
     "metadata": {},
     "output_type": "execute_result"
    }
   ],
   "source": [
    "nik.get_balance()"
   ]
  },
  {
   "cell_type": "code",
   "execution_count": 32,
   "id": "9fe8826e-57c7-4a1a-a8f2-0686bcc65edd",
   "metadata": {},
   "outputs": [],
   "source": [
    "nik.deposit(1000)"
   ]
  },
  {
   "cell_type": "code",
   "execution_count": 33,
   "id": "d45d90e1-d0d5-48eb-bb53-801b380bb4df",
   "metadata": {},
   "outputs": [
    {
     "data": {
      "text/plain": [
       "7000"
      ]
     },
     "execution_count": 33,
     "metadata": {},
     "output_type": "execute_result"
    }
   ],
   "source": [
    "nik.get_balance()"
   ]
  },
  {
   "cell_type": "code",
   "execution_count": 34,
   "id": "5bd7136c-da6f-4e56-a933-a3378018d697",
   "metadata": {},
   "outputs": [
    {
     "data": {
      "text/plain": [
       "False"
      ]
     },
     "execution_count": 34,
     "metadata": {},
     "output_type": "execute_result"
    }
   ],
   "source": [
    "nik.withdraw(9000)"
   ]
  },
  {
   "cell_type": "code",
   "execution_count": 35,
   "id": "41c7bfac-5879-400a-936a-8478e8c21889",
   "metadata": {},
   "outputs": [
    {
     "data": {
      "text/plain": [
       "True"
      ]
     },
     "execution_count": 35,
     "metadata": {},
     "output_type": "execute_result"
    }
   ],
   "source": [
    "nik.withdraw(2000)"
   ]
  },
  {
   "cell_type": "code",
   "execution_count": 36,
   "id": "496ce88e-fe37-4db0-bc7f-0acc879b6e91",
   "metadata": {},
   "outputs": [
    {
     "data": {
      "text/plain": [
       "5000"
      ]
     },
     "execution_count": 36,
     "metadata": {},
     "output_type": "execute_result"
    }
   ],
   "source": [
    "nik.get_balance()"
   ]
  },
  {
   "cell_type": "code",
   "execution_count": null,
   "id": "63d3cebc-d971-4c63-aeca-fd7d75b951d9",
   "metadata": {},
   "outputs": [],
   "source": []
  }
 ],
 "metadata": {
  "kernelspec": {
   "display_name": "Python 3 (ipykernel)",
   "language": "python",
   "name": "python3"
  },
  "language_info": {
   "codemirror_mode": {
    "name": "ipython",
    "version": 3
   },
   "file_extension": ".py",
   "mimetype": "text/x-python",
   "name": "python",
   "nbconvert_exporter": "python",
   "pygments_lexer": "ipython3",
   "version": "3.10.8"
  }
 },
 "nbformat": 4,
 "nbformat_minor": 5
}
