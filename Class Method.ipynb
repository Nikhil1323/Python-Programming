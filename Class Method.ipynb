{
 "cells": [
  {
   "cell_type": "markdown",
   "id": "b4db92c4-0dfd-47c3-82cc-f5c34e5fcfe6",
   "metadata": {},
   "source": [
    "#Class Method"
   ]
  },
  {
   "cell_type": "code",
   "execution_count": 1,
   "id": "893a3317-cd37-4fb7-96ca-db0ca426625f",
   "metadata": {},
   "outputs": [],
   "source": [
    "class pwskills:\n",
    "    def __init__(self, name, email):\n",
    "        \n",
    "        self.name = name\n",
    "        self.email = email\n",
    "    \n",
    "    def students_details(self):\n",
    "        print(self.name,self.email)"
   ]
  },
  {
   "cell_type": "code",
   "execution_count": 2,
   "id": "95b1eb5c-08e2-42da-b650-3216a849afbb",
   "metadata": {},
   "outputs": [],
   "source": [
    "pw = pwskills(\"nikhil\",\"nikhil@gmail.com\")"
   ]
  },
  {
   "cell_type": "code",
   "execution_count": 3,
   "id": "ec7690ca-cd61-4dae-a6fe-d4520fa94a00",
   "metadata": {},
   "outputs": [
    {
     "data": {
      "text/plain": [
       "'nikhil'"
      ]
     },
     "execution_count": 3,
     "metadata": {},
     "output_type": "execute_result"
    }
   ],
   "source": [
    "pw.name"
   ]
  },
  {
   "cell_type": "code",
   "execution_count": 4,
   "id": "1b66c16e-301c-448f-90af-ec36bd490c8c",
   "metadata": {},
   "outputs": [
    {
     "data": {
      "text/plain": [
       "'nikhil@gmail.com'"
      ]
     },
     "execution_count": 4,
     "metadata": {},
     "output_type": "execute_result"
    }
   ],
   "source": [
    "pw.email"
   ]
  },
  {
   "cell_type": "code",
   "execution_count": 5,
   "id": "855c3819-62a1-4ceb-8024-8bcf8bb2617a",
   "metadata": {},
   "outputs": [
    {
     "name": "stdout",
     "output_type": "stream",
     "text": [
      "nikhil nikhil@gmail.com\n"
     ]
    }
   ],
   "source": [
    "pw.students_details()"
   ]
  },
  {
   "cell_type": "code",
   "execution_count": 6,
   "id": "e644b37c-f52a-4cca-b645-939db3b138cb",
   "metadata": {},
   "outputs": [],
   "source": [
    "class pwskills1:\n",
    "    def __init__(self, name, email):\n",
    "        \n",
    "        self.name = name\n",
    "        self.email = email\n",
    "        \n",
    "    @classmethod\n",
    "    def details(cls, name, email):\n",
    "        return cls(name, email)\n",
    "    \n",
    "    def students_details(self):\n",
    "        print(self.name,self.email)"
   ]
  },
  {
   "cell_type": "code",
   "execution_count": 14,
   "id": "4be7696f-0b45-4b66-b1d7-38c0bf85a125",
   "metadata": {},
   "outputs": [],
   "source": [
    "#without making object also data can be passed using the class method\n",
    "#in this method we need not access init function directly we can use the details function \n",
    "# and the data can be used in any other class method which we have created in the main class"
   ]
  },
  {
   "cell_type": "code",
   "execution_count": 15,
   "id": "af80c7aa-63d3-4bab-aec6-e1f9bf8a4c6b",
   "metadata": {},
   "outputs": [],
   "source": [
    "pw1 = pwskills1.details(\"yash\",\"yash@gmail.com\")"
   ]
  },
  {
   "cell_type": "code",
   "execution_count": 16,
   "id": "4eec3bfd-db62-41b8-851a-95b3643f0c95",
   "metadata": {},
   "outputs": [],
   "source": [
    "#here cls is a pointer to the main class pwskills1\n"
   ]
  },
  {
   "cell_type": "code",
   "execution_count": 17,
   "id": "0b0a3d57-d8a0-4c32-a64b-7dbc1dd0a7e6",
   "metadata": {},
   "outputs": [
    {
     "data": {
      "text/plain": [
       "'yash'"
      ]
     },
     "execution_count": 17,
     "metadata": {},
     "output_type": "execute_result"
    }
   ],
   "source": [
    "pw1.name"
   ]
  },
  {
   "cell_type": "code",
   "execution_count": 18,
   "id": "f613dc90-d6de-4f99-81aa-0cc4b3c44f08",
   "metadata": {},
   "outputs": [
    {
     "data": {
      "text/plain": [
       "'yash@gmail.com'"
      ]
     },
     "execution_count": 18,
     "metadata": {},
     "output_type": "execute_result"
    }
   ],
   "source": [
    "pw1.email"
   ]
  },
  {
   "cell_type": "code",
   "execution_count": 19,
   "id": "8ced821f-efed-4c21-9a36-8be8686fb89a",
   "metadata": {},
   "outputs": [
    {
     "name": "stdout",
     "output_type": "stream",
     "text": [
      "yash yash@gmail.com\n"
     ]
    }
   ],
   "source": [
    "pw1.students_details()"
   ]
  },
  {
   "cell_type": "code",
   "execution_count": 27,
   "id": "004117a2-d387-415d-862e-3f61f199d181",
   "metadata": {},
   "outputs": [],
   "source": [
    "class pwskills2:\n",
    "    \n",
    "    mobile_num = 9854625123 #here the variable is under the main class and not under any method or class or function. It is called as the class variable\n",
    "    def __init__(self, name, email):\n",
    "        \n",
    "        self.name = name\n",
    "        self.email = email\n",
    "    \n",
    "    @classmethod #Here when we create class method then even without making a object we can access it otherwise we need to create a object.\n",
    "    def change_number(cls,mobile):\n",
    "        pwskills.mobile_num = mobile\n",
    "        \n",
    "    @classmethod\n",
    "    def details(cls, name, email):\n",
    "        return cls(name, email)\n",
    "    \n",
    "    def students_details(self):\n",
    "        print(self.name,self.email,pwskills2.mobile_num)"
   ]
  },
  {
   "cell_type": "code",
   "execution_count": 28,
   "id": "d800aab5-c84b-490d-b62b-0cce56f79ef9",
   "metadata": {},
   "outputs": [],
   "source": [
    "pw_obj = pwskills2(\"nikhil\",\"nikhil@gmail.com\")"
   ]
  },
  {
   "cell_type": "code",
   "execution_count": 29,
   "id": "c23c5261-a999-46a3-98bb-77c4be4a5886",
   "metadata": {},
   "outputs": [
    {
     "name": "stdout",
     "output_type": "stream",
     "text": [
      "nikhil nikhil@gmail.com 9854625123\n"
     ]
    }
   ],
   "source": [
    "pw_obj.students_details()"
   ]
  },
  {
   "cell_type": "code",
   "execution_count": 30,
   "id": "d8cd0e4a-1719-41b2-b820-99b5a5bfe294",
   "metadata": {},
   "outputs": [],
   "source": [
    "pw = pwskills2.details(\"Yash\",\"Yash@gmail.com\")"
   ]
  },
  {
   "cell_type": "code",
   "execution_count": 31,
   "id": "d3b3fbf4-d0c9-47e2-a461-14df872c6607",
   "metadata": {},
   "outputs": [
    {
     "name": "stdout",
     "output_type": "stream",
     "text": [
      "Yash Yash@gmail.com 9854625123\n"
     ]
    }
   ],
   "source": [
    "pw.students_details()"
   ]
  },
  {
   "cell_type": "code",
   "execution_count": 22,
   "id": "22d3967a-d68e-47a6-be60-6b913023abee",
   "metadata": {},
   "outputs": [
    {
     "data": {
      "text/plain": [
       "9854625123"
      ]
     },
     "execution_count": 22,
     "metadata": {},
     "output_type": "execute_result"
    }
   ],
   "source": [
    "pwskills2.mobile_num"
   ]
  },
  {
   "cell_type": "code",
   "execution_count": 23,
   "id": "356c3327-1f90-4bea-95c9-b161713ec0e5",
   "metadata": {},
   "outputs": [],
   "source": [
    "#how to access the mobile_num inside a class method"
   ]
  },
  {
   "cell_type": "code",
   "execution_count": 25,
   "id": "643d7630-70bf-4a6a-bd7f-dc13a5f27c2c",
   "metadata": {},
   "outputs": [],
   "source": [
    "pwskills2.change_number(8564726349)"
   ]
  },
  {
   "cell_type": "code",
   "execution_count": 26,
   "id": "df53f952-d725-4bc7-a136-7d34cb2f116b",
   "metadata": {},
   "outputs": [
    {
     "data": {
      "text/plain": [
       "8564726349"
      ]
     },
     "execution_count": 26,
     "metadata": {},
     "output_type": "execute_result"
    }
   ],
   "source": [
    "pwskills.mobile_num"
   ]
  },
  {
   "cell_type": "code",
   "execution_count": 32,
   "id": "662351e8-95c6-4289-98a9-63c7198c8965",
   "metadata": {},
   "outputs": [],
   "source": [
    "class pwskills3:\n",
    "    \n",
    "    mobile_num = 9854625123 #here the variable is under the main class and not under any method or class or function. It is called as the class variable\n",
    "    def __init__(self, name, email):\n",
    "        \n",
    "        self.name = name\n",
    "        self.email = email\n",
    "    \n",
    "    @classmethod #Here when we create class method then even without making a object we can access it otherwise we need to create a object.\n",
    "    def change_number(cls,mobile):\n",
    "        pwskills.mobile_num = mobile\n",
    "        \n",
    "    @classmethod\n",
    "    def details(cls, name, email):\n",
    "        return cls(name, email)\n",
    "    \n",
    "    def students_details(self):\n",
    "        print(self.name,self.email,pwskills2.mobile_num)"
   ]
  },
  {
   "cell_type": "code",
   "execution_count": 33,
   "id": "d0c3c57f-f64a-4015-a666-d39c26a60abf",
   "metadata": {},
   "outputs": [],
   "source": [
    "def course_details(cls,course_name) :\n",
    "    print(\"Course name is \" , course_name)"
   ]
  },
  {
   "cell_type": "code",
   "execution_count": 34,
   "id": "19180fdd-b75a-404b-a9f4-369d98cae879",
   "metadata": {},
   "outputs": [],
   "source": [
    "pwskills3.course_details = classmethod(course_details) \n",
    "#Following the above step we can add a external function inside the class pwskills3 and access it."
   ]
  },
  {
   "cell_type": "code",
   "execution_count": 35,
   "id": "db40e9f6-2856-4a68-86f0-354bf02b57a1",
   "metadata": {},
   "outputs": [
    {
     "name": "stdout",
     "output_type": "stream",
     "text": [
      "Course name is  data science masters\n"
     ]
    }
   ],
   "source": [
    "pwskills3.course_details(\"data science masters\")"
   ]
  },
  {
   "cell_type": "code",
   "execution_count": 38,
   "id": "2982ca3e-621a-4398-b454-a2497d53477e",
   "metadata": {},
   "outputs": [],
   "source": [
    "def mentor(cls, list_of_mentor):\n",
    "    print(list_of_mentor)"
   ]
  },
  {
   "cell_type": "code",
   "execution_count": 39,
   "id": "fd3e9e73-c5a5-49fd-9bbc-fd8d69ad0771",
   "metadata": {},
   "outputs": [],
   "source": [
    "pwskills3.mentor = classmethod(mentor)"
   ]
  },
  {
   "cell_type": "code",
   "execution_count": 40,
   "id": "5c5e49f5-a86d-456f-8ee8-1fd5b5c1717a",
   "metadata": {},
   "outputs": [
    {
     "name": "stdout",
     "output_type": "stream",
     "text": [
      "['Sudhanshu', 'Krish Naik']\n"
     ]
    }
   ],
   "source": [
    "pwskills3.mentor([\"Sudhanshu\",\"Krish Naik\"])"
   ]
  },
  {
   "cell_type": "code",
   "execution_count": 42,
   "id": "9e2b41b8-f90f-42b7-bcf9-9c9d43d76da4",
   "metadata": {},
   "outputs": [],
   "source": [
    "class pwskills4:\n",
    "    \n",
    "    mobile_num = 9854625123 #here the variable is under the main class and not under any method or class or function. It is called as the class variable\n",
    "    def __init__(self, name, email):\n",
    "        \n",
    "        self.name = name\n",
    "        self.email = email\n",
    "    \n",
    "    @classmethod #Here when we create class method then even without making a object we can access it otherwise we need to create a object.\n",
    "    def change_number(cls,mobile):\n",
    "        pwskills.mobile_num = mobile\n",
    "        \n",
    "    @classmethod\n",
    "    def details(cls, name, email):\n",
    "        return cls(name, email)\n",
    "    \n",
    "    def students_details(self):\n",
    "        print(self.name,self.email,pwskills2.mobile_num)"
   ]
  },
  {
   "cell_type": "code",
   "execution_count": 43,
   "id": "2a0e9756-8c68-4329-8253-5967889d7f23",
   "metadata": {},
   "outputs": [],
   "source": [
    "#steps to delete a function from class "
   ]
  },
  {
   "cell_type": "code",
   "execution_count": 44,
   "id": "0106a7cb-a9a2-4c29-905c-f79be51a0c64",
   "metadata": {},
   "outputs": [],
   "source": [
    "del pwskills4.change_number"
   ]
  },
  {
   "cell_type": "code",
   "execution_count": 45,
   "id": "862fb99e-d816-4bd1-9c60-004c56179f56",
   "metadata": {},
   "outputs": [
    {
     "ename": "AttributeError",
     "evalue": "type object 'pwskills4' has no attribute 'change_number'",
     "output_type": "error",
     "traceback": [
      "\u001b[0;31m---------------------------------------------------------------------------\u001b[0m",
      "\u001b[0;31mAttributeError\u001b[0m                            Traceback (most recent call last)",
      "Cell \u001b[0;32mIn[45], line 1\u001b[0m\n\u001b[0;32m----> 1\u001b[0m \u001b[43mpwskills4\u001b[49m\u001b[38;5;241;43m.\u001b[39;49m\u001b[43mchange_number\u001b[49m(\u001b[38;5;241m458625354\u001b[39m)\n",
      "\u001b[0;31mAttributeError\u001b[0m: type object 'pwskills4' has no attribute 'change_number'"
     ]
    }
   ],
   "source": [
    "pwskills4.change_number(458625354)"
   ]
  },
  {
   "cell_type": "code",
   "execution_count": 46,
   "id": "62c958cd-2b3d-4c99-aa0a-8735c0e1a6fe",
   "metadata": {},
   "outputs": [],
   "source": [
    "delattr(pwskills4 , \"details\") # this delete attribute function is used to delete a function from the class we need to pass the name of the class and the name of the function to be deleted in the form of the string"
   ]
  },
  {
   "cell_type": "code",
   "execution_count": 49,
   "id": "4d80753c-17e8-43ee-9996-6ed0b5094d82",
   "metadata": {},
   "outputs": [],
   "source": [
    "delattr(pwskills4,\"students_details\")"
   ]
  },
  {
   "cell_type": "code",
   "execution_count": 50,
   "id": "339c1feb-bcde-4aef-92be-953baedbc3be",
   "metadata": {},
   "outputs": [],
   "source": [
    "#using delattr we can delete function which is not inside the class method as well"
   ]
  },
  {
   "cell_type": "code",
   "execution_count": 51,
   "id": "48f0f8e8-04ed-447c-bb58-2996693f2d23",
   "metadata": {},
   "outputs": [],
   "source": [
    " delattr(pwskills4, \"mobile_num\")"
   ]
  },
  {
   "cell_type": "code",
   "execution_count": null,
   "id": "4fe3a9cd-2cfb-40dc-a125-74b1afb22818",
   "metadata": {},
   "outputs": [],
   "source": [
    "##using delattr we can delete variable which is not inside the class method as well"
   ]
  }
 ],
 "metadata": {
  "kernelspec": {
   "display_name": "Python 3 (ipykernel)",
   "language": "python",
   "name": "python3"
  },
  "language_info": {
   "codemirror_mode": {
    "name": "ipython",
    "version": 3
   },
   "file_extension": ".py",
   "mimetype": "text/x-python",
   "name": "python",
   "nbconvert_exporter": "python",
   "pygments_lexer": "ipython3",
   "version": "3.10.8"
  }
 },
 "nbformat": 4,
 "nbformat_minor": 5
}
