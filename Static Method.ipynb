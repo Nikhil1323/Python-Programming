{
 "cells": [
  {
   "cell_type": "markdown",
   "id": "11ac9ef1-cdb7-450d-8ebe-fdee44ca5044",
   "metadata": {},
   "source": [
    "#STATIC METHOD"
   ]
  },
  {
   "cell_type": "code",
   "execution_count": 1,
   "id": "46588712-a15c-4cdc-b836-820d27f7453d",
   "metadata": {},
   "outputs": [],
   "source": [
    "class pwskills:\n",
    "    \n",
    "    def student_details(self, name, mail_id,phone_num):\n",
    "        print(name,mail_id,phone_num)"
   ]
  },
  {
   "cell_type": "code",
   "execution_count": 2,
   "id": "74455714-18e6-48ef-a61e-a8557a3ed560",
   "metadata": {},
   "outputs": [],
   "source": [
    "pw = pwskills()"
   ]
  },
  {
   "cell_type": "code",
   "execution_count": 3,
   "id": "debed0bc-7825-4bc5-abfa-bd3d81037bb3",
   "metadata": {},
   "outputs": [
    {
     "name": "stdout",
     "output_type": "stream",
     "text": [
      "nikhil nikhil@gmail.com 9856242351\n"
     ]
    }
   ],
   "source": [
    "pw.student_details(\"nikhil\",\"nikhil@gmail.com\",9856242351)"
   ]
  },
  {
   "cell_type": "code",
   "execution_count": 15,
   "id": "33742ebc-e255-4934-a99f-75290ecf632a",
   "metadata": {},
   "outputs": [],
   "source": [
    "#to access the function without creating an object\n",
    "class pwskills1:\n",
    "    \n",
    "    def student_details(self, name, mail_id,phone_num):\n",
    "        print(name,mail_id,phone_num)\n",
    "        \n",
    "    @staticmethod\n",
    "    def mentor_class(list_of_mentor) :\n",
    "        print(list_of_mentor)\n",
    "        \n",
    "    def mentor(self,mentor_list):\n",
    "        print(mentor_list)"
   ]
  },
  {
   "cell_type": "code",
   "execution_count": 16,
   "id": "16a0446a-7872-4d75-b4ab-b14b5bea4af9",
   "metadata": {},
   "outputs": [
    {
     "name": "stdout",
     "output_type": "stream",
     "text": [
      "['sudhanshu', 'krish']\n"
     ]
    }
   ],
   "source": [
    "pwskills1.mentor_class([\"sudhanshu\",\"krish\"])"
   ]
  },
  {
   "cell_type": "code",
   "execution_count": 21,
   "id": "66db4eeb-7b68-41c1-894c-2183cff68b9b",
   "metadata": {},
   "outputs": [],
   "source": [
    "stud1 = pwskills1()"
   ]
  },
  {
   "cell_type": "code",
   "execution_count": 22,
   "id": "0ffa1bd1-02fd-46c3-aff3-a9a48d708e7d",
   "metadata": {},
   "outputs": [],
   "source": [
    "stud2 = pwskills1()"
   ]
  },
  {
   "cell_type": "code",
   "execution_count": 23,
   "id": "da145540-d29f-4a0d-ad5a-dfca2d9c4094",
   "metadata": {},
   "outputs": [],
   "source": [
    "stud3 = pwskills1()"
   ]
  },
  {
   "cell_type": "code",
   "execution_count": 24,
   "id": "d544fbcc-3528-4ac5-81c1-8e9602816f26",
   "metadata": {},
   "outputs": [
    {
     "name": "stdout",
     "output_type": "stream",
     "text": [
      "['sudhanshu', 'krish']\n"
     ]
    }
   ],
   "source": [
    "stud1.mentor([\"sudhanshu\",\"krish\"])"
   ]
  },
  {
   "cell_type": "code",
   "execution_count": null,
   "id": "121c22fc-e74d-4b72-b0ee-6bcaed0bf67a",
   "metadata": {},
   "outputs": [],
   "source": [
    "when we create object for a function the function repeats that number of times \n",
    "consumes that much space\n",
    "so it is better we declare staticmethod so that we need not create object and the corresponding function duplication is avoided\n",
    "we can directly access the static method function with the name of the class associated to it without creating an object."
   ]
  },
  {
   "cell_type": "code",
   "execution_count": 37,
   "id": "28bf9d5f-1211-4c38-a81e-640781601714",
   "metadata": {},
   "outputs": [],
   "source": [
    "#How to use static method inside a class method or instance method\n",
    "class pwskills2:\n",
    "    \n",
    "    def student_details(self, name, mail_id,phone_num):\n",
    "        print(name,mail_id,phone_num)\n",
    "        \n",
    "    @staticmethod\n",
    "    def mentor_mail_id(mail_id_mentor):\n",
    "        print(mail_id_mentor)\n",
    "        \n",
    "    @staticmethod\n",
    "    def mentor_class(list_of_mentor) :\n",
    "        pwskills2.mentor_mail_id([\"sudhanshu@gmail.com\",\"krish@gmail.com\"]) # to call a static_method inside a static method we use the \n",
    "        print(list_of_mentor)                                                  #name of the main class.name_of_static_method\n",
    "        \n",
    "    @classmethod\n",
    "    def class_name(cls):\n",
    "        cls.mentor_class([\"sudhanshu\", \"krish\"]) # to call static class inside a classmethod we use cls.name_of_static_class\n",
    "        \n",
    "    def mentor(self,mentor_list):  #This is an instance method  #to acess this instance class we need to make an object\n",
    "        print(mentor_list)\n",
    "        self.mentor_class([\"sudhanshu\", \"krish\"])"
   ]
  },
  {
   "cell_type": "code",
   "execution_count": 36,
   "id": "a2d5dfe8-0354-48b8-8611-a4898f7e7efa",
   "metadata": {},
   "outputs": [
    {
     "name": "stdout",
     "output_type": "stream",
     "text": [
      "['sudhanshu@gmail.com', 'krish@gmail.com']\n",
      "['Sudhanshu', 'krish']\n"
     ]
    }
   ],
   "source": [
    "pwskills2.mentor_class([\"Sudhanshu\",\"krish\"])"
   ]
  },
  {
   "cell_type": "code",
   "execution_count": 38,
   "id": "2b55830e-fa11-4b10-bc71-2f7089965744",
   "metadata": {},
   "outputs": [],
   "source": [
    "pw = pwskills2()"
   ]
  },
  {
   "cell_type": "code",
   "execution_count": 39,
   "id": "a75f2814-fd2d-4cbd-b4d7-99588d87bb87",
   "metadata": {},
   "outputs": [
    {
     "name": "stdout",
     "output_type": "stream",
     "text": [
      "['Sudhanshu', 'krish']\n",
      "['sudhanshu@gmail.com', 'krish@gmail.com']\n",
      "['sudhanshu', 'krish']\n"
     ]
    }
   ],
   "source": [
    "pw.mentor([\"Sudhanshu\",\"krish\"])"
   ]
  },
  {
   "cell_type": "markdown",
   "id": "761e61eb-aa98-46eb-af6c-f2f3ef8f9c77",
   "metadata": {},
   "source": [
    "Static function is used in case of utility function or repetative function or use."
   ]
  },
  {
   "cell_type": "code",
   "execution_count": null,
   "id": "ff8d961c-59a0-48ce-b155-4136575cb839",
   "metadata": {},
   "outputs": [],
   "source": []
  }
 ],
 "metadata": {
  "kernelspec": {
   "display_name": "Python 3 (ipykernel)",
   "language": "python",
   "name": "python3"
  },
  "language_info": {
   "codemirror_mode": {
    "name": "ipython",
    "version": 3
   },
   "file_extension": ".py",
   "mimetype": "text/x-python",
   "name": "python",
   "nbconvert_exporter": "python",
   "pygments_lexer": "ipython3",
   "version": "3.10.8"
  }
 },
 "nbformat": 4,
 "nbformat_minor": 5
}
