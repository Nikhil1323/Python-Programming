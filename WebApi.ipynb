{
 "cells": [
  {
   "cell_type": "markdown",
   "id": "05117248-2797-4b58-88c4-7ffe7d7e8d98",
   "metadata": {},
   "source": [
    "#Web API"
   ]
  },
  {
   "cell_type": "markdown",
   "id": "6cfd1520-6a9e-4d03-b3d5-9d442b4571df",
   "metadata": {},
   "source": [
    "Application Programming Interface. It helps connect and interact different applications working on different platforms,\n",
    "build using different langauge."
   ]
  },
  {
   "cell_type": "markdown",
   "id": "fae4c235-78a4-4746-a5d4-5d8980886898",
   "metadata": {},
   "source": [
    "eg: google pay interacting with different banks databases or applications."
   ]
  },
  {
   "cell_type": "code",
   "execution_count": 1,
   "id": "f9a0b3b6-7fb9-4ee0-9f5c-1acb70d02fec",
   "metadata": {},
   "outputs": [],
   "source": [
    "#Difference between API and web API"
   ]
  },
  {
   "cell_type": "markdown",
   "id": "ef35b0a1-c7d2-4e18-b05d-61a1e582b877",
   "metadata": {},
   "source": [
    "Web api is made using http or tcp/ip protocol.\n",
    "examples of ammplications are gmail, google, \n",
    "\n",
    "API can be made using tcp/ip protocol. web API is subset of API. API is set of rules using which we communicate \n",
    "between two systems."
   ]
  },
  {
   "cell_type": "code",
   "execution_count": 2,
   "id": "52267b63-03e6-48a4-8c66-de6cc7f3f1e3",
   "metadata": {},
   "outputs": [],
   "source": [
    "#Rest and Soap Architecture."
   ]
  },
  {
   "cell_type": "markdown",
   "id": "5d93aea0-ae86-4763-a0b8-25249b01b386",
   "metadata": {},
   "source": [
    "In rest architecture, it is based on web api and through http protocol we transfer update delete data.\n",
    "we use put(), get(), post(), delete().\n",
    "this is used to communicate with application over the web.\n",
    "it is known for its simplicity, scalability and flexibility."
   ]
  },
  {
   "cell_type": "code",
   "execution_count": 3,
   "id": "570a0d82-08fb-4ec1-8c0c-e0f855f526f4",
   "metadata": {},
   "outputs": [],
   "source": [
    "#SOAP architecture"
   ]
  },
  {
   "cell_type": "markdown",
   "id": "16fb9d81-9228-444e-a5c7-a56cb5868b1a",
   "metadata": {},
   "source": [
    "It is XML based that is Extended MArkup Based messaging protocol. Internally xml uses WSDL(web service description language).\n",
    "It also supports http(hyper text transfer protocol), smtp(simple mail transfer protocol) and tcp/ip(Transmission control protocol)\n",
    "protocol.\n"
   ]
  },
  {
   "cell_type": "markdown",
   "id": "5a0874e7-4b52-4c18-aedb-dd8df4acbf21",
   "metadata": {},
   "source": [
    "REST is easy to use as compared to SOAP.\n",
    "Rest is stateless(It does not store the steps) and layered protocol, but provide catching(Tracking the memory steps.)\n",
    "SOAP is light weighted protocol. It cannot handle high weight transaction.\n",
    "SOAP is more secure. where security is the prime objective."
   ]
  },
  {
   "cell_type": "code",
   "execution_count": 4,
   "id": "864e0354-d497-4839-b8a2-325b0f225813",
   "metadata": {},
   "outputs": [],
   "source": [
    "#Restful Services"
   ]
  },
  {
   "cell_type": "code",
   "execution_count": null,
   "id": "595cc7eb-489e-467b-a06f-9547e723a3e7",
   "metadata": {},
   "outputs": [],
   "source": [
    "RESTful services, also known as RESTful APIs, are web services that follow the REST architectural styles.\n",
    "REST stands for Representational State Transfer, which is a set of principles for building web services that use HTTP\n",
    "(Hyper text Transfer Protocol) as the communication protocol.\n",
    "\n",
    "RESTful srvices are based on the following principles:\n",
    "\n",
    "Client-Server architecture: The client and server are seperated, allowing them to evolve independently.\n",
    "\n",
    "Stateless: Each request sent to the server contains all the information needed to complete the request. The server \n",
    "does not maintain any client context between requests.\n",
    "\n",
    "Cacheable: Responses from the server can be cached to improve the performance.\n",
    "\n",
    "Uniform Interface: RESTful services use a uniform interface consisting of resources, HTTP verbs(GET, PUT, POST, DELETE)\n",
    "and hypermedia links.\n",
    "\n",
    "Layered system: RESTful services can be composed of multiple layers, allowing for scalibility, flexibility and security. "
   ]
  }
 ],
 "metadata": {
  "kernelspec": {
   "display_name": "Python 3 (ipykernel)",
   "language": "python",
   "name": "python3"
  },
  "language_info": {
   "codemirror_mode": {
    "name": "ipython",
    "version": 3
   },
   "file_extension": ".py",
   "mimetype": "text/x-python",
   "name": "python",
   "nbconvert_exporter": "python",
   "pygments_lexer": "ipython3",
   "version": "3.10.8"
  }
 },
 "nbformat": 4,
 "nbformat_minor": 5
}
