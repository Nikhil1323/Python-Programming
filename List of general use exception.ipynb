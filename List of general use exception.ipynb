{
 "cells": [
  {
   "cell_type": "code",
   "execution_count": 1,
   "id": "dbc93136-1046-4121-94ff-671ef6d0f554",
   "metadata": {},
   "outputs": [
    {
     "name": "stdout",
     "output_type": "stream",
     "text": [
      "division by zero\n"
     ]
    }
   ],
   "source": [
    "try :\n",
    "    a = 10/0\n",
    "except ZeroDivisionError as e:\n",
    "    print(e)"
   ]
  },
  {
   "cell_type": "code",
   "execution_count": 3,
   "id": "43fa02d3-c057-4c56-8e58-191f76f7c0aa",
   "metadata": {},
   "outputs": [
    {
     "name": "stdout",
     "output_type": "stream",
     "text": [
      "invalid literal for int() with base 10: 'nikhil'\n"
     ]
    }
   ],
   "source": [
    "try :\n",
    "    int(\"nikhil\")\n",
    "except (ValueError ,TypeError) as e :\n",
    "    print(e)"
   ]
  },
  {
   "cell_type": "code",
   "execution_count": 4,
   "id": "66871efd-fb50-4081-90f5-a22bdc23adec",
   "metadata": {},
   "outputs": [
    {
     "name": "stdout",
     "output_type": "stream",
     "text": [
      "This will catch an error\n"
     ]
    }
   ],
   "source": [
    "try :\n",
    "    int(\"nikh\")\n",
    "except:\n",
    "    print(\"This will catch an error\")"
   ]
  },
  {
   "cell_type": "code",
   "execution_count": 6,
   "id": "84fafdeb-d054-434b-a94f-c570f6afa15e",
   "metadata": {},
   "outputs": [
    {
     "name": "stdout",
     "output_type": "stream",
     "text": [
      "No module named 'nikh'\n"
     ]
    },
    {
     "data": {
      "text/plain": [
       "2.5"
      ]
     },
     "execution_count": 6,
     "metadata": {},
     "output_type": "execute_result"
    }
   ],
   "source": [
    "try :\n",
    "    import nikh\n",
    "except ImportError as e:\n",
    "    print(e)\n",
    "10/4"
   ]
  },
  {
   "cell_type": "code",
   "execution_count": 7,
   "id": "588cc4b3-e4c5-4928-b820-0af792fbc95f",
   "metadata": {},
   "outputs": [
    {
     "name": "stdout",
     "output_type": "stream",
     "text": [
      "'key2'\n"
     ]
    }
   ],
   "source": [
    "try :\n",
    "    d = {\"key\" : \"nikhil\", 1 : [2,3,4,5]}\n",
    "    print(d[\"key2\"])\n",
    "except KeyError as e :\n",
    "    print(e)"
   ]
  },
  {
   "cell_type": "code",
   "execution_count": 9,
   "id": "830da861-e9cd-4391-985c-0b7c10a6e7c4",
   "metadata": {},
   "outputs": [
    {
     "name": "stdout",
     "output_type": "stream",
     "text": [
      "'str' object has no attribute 'test'\n"
     ]
    }
   ],
   "source": [
    "try :\n",
    "    \"nik\".test()\n",
    "except AttributeError as e:\n",
    "    print(e)"
   ]
  },
  {
   "cell_type": "code",
   "execution_count": 10,
   "id": "7a5eb844-0dc8-49c9-a65e-363bcf05fb5f",
   "metadata": {},
   "outputs": [
    {
     "name": "stdout",
     "output_type": "stream",
     "text": [
      "list index out of range\n"
     ]
    }
   ],
   "source": [
    "try :\n",
    "    l = [2,3,4,5]\n",
    "    print(l[6])\n",
    "except IndexError as e:\n",
    "    print(e)"
   ]
  },
  {
   "cell_type": "code",
   "execution_count": 11,
   "id": "4565cc14-7e12-48a0-abd8-78effddd4e31",
   "metadata": {},
   "outputs": [
    {
     "name": "stdout",
     "output_type": "stream",
     "text": [
      "unsupported operand type(s) for +: 'int' and 'str'\n"
     ]
    }
   ],
   "source": [
    "try :\n",
    "    123 + \"nikh\"\n",
    "except TypeError as e:\n",
    "    print(e)"
   ]
  },
  {
   "cell_type": "code",
   "execution_count": 12,
   "id": "cca464af-54f5-426e-9a7a-88a266b2f1f9",
   "metadata": {},
   "outputs": [
    {
     "name": "stdout",
     "output_type": "stream",
     "text": [
      "[Errno 2] No such file or directory: 'test1.txt'\n"
     ]
    }
   ],
   "source": [
    "try :\n",
    "    with open(\"test1.txt\",'r') as f:\n",
    "        test1 = f.read()\n",
    "except FileNotFoundError as e:\n",
    "    print(e)"
   ]
  },
  {
   "cell_type": "code",
   "execution_count": 14,
   "id": "9d50b38d-d7e6-4715-ac9f-dd01cd7f0688",
   "metadata": {},
   "outputs": [
    {
     "data": {
      "text/plain": [
       "['__cause__',\n",
       " '__class__',\n",
       " '__context__',\n",
       " '__delattr__',\n",
       " '__dict__',\n",
       " '__dir__',\n",
       " '__doc__',\n",
       " '__eq__',\n",
       " '__format__',\n",
       " '__ge__',\n",
       " '__getattribute__',\n",
       " '__gt__',\n",
       " '__hash__',\n",
       " '__init__',\n",
       " '__init_subclass__',\n",
       " '__le__',\n",
       " '__lt__',\n",
       " '__ne__',\n",
       " '__new__',\n",
       " '__reduce__',\n",
       " '__reduce_ex__',\n",
       " '__repr__',\n",
       " '__setattr__',\n",
       " '__setstate__',\n",
       " '__sizeof__',\n",
       " '__str__',\n",
       " '__subclasshook__',\n",
       " '__suppress_context__',\n",
       " '__traceback__',\n",
       " 'args',\n",
       " 'with_traceback']"
      ]
     },
     "execution_count": 14,
     "metadata": {},
     "output_type": "execute_result"
    }
   ],
   "source": [
    "dir(Exception)"
   ]
  },
  {
   "cell_type": "code",
   "execution_count": 15,
   "id": "d2c1a630-3201-4483-a32f-903b4fd81e8b",
   "metadata": {},
   "outputs": [
    {
     "name": "stdout",
     "output_type": "stream",
     "text": [
      "[Errno 2] No such file or directory: 'test1.txt'\n"
     ]
    }
   ],
   "source": [
    "try :\n",
    "    with open(\"test1.txt\",'r') as f:\n",
    "        test1 = f.read()\n",
    "except Exception as e: # never write generic exception on the top of exception handling list\n",
    "    print(e)\n",
    "except FileNotFoundError as e:\n",
    "    print(\"test \", e)"
   ]
  },
  {
   "cell_type": "code",
   "execution_count": 16,
   "id": "7805a267-382d-4b79-9d84-1b8933203f81",
   "metadata": {},
   "outputs": [],
   "source": [
    "def test(file):\n",
    "    \n",
    "    try :\n",
    "        with open(file ,'r') as f:\n",
    "            test1 = f.read()\n",
    "    except Exception as e: # never write generic exception on the top of exception handling list\n",
    "        print(e)\n",
    "    except FileNotFoundError as e:\n",
    "        print(\"test \", e)"
   ]
  },
  {
   "cell_type": "code",
   "execution_count": null,
   "id": "b8187152-53b8-4030-9503-e5fc9b11e0fe",
   "metadata": {},
   "outputs": [],
   "source": []
  }
 ],
 "metadata": {
  "kernelspec": {
   "display_name": "Python 3 (ipykernel)",
   "language": "python",
   "name": "python3"
  },
  "language_info": {
   "codemirror_mode": {
    "name": "ipython",
    "version": 3
   },
   "file_extension": ".py",
   "mimetype": "text/x-python",
   "name": "python",
   "nbconvert_exporter": "python",
   "pygments_lexer": "ipython3",
   "version": "3.10.8"
  }
 },
 "nbformat": 4,
 "nbformat_minor": 5
}
