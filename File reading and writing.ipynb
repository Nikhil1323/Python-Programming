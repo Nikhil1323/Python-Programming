{
 "cells": [
  {
   "cell_type": "code",
   "execution_count": 1,
   "id": "d832b4f8-4c3c-4804-ba78-64f87aa6d6e7",
   "metadata": {},
   "outputs": [],
   "source": [
    "data = {\n",
    "    \"name\" : \"nikhil\",\n",
    "    \"mail_id\" :\"nikhil@gmail.com\",\n",
    "    \"phone_number\" : 9856425314,\n",
    "    \"subject\" : [\"data science\", \"big data\", \"data analytics\"]\n",
    "}"
   ]
  },
  {
   "cell_type": "markdown",
   "id": "14daa0bf-b08e-4d35-a91c-f4722b85f6cf",
   "metadata": {},
   "source": [
    "The above data set is also knows as json data set. JSON = javascript object notification where data is created in key value pair."
   ]
  },
  {
   "cell_type": "code",
   "execution_count": 2,
   "id": "8ab6ea39-3a2c-43e6-b8a7-5976573d2a5e",
   "metadata": {},
   "outputs": [],
   "source": [
    "import json"
   ]
  },
  {
   "cell_type": "code",
   "execution_count": 3,
   "id": "89c13f76-337d-4e21-9a33-dda9290cdd4c",
   "metadata": {},
   "outputs": [],
   "source": [
    "with open(\"data.json\",'w') as f:\n",
    "    json.dump(data,f) # json .dump is used to perform write operation"
   ]
  },
  {
   "cell_type": "markdown",
   "id": "4d10d564-c5ba-4b9c-bec8-8405a3d63083",
   "metadata": {},
   "source": [
    "Key and value pair is written in the format of key and value pair"
   ]
  },
  {
   "cell_type": "code",
   "execution_count": 4,
   "id": "0c2e7ff8-02e9-4c18-b0a8-18dcf09f44ca",
   "metadata": {},
   "outputs": [],
   "source": [
    "with open(\"data.json\",'r') as f:\n",
    "    data1 =json.load(f) #json.load is used to perform read operation"
   ]
  },
  {
   "cell_type": "code",
   "execution_count": 5,
   "id": "573bc116-d30a-4f67-88de-066808fcf04e",
   "metadata": {},
   "outputs": [
    {
     "data": {
      "text/plain": [
       "{'name': 'nikhil',\n",
       " 'mail_id': 'nikhil@gmail.com',\n",
       " 'phone_number': 9856425314,\n",
       " 'subject': ['data science', 'big data', 'data analytics']}"
      ]
     },
     "execution_count": 5,
     "metadata": {},
     "output_type": "execute_result"
    }
   ],
   "source": [
    "data1"
   ]
  },
  {
   "cell_type": "code",
   "execution_count": 6,
   "id": "696794b9-a89d-4cd0-b547-ffc6b694516e",
   "metadata": {},
   "outputs": [
    {
     "data": {
      "text/plain": [
       "'big data'"
      ]
     },
     "execution_count": 6,
     "metadata": {},
     "output_type": "execute_result"
    }
   ],
   "source": [
    "data1['subject'][1]"
   ]
  },
  {
   "cell_type": "code",
   "execution_count": 7,
   "id": "7258e1b6-c7c6-4d46-b750-4e8dcb91c83b",
   "metadata": {},
   "outputs": [],
   "source": [
    "#csv means comma seperated files."
   ]
  },
  {
   "cell_type": "code",
   "execution_count": 8,
   "id": "7b5bef74-5a13-4712-b8f3-f93a9bf05e33",
   "metadata": {},
   "outputs": [],
   "source": [
    "import csv"
   ]
  },
  {
   "cell_type": "code",
   "execution_count": 9,
   "id": "4c8023a2-4631-4a0a-8b07-15ba2141b409",
   "metadata": {},
   "outputs": [],
   "source": [
    "data =[[\"name\", \"email_id\" , \"phone_number\"],\n",
    "       [\"nikhil\", \"nikhil@gmail.com\", 8964586425],\n",
    "       [\"yash\",\"yash@gmail.com\", 8546632514]\n",
    "]"
   ]
  },
  {
   "cell_type": "code",
   "execution_count": 10,
   "id": "a6a325ca-666c-4688-a2f3-f417d7a9559a",
   "metadata": {},
   "outputs": [],
   "source": [
    "with open(\"data.csv\",'w') as f :\n",
    "    writer = csv.writer(f)\n",
    "    \n",
    "    for i in data:\n",
    "        writer.writerow(i)\n",
    "        "
   ]
  },
  {
   "cell_type": "code",
   "execution_count": 11,
   "id": "0671a57f-6b23-41c9-bf13-1672520c7d75",
   "metadata": {},
   "outputs": [
    {
     "name": "stdout",
     "output_type": "stream",
     "text": [
      "['name', 'enami_id', 'phone_number']\n",
      "['nikhil', 'nikhil@gmail.com', '8964586425']\n",
      "['yash', 'yash@gmail.com', '8546632514']\n"
     ]
    }
   ],
   "source": [
    "with open(\"data.csv\",'r') as f:\n",
    "    read_data = csv.reader(f)\n",
    "    \n",
    "    for i in read_data:\n",
    "        print(i)\n",
    "        "
   ]
  },
  {
   "cell_type": "code",
   "execution_count": 13,
   "id": "26cb14e8-af00-403f-957f-0db34b92fa83",
   "metadata": {},
   "outputs": [],
   "source": [
    "#Binary data\n",
    "with open(\"test4.bin\",'wb') as f:\n",
    "    f.write(b\"\\x01\\x02\\x03\\x142253\")"
   ]
  },
  {
   "cell_type": "code",
   "execution_count": 14,
   "id": "bb2a72f1-b0b5-4182-8aac-cae2dd86b051",
   "metadata": {},
   "outputs": [
    {
     "name": "stdout",
     "output_type": "stream",
     "text": [
      "b'\\x01\\x02\\x03\\x142253'\n"
     ]
    }
   ],
   "source": [
    "with open(\"test4.bin\",\"rb\") as f:\n",
    "    print(f.read())"
   ]
  },
  {
   "cell_type": "code",
   "execution_count": null,
   "id": "ff8c7e8b-5991-4072-8fb9-5ae6b2cac654",
   "metadata": {},
   "outputs": [],
   "source": []
  }
 ],
 "metadata": {
  "kernelspec": {
   "display_name": "Python 3 (ipykernel)",
   "language": "python",
   "name": "python3"
  },
  "language_info": {
   "codemirror_mode": {
    "name": "ipython",
    "version": 3
   },
   "file_extension": ".py",
   "mimetype": "text/x-python",
   "name": "python",
   "nbconvert_exporter": "python",
   "pygments_lexer": "ipython3",
   "version": "3.10.8"
  }
 },
 "nbformat": 4,
 "nbformat_minor": 5
}
