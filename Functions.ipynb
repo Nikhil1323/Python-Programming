{
 "cells": [
  {
   "cell_type": "markdown",
   "id": "9cff7d30-f608-4562-aa61-5aba9c409a8f",
   "metadata": {},
   "source": [
    "#In built Functions"
   ]
  },
  {
   "cell_type": "code",
   "execution_count": 2,
   "id": "118ffef6-8971-4fe9-a7a9-6250d63dc8ae",
   "metadata": {},
   "outputs": [
    {
     "name": "stdout",
     "output_type": "stream",
     "text": [
      "This is my print\n"
     ]
    }
   ],
   "source": [
    "print(\"This is my print\")"
   ]
  },
  {
   "cell_type": "code",
   "execution_count": 4,
   "id": "f9d67cf0-d21e-42fe-aeae-ad546ce35652",
   "metadata": {},
   "outputs": [
    {
     "data": {
      "text/plain": [
       "5"
      ]
     },
     "execution_count": 4,
     "metadata": {},
     "output_type": "execute_result"
    }
   ],
   "source": [
    "l =[1,2,5,3,4]\n",
    "len(l)"
   ]
  },
  {
   "cell_type": "code",
   "execution_count": 5,
   "id": "7a923fe7-4cbc-47ba-9564-b40ce3a85942",
   "metadata": {},
   "outputs": [
    {
     "data": {
      "text/plain": [
       "list"
      ]
     },
     "execution_count": 5,
     "metadata": {},
     "output_type": "execute_result"
    }
   ],
   "source": [
    "type(l)"
   ]
  },
  {
   "cell_type": "markdown",
   "id": "85b13409-620e-4a0d-bd68-adecacdbb19c",
   "metadata": {},
   "source": [
    "Functions are used widely in Modular coding and also reinforces reusability of code"
   ]
  },
  {
   "cell_type": "markdown",
   "id": "c6496dbd-9d18-4b88-bedb-36e30065fd60",
   "metadata": {},
   "source": [
    "#How to build a function in Python"
   ]
  },
  {
   "cell_type": "code",
   "execution_count": 7,
   "id": "f2b76af3-3c62-4383-a87d-0dde533f3cfa",
   "metadata": {},
   "outputs": [],
   "source": [
    "def funct_name() :\n",
    "    print(\"This is my very very 1st function\")"
   ]
  },
  {
   "cell_type": "code",
   "execution_count": 8,
   "id": "ac511adc-9cb7-47b3-ac0a-5ccd8e4405f4",
   "metadata": {},
   "outputs": [
    {
     "name": "stdout",
     "output_type": "stream",
     "text": [
      "This is my very very 1st function\n"
     ]
    }
   ],
   "source": [
    "funct_name() #Calling the function to get the output"
   ]
  },
  {
   "cell_type": "code",
   "execution_count": 9,
   "id": "20cd689c-969e-431b-b9a1-adc461314b18",
   "metadata": {},
   "outputs": [
    {
     "name": "stdout",
     "output_type": "stream",
     "text": [
      "This is my very very 1st function\n"
     ]
    },
    {
     "ename": "TypeError",
     "evalue": "unsupported operand type(s) for +: 'NoneType' and 'str'",
     "output_type": "error",
     "traceback": [
      "\u001b[0;31m---------------------------------------------------------------------------\u001b[0m",
      "\u001b[0;31mTypeError\u001b[0m                                 Traceback (most recent call last)",
      "Cell \u001b[0;32mIn[9], line 1\u001b[0m\n\u001b[0;32m----> 1\u001b[0m \u001b[43mfunct_name\u001b[49m\u001b[43m(\u001b[49m\u001b[43m)\u001b[49m\u001b[43m \u001b[49m\u001b[38;5;241;43m+\u001b[39;49m\u001b[43m \u001b[49m\u001b[38;5;124;43m\"\u001b[39;49m\u001b[38;5;124;43mnikhil\u001b[39;49m\u001b[38;5;124;43m\"\u001b[39;49m\n",
      "\u001b[0;31mTypeError\u001b[0m: unsupported operand type(s) for +: 'NoneType' and 'str'"
     ]
    }
   ],
   "source": [
    "funct_name() + \"nikhil\" # we get an error here as the cocatenation is between 2 different data types."
   ]
  },
  {
   "cell_type": "code",
   "execution_count": 10,
   "id": "5d52687f-077b-4631-b73f-2b9a9cf55924",
   "metadata": {},
   "outputs": [],
   "source": [
    "def test2() :\n",
    "    return \"This is my very 1st return\""
   ]
  },
  {
   "cell_type": "code",
   "execution_count": 11,
   "id": "d57bbf59-9bc4-470b-842b-ac21058e4a17",
   "metadata": {},
   "outputs": [
    {
     "data": {
      "text/plain": [
       "'This is my very 1st return'"
      ]
     },
     "execution_count": 11,
     "metadata": {},
     "output_type": "execute_result"
    }
   ],
   "source": [
    "test2()"
   ]
  },
  {
   "cell_type": "code",
   "execution_count": 12,
   "id": "d1fb43bc-8524-4fe8-8def-72fac20d8295",
   "metadata": {},
   "outputs": [
    {
     "data": {
      "text/plain": [
       "'This is my very 1st returnnikhil'"
      ]
     },
     "execution_count": 12,
     "metadata": {},
     "output_type": "execute_result"
    }
   ],
   "source": [
    "test2() + \"nikhil\""
   ]
  },
  {
   "cell_type": "markdown",
   "id": "8ff3a1e4-b8e7-4bfa-bae4-7921f72f2d1d",
   "metadata": {},
   "source": [
    "Return gives the same data type as the element which we have originally given unlioke print() that gives none type"
   ]
  },
  {
   "cell_type": "markdown",
   "id": "7c96a50d-0aa4-4ae7-9811-dd1852099841",
   "metadata": {},
   "source": [
    "Hence Return is genrally ussed"
   ]
  },
  {
   "cell_type": "code",
   "execution_count": 13,
   "id": "b43a845d-39aa-488a-88da-bc5244d48ba7",
   "metadata": {},
   "outputs": [],
   "source": [
    "def test3() :\n",
    "    return \"nikhil\",23,2.356,[1,2,3,5]"
   ]
  },
  {
   "cell_type": "code",
   "execution_count": 14,
   "id": "3c5b496f-b511-4d2b-9db3-ae004b44113f",
   "metadata": {},
   "outputs": [
    {
     "data": {
      "text/plain": [
       "('nikhil', 23, 2.356, [1, 2, 3, 5])"
      ]
     },
     "execution_count": 14,
     "metadata": {},
     "output_type": "execute_result"
    }
   ],
   "source": [
    "test3()"
   ]
  },
  {
   "cell_type": "code",
   "execution_count": 20,
   "id": "c7d9c826-e63c-4d42-8f39-81cbb6f8199b",
   "metadata": {},
   "outputs": [],
   "source": [
    "a,b,c,d = test3() # this operation assigns the variable a value as per the index value element of the return type"
   ]
  },
  {
   "cell_type": "code",
   "execution_count": 16,
   "id": "50cb0917-c36c-493f-9274-fb1dd9bbf1c9",
   "metadata": {},
   "outputs": [
    {
     "data": {
      "text/plain": [
       "'nikhil'"
      ]
     },
     "execution_count": 16,
     "metadata": {},
     "output_type": "execute_result"
    }
   ],
   "source": [
    "a"
   ]
  },
  {
   "cell_type": "code",
   "execution_count": 17,
   "id": "41d6f9e6-6e51-4ddb-837b-7c3c12da2b42",
   "metadata": {},
   "outputs": [
    {
     "data": {
      "text/plain": [
       "23"
      ]
     },
     "execution_count": 17,
     "metadata": {},
     "output_type": "execute_result"
    }
   ],
   "source": [
    "b"
   ]
  },
  {
   "cell_type": "code",
   "execution_count": 18,
   "id": "d5e11491-deee-4cce-88cc-3a1e442f0010",
   "metadata": {},
   "outputs": [
    {
     "data": {
      "text/plain": [
       "2.356"
      ]
     },
     "execution_count": 18,
     "metadata": {},
     "output_type": "execute_result"
    }
   ],
   "source": [
    "c"
   ]
  },
  {
   "cell_type": "code",
   "execution_count": 19,
   "id": "0052487f-8e2a-4528-9d9e-feac1915e682",
   "metadata": {},
   "outputs": [
    {
     "data": {
      "text/plain": [
       "[1, 2, 3, 5]"
      ]
     },
     "execution_count": 19,
     "metadata": {},
     "output_type": "execute_result"
    }
   ],
   "source": [
    "d"
   ]
  },
  {
   "cell_type": "code",
   "execution_count": 21,
   "id": "b9ce10ec-3e1c-4c9a-9f17-c878dade21f2",
   "metadata": {},
   "outputs": [],
   "source": [
    "def test4() :\n",
    "    a= 5+6/7\n",
    "    return a"
   ]
  },
  {
   "cell_type": "code",
   "execution_count": 22,
   "id": "e8b4235f-1ca4-47a7-8adb-77dc2aa162ec",
   "metadata": {},
   "outputs": [
    {
     "data": {
      "text/plain": [
       "5.857142857142857"
      ]
     },
     "execution_count": 22,
     "metadata": {},
     "output_type": "execute_result"
    }
   ],
   "source": [
    "test4()"
   ]
  },
  {
   "cell_type": "code",
   "execution_count": 23,
   "id": "2097cece-f863-40aa-bd8d-22f7607418ea",
   "metadata": {},
   "outputs": [],
   "source": [
    "def test5(a,b,c):\n",
    "    d = a+b/c\n",
    "    return d"
   ]
  },
  {
   "cell_type": "code",
   "execution_count": 24,
   "id": "007be0c3-7357-430d-8669-b84b7dba9051",
   "metadata": {},
   "outputs": [
    {
     "data": {
      "text/plain": [
       "2.75"
      ]
     },
     "execution_count": 24,
     "metadata": {},
     "output_type": "execute_result"
    }
   ],
   "source": [
    "test5(2,3,4)"
   ]
  },
  {
   "cell_type": "code",
   "execution_count": 25,
   "id": "58cc16c0-ab4d-41e6-b7ea-45ae765520c6",
   "metadata": {},
   "outputs": [],
   "source": [
    "def test6(a,b):\n",
    "    return a+b"
   ]
  },
  {
   "cell_type": "code",
   "execution_count": 26,
   "id": "6403130e-632c-4674-9a3e-fd6e60dfb9ac",
   "metadata": {},
   "outputs": [
    {
     "data": {
      "text/plain": [
       "7"
      ]
     },
     "execution_count": 26,
     "metadata": {},
     "output_type": "execute_result"
    }
   ],
   "source": [
    "test6(3,4)"
   ]
  },
  {
   "cell_type": "code",
   "execution_count": 27,
   "id": "d47182de-32fb-42ce-abd4-6251b3e0d65f",
   "metadata": {},
   "outputs": [
    {
     "data": {
      "text/plain": [
       "'Nikhil Bagul'"
      ]
     },
     "execution_count": 27,
     "metadata": {},
     "output_type": "execute_result"
    }
   ],
   "source": [
    "test6(\"Nikhil\",\" Bagul\")"
   ]
  },
  {
   "cell_type": "code",
   "execution_count": 28,
   "id": "3b43f138-559d-42d6-a928-afec614b0e4b",
   "metadata": {},
   "outputs": [
    {
     "data": {
      "text/plain": [
       "[1, 2, 3, 4, 5, 8, 9, 6, 8, 4]"
      ]
     },
     "execution_count": 28,
     "metadata": {},
     "output_type": "execute_result"
    }
   ],
   "source": [
    "test6([1,2,3,4,5],[8,9,6,8,4])"
   ]
  },
  {
   "cell_type": "code",
   "execution_count": 29,
   "id": "2152f03c-f1ba-4aea-a994-a198ce7f306d",
   "metadata": {},
   "outputs": [],
   "source": [
    "l = [1,2,3,4,\"nikhil\",\"bagul\",[1,2,3,4,5,6]]"
   ]
  },
  {
   "cell_type": "code",
   "execution_count": 30,
   "id": "d0a519a7-87fb-4a84-b858-b3db46666b4d",
   "metadata": {},
   "outputs": [],
   "source": [
    "l1 = []\n",
    "for i in l :\n",
    "    if type(i) == int or type(i) == float :\n",
    "        l1.append(i)"
   ]
  },
  {
   "cell_type": "code",
   "execution_count": 31,
   "id": "93c329ce-fd7c-4724-b82f-ad283fe9c2f8",
   "metadata": {},
   "outputs": [
    {
     "data": {
      "text/plain": [
       "[1, 2, 3, 4]"
      ]
     },
     "execution_count": 31,
     "metadata": {},
     "output_type": "execute_result"
    }
   ],
   "source": [
    "l1"
   ]
  },
  {
   "cell_type": "code",
   "execution_count": 32,
   "id": "8f440386-7fe3-47bc-901d-ce25b865db99",
   "metadata": {},
   "outputs": [],
   "source": [
    "def test7(l) :\n",
    "    l1 = []\n",
    "    for i in l :\n",
    "        if type(i) == int or type(i) == float :\n",
    "            l1.append(i)\n",
    "    return l1\n",
    "    "
   ]
  },
  {
   "cell_type": "code",
   "execution_count": 33,
   "id": "51c748bf-eb18-493f-b9e9-a340ed6af2a1",
   "metadata": {},
   "outputs": [
    {
     "data": {
      "text/plain": [
       "[1, 2, 3, 4]"
      ]
     },
     "execution_count": 33,
     "metadata": {},
     "output_type": "execute_result"
    }
   ],
   "source": [
    "test7(l)"
   ]
  },
  {
   "cell_type": "code",
   "execution_count": 34,
   "id": "ceced075-d2ef-47f6-b55c-315d69ad39f0",
   "metadata": {},
   "outputs": [],
   "source": [
    "def test8(a) :\n",
    "    l =[]\n",
    "    for i in a :\n",
    "        if type(i) == list :\n",
    "            for j in i :\n",
    "                l.append(j)\n",
    "        else :\n",
    "            if type(i) == int or type(i) == float :\n",
    "                l.append(i)\n",
    "    return l"
   ]
  },
  {
   "cell_type": "code",
   "execution_count": 35,
   "id": "e182c9be-f23e-4c38-a0b6-4fa43fae0b31",
   "metadata": {},
   "outputs": [
    {
     "data": {
      "text/plain": [
       "[1, 2, 3, 4, 1, 2, 3, 4, 5, 6]"
      ]
     },
     "execution_count": 35,
     "metadata": {},
     "output_type": "execute_result"
    }
   ],
   "source": [
    "test8(l)"
   ]
  },
  {
   "cell_type": "code",
   "execution_count": 36,
   "id": "a57d7586-c1d9-4112-bd7c-508ff4d8a6e3",
   "metadata": {},
   "outputs": [],
   "source": [
    "def test9(a) :\n",
    "    \"\"\"This is my function to extract numeric data from list\"\"\"\n",
    "    \n",
    "    l =[]\n",
    "    for i in a :\n",
    "        if type(i) == list :\n",
    "            for j in i :\n",
    "                l.append(j)\n",
    "        else :\n",
    "            if type(i) == int or type(i) == float :\n",
    "                l.append(i)\n",
    "    return l"
   ]
  },
  {
   "cell_type": "code",
   "execution_count": 37,
   "id": "2aaed1b4-5df7-49b4-9b62-4d2e36b96304",
   "metadata": {},
   "outputs": [
    {
     "data": {
      "text/plain": [
       "[1, 2, 3, 4, 1, 2, 3, 4, 5, 6]"
      ]
     },
     "execution_count": 37,
     "metadata": {},
     "output_type": "execute_result"
    }
   ],
   "source": [
    "test9(l)"
   ]
  },
  {
   "cell_type": "code",
   "execution_count": 38,
   "id": "5585ade8-b39e-4f56-a0f5-8609ca6743aa",
   "metadata": {},
   "outputs": [],
   "source": [
    "def test10(a,b) :\n",
    "    return a+b"
   ]
  },
  {
   "cell_type": "markdown",
   "id": "2fdfc80c-30f4-494d-8958-860c759321ae",
   "metadata": {},
   "source": [
    " #this *args is used to make the input dynamic so that the user evertime while executing the function does not necessarily have to pass the same number or type of parameter"
   ]
  },
  {
   "cell_type": "code",
   "execution_count": null,
   "id": "394c2b15-a3ac-4ac2-bd80-5270274b2154",
   "metadata": {},
   "outputs": [],
   "source": [
    "def test11(*args) :         \n",
    "    return args"
   ]
  },
  {
   "cell_type": "code",
   "execution_count": 46,
   "id": "5ec376a4-ffb6-486f-ad45-6ab82932445e",
   "metadata": {},
   "outputs": [
    {
     "data": {
      "text/plain": [
       "tuple"
      ]
     },
     "execution_count": 46,
     "metadata": {},
     "output_type": "execute_result"
    }
   ],
   "source": [
    "type(test11())"
   ]
  },
  {
   "cell_type": "code",
   "execution_count": 43,
   "id": "65ee2829-37c5-47ac-a0f6-a0b56c852244",
   "metadata": {},
   "outputs": [
    {
     "data": {
      "text/plain": [
       "(1, 2, 3)"
      ]
     },
     "execution_count": 43,
     "metadata": {},
     "output_type": "execute_result"
    }
   ],
   "source": [
    "test11(1,2,3)"
   ]
  },
  {
   "cell_type": "code",
   "execution_count": 44,
   "id": "d8f8f9d4-473f-4d66-a690-8d3328c29568",
   "metadata": {},
   "outputs": [
    {
     "data": {
      "text/plain": [
       "(1, 2, 3, 'nikhil', 'bagul', [1, 2, 3, 4, 5])"
      ]
     },
     "execution_count": 44,
     "metadata": {},
     "output_type": "execute_result"
    }
   ],
   "source": [
    "test11(1,2,3,\"nikhil\",\"bagul\",[1,2,3,4,5])"
   ]
  },
  {
   "cell_type": "markdown",
   "id": "87ea6d77-8fcb-4c5b-866d-41ce4577f335",
   "metadata": {},
   "source": [
    "Instead of args we can write any word"
   ]
  },
  {
   "cell_type": "markdown",
   "id": "6e518a18-0811-4ec6-b2f1-7af666822591",
   "metadata": {},
   "source": [
    "MAin work is done by *"
   ]
  },
  {
   "cell_type": "code",
   "execution_count": 48,
   "id": "c6c88d97-d1b4-4017-8735-3cbbb1ecd40a",
   "metadata": {},
   "outputs": [],
   "source": [
    "def test12(*nik):\n",
    "    return nik"
   ]
  },
  {
   "cell_type": "code",
   "execution_count": 49,
   "id": "77a2ef04-7284-427c-982b-a03b37491862",
   "metadata": {},
   "outputs": [
    {
     "data": {
      "text/plain": [
       "(1, 2, 35, 4)"
      ]
     },
     "execution_count": 49,
     "metadata": {},
     "output_type": "execute_result"
    }
   ],
   "source": [
    "test12(1,2,35,4)"
   ]
  },
  {
   "cell_type": "code",
   "execution_count": 50,
   "id": "e3c6902f-668e-4bfb-89c9-941beb95c18b",
   "metadata": {},
   "outputs": [],
   "source": [
    "def test13(*args,a):\n",
    "    return args, a"
   ]
  },
  {
   "cell_type": "markdown",
   "id": "d71c4662-c298-479e-a530-d34633d7a142",
   "metadata": {},
   "source": [
    "# in this type of function calling the system fails to classify which parameter is passed  for args and which is for the variable a"
   ]
  },
  {
   "cell_type": "code",
   "execution_count": 51,
   "id": "399ab4dc-2e91-46e2-a41b-43a08b125f66",
   "metadata": {},
   "outputs": [
    {
     "ename": "TypeError",
     "evalue": "test13() missing 1 required keyword-only argument: 'a'",
     "output_type": "error",
     "traceback": [
      "\u001b[0;31m---------------------------------------------------------------------------\u001b[0m",
      "\u001b[0;31mTypeError\u001b[0m                                 Traceback (most recent call last)",
      "Cell \u001b[0;32mIn[51], line 1\u001b[0m\n\u001b[0;32m----> 1\u001b[0m \u001b[43mtest13\u001b[49m\u001b[43m(\u001b[49m\u001b[38;5;241;43m1\u001b[39;49m\u001b[43m,\u001b[49m\u001b[38;5;241;43m2\u001b[39;49m\u001b[43m,\u001b[49m\u001b[38;5;241;43m3\u001b[39;49m\u001b[43m,\u001b[49m\u001b[38;5;241;43m4\u001b[39;49m\u001b[43m)\u001b[49m\n",
      "\u001b[0;31mTypeError\u001b[0m: test13() missing 1 required keyword-only argument: 'a'"
     ]
    }
   ],
   "source": [
    "test13(1,2,3,4) "
   ]
  },
  {
   "cell_type": "code",
   "execution_count": 52,
   "id": "83260ad4-32a7-4af6-947d-610d95d97843",
   "metadata": {},
   "outputs": [
    {
     "data": {
      "text/plain": [
       "((1, 2, 3, 4), 25)"
      ]
     },
     "execution_count": 52,
     "metadata": {},
     "output_type": "execute_result"
    }
   ],
   "source": [
    "test13(1,2,3,4, a = 25) #To solve above problem it is passed in this way"
   ]
  },
  {
   "cell_type": "code",
   "execution_count": 53,
   "id": "e7ad47c6-e53a-4d57-b07f-e4223ca38aad",
   "metadata": {},
   "outputs": [],
   "source": [
    "def test14(c,d,a=14,b=16):\n",
    "    return a,b,c,d"
   ]
  },
  {
   "cell_type": "code",
   "execution_count": 54,
   "id": "6607eb34-48e8-4fc2-8a05-0ffec17ec7bf",
   "metadata": {},
   "outputs": [
    {
     "data": {
      "text/plain": [
       "(14, 16, 15, 8)"
      ]
     },
     "execution_count": 54,
     "metadata": {},
     "output_type": "execute_result"
    }
   ],
   "source": [
    "test14(15,8)"
   ]
  },
  {
   "cell_type": "code",
   "execution_count": 55,
   "id": "446da5a9-eaee-4626-9dd5-ccee408dcdf6",
   "metadata": {},
   "outputs": [],
   "source": [
    "def test15(**kwargs) :\n",
    "    return kwargs"
   ]
  },
  {
   "cell_type": "code",
   "execution_count": 57,
   "id": "3b6e1534-7b32-42a0-8c60-0ea78582f685",
   "metadata": {},
   "outputs": [
    {
     "data": {
      "text/plain": [
       "dict"
      ]
     },
     "execution_count": 57,
     "metadata": {},
     "output_type": "execute_result"
    }
   ],
   "source": [
    "type(test15())"
   ]
  },
  {
   "cell_type": "markdown",
   "id": "7e46ef59-225e-4658-a43c-6645bdd951f9",
   "metadata": {},
   "source": [
    "**kwargs is used to get return in the form of dictionary that is the key and value pair"
   ]
  },
  {
   "cell_type": "code",
   "execution_count": 58,
   "id": "bbaa8f72-5be7-4ec1-a3c6-d79b04a7ceb9",
   "metadata": {},
   "outputs": [
    {
     "data": {
      "text/plain": [
       "{'a': [1, 2, 3, 4], 'b': 'nikhil', 'c': 23.456}"
      ]
     },
     "execution_count": 58,
     "metadata": {},
     "output_type": "execute_result"
    }
   ],
   "source": [
    "test15(a =[1,2,3,4], b=\"nikhil\", c= 23.456)"
   ]
  },
  {
   "cell_type": "code",
   "execution_count": null,
   "id": "b3c67f57-2be6-4879-a77f-9402aae0be7c",
   "metadata": {},
   "outputs": [],
   "source": []
  }
 ],
 "metadata": {
  "kernelspec": {
   "display_name": "Python 3 (ipykernel)",
   "language": "python",
   "name": "python3"
  },
  "language_info": {
   "codemirror_mode": {
    "name": "ipython",
    "version": 3
   },
   "file_extension": ".py",
   "mimetype": "text/x-python",
   "name": "python",
   "nbconvert_exporter": "python",
   "pygments_lexer": "ipython3",
   "version": "3.10.8"
  }
 },
 "nbformat": 4,
 "nbformat_minor": 5
}
