{
 "cells": [
  {
   "cell_type": "code",
   "execution_count": 1,
   "id": "aa410f8e-5527-4280-b6e1-c41aa78d7a54",
   "metadata": {},
   "outputs": [],
   "source": [
    "#whenever we used buffered to read or wrtite a big file it write the file in chunks"
   ]
  },
  {
   "cell_type": "code",
   "execution_count": 2,
   "id": "7f7fa0bf-515e-4346-b3ab-6a77e5290bd3",
   "metadata": {},
   "outputs": [],
   "source": [
    "import io #io that is the input output module"
   ]
  },
  {
   "cell_type": "code",
   "execution_count": 7,
   "id": "ec9859ed-89e9-4a03-b97c-c83885714423",
   "metadata": {},
   "outputs": [],
   "source": [
    "with open(\"test1.txt\",'wb') as f:\n",
    "    file = io.BufferedWriter(f)\n",
    "    \n",
    "    file.write(b\"this is my first line\\n\")\n",
    "    file.write(b\"this is my second line\")\n",
    "    file.flush() # here the fulush function nacts similar to f.close() which we use after normal write operation."
   ]
  },
  {
   "cell_type": "code",
   "execution_count": 10,
   "id": "7d2c0876-654d-4047-b035-68078bab71f2",
   "metadata": {},
   "outputs": [
    {
     "name": "stdout",
     "output_type": "stream",
     "text": [
      "b'this is my'\n"
     ]
    }
   ],
   "source": [
    "with open(\"test1.txt\",\"rb\") as f:\n",
    "    file  = io.BufferedReader(f)\n",
    "    data1 =file.read(10) # here we can define how much byte we want to read ex 10 or 20 or 1000,etc.\n",
    "    print(data1)"
   ]
  },
  {
   "cell_type": "code",
   "execution_count": null,
   "id": "fd27263f-0b66-4c15-ae49-bdc94e39cd6d",
   "metadata": {},
   "outputs": [],
   "source": [
    "p"
   ]
  }
 ],
 "metadata": {
  "kernelspec": {
   "display_name": "Python 3 (ipykernel)",
   "language": "python",
   "name": "python3"
  },
  "language_info": {
   "codemirror_mode": {
    "name": "ipython",
    "version": 3
   },
   "file_extension": ".py",
   "mimetype": "text/x-python",
   "name": "python",
   "nbconvert_exporter": "python",
   "pygments_lexer": "ipython3",
   "version": "3.10.8"
  }
 },
 "nbformat": 4,
 "nbformat_minor": 5
}
