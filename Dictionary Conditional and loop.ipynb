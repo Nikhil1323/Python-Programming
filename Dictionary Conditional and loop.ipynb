{
 "cells": [
  {
   "cell_type": "code",
   "execution_count": 3,
   "id": "dd0d676b-1d25-44e2-84f8-51ccab293255",
   "metadata": {},
   "outputs": [],
   "source": [
    "# Dictionary Declaration\n",
    "d = {}"
   ]
  },
  {
   "cell_type": "code",
   "execution_count": 4,
   "id": "ad1c0a64-1754-48f8-97c2-600dd70bd5d8",
   "metadata": {},
   "outputs": [
    {
     "data": {
      "text/plain": [
       "dict"
      ]
     },
     "execution_count": 4,
     "metadata": {},
     "output_type": "execute_result"
    }
   ],
   "source": [
    "type(d)"
   ]
  },
  {
   "cell_type": "code",
   "execution_count": 5,
   "id": "7fa13ceb-3788-4e0e-b7b5-6dac1918ccea",
   "metadata": {},
   "outputs": [],
   "source": [
    "#key should always be unique if not then it auto updates itself\n",
    "#the elements needs to be passed as key and value pair\n",
    "d1 = {\"key\":\"Nikhil\"}"
   ]
  },
  {
   "cell_type": "code",
   "execution_count": 6,
   "id": "ba41bd4d-2908-4a34-9947-79c2cae073a7",
   "metadata": {},
   "outputs": [
    {
     "data": {
      "text/plain": [
       "{'key': 'Nikhil'}"
      ]
     },
     "execution_count": 6,
     "metadata": {},
     "output_type": "execute_result"
    }
   ],
   "source": [
    "d1"
   ]
  },
  {
   "cell_type": "code",
   "execution_count": 7,
   "id": "a2a144c8-0d0f-4b33-b44f-1e7f5f947e96",
   "metadata": {},
   "outputs": [],
   "source": [
    "#Here the data is stored in key and value pair\n",
    "d2 = {'name': \"Nikhil\",'email':\"nikhil@gmail.com\",'number':256311458}"
   ]
  },
  {
   "cell_type": "code",
   "execution_count": 8,
   "id": "1a9afed0-95fe-42d4-a444-f457d0bcd4da",
   "metadata": {},
   "outputs": [
    {
     "data": {
      "text/plain": [
       "{'name': 'Nikhil', 'email': 'nikhil@gmail.com', 'number': 256311458}"
      ]
     },
     "execution_count": 8,
     "metadata": {},
     "output_type": "execute_result"
    }
   ],
   "source": [
    "d2"
   ]
  },
  {
   "cell_type": "code",
   "execution_count": 9,
   "id": "7bf2a6a5-1d6d-45cc-aa0a-32b305e47e4e",
   "metadata": {},
   "outputs": [],
   "source": [
    "d3 = {235:\"Nik\"}"
   ]
  },
  {
   "cell_type": "markdown",
   "id": "e238163f-57b2-40db-a2ef-82bf30ac8d15",
   "metadata": {},
   "source": [
    "#key may contain any numeric or string value\n",
    "#Special character cannot be used in key or value neither @ or _ but when we keep the charater under quotes then it doesnot have any issue and gets converted into string"
   ]
  },
  {
   "cell_type": "markdown",
   "id": "09916728-dc83-448c-8344-4b9564e7f5ca",
   "metadata": {},
   "source": [
    "For making key\n",
    "as Boolean Value gets accepted\n",
    "Numeric values is also allowed"
   ]
  },
  {
   "cell_type": "code",
   "execution_count": 12,
   "id": "ecb6470e-c9f4-4faf-8576-032b92350529",
   "metadata": {},
   "outputs": [
    {
     "data": {
      "text/plain": [
       "{235: 'Nik'}"
      ]
     },
     "execution_count": 12,
     "metadata": {},
     "output_type": "execute_result"
    }
   ],
   "source": [
    "d3"
   ]
  },
  {
   "cell_type": "code",
   "execution_count": 13,
   "id": "332c5730-f48a-4217-9c8d-289a09d0153e",
   "metadata": {},
   "outputs": [
    {
     "data": {
      "text/plain": [
       "{'name': 'Nikhil', 'email': 'nikhil@gmail.com', 'number': 256311458}"
      ]
     },
     "execution_count": 13,
     "metadata": {},
     "output_type": "execute_result"
    }
   ],
   "source": [
    "d2"
   ]
  },
  {
   "cell_type": "code",
   "execution_count": 14,
   "id": "37ca97f1-babd-47c8-8c3e-06c08468d5ce",
   "metadata": {},
   "outputs": [
    {
     "data": {
      "text/plain": [
       "'Nikhil'"
      ]
     },
     "execution_count": 14,
     "metadata": {},
     "output_type": "execute_result"
    }
   ],
   "source": [
    "d2[\"name\"]"
   ]
  },
  {
   "cell_type": "code",
   "execution_count": 15,
   "id": "87783edc-af69-4c90-a162-9def11ff3746",
   "metadata": {},
   "outputs": [],
   "source": [
    "#here for getting any value from the dictionary the key parameter associated to it must be passed"
   ]
  },
  {
   "cell_type": "code",
   "execution_count": 18,
   "id": "57eb2d66-26f2-4376-9e6d-abffada19e71",
   "metadata": {},
   "outputs": [
    {
     "data": {
      "text/plain": [
       "256311458"
      ]
     },
     "execution_count": 18,
     "metadata": {},
     "output_type": "execute_result"
    }
   ],
   "source": [
    "d2['number']"
   ]
  },
  {
   "cell_type": "code",
   "execution_count": 19,
   "id": "e4fe1dce-be29-4ae2-8ecc-133834a5dc33",
   "metadata": {},
   "outputs": [],
   "source": [
    "d4 = {'name':\"nikhil\",'mail_id':'nikhil@gmail.com',\"name\":\"nik\"}"
   ]
  },
  {
   "cell_type": "code",
   "execution_count": 20,
   "id": "b9c3a4b1-8aa3-4d85-ba1f-9add32ada6e5",
   "metadata": {},
   "outputs": [
    {
     "data": {
      "text/plain": [
       "{'name': 'nik', 'mail_id': 'nikhil@gmail.com'}"
      ]
     },
     "execution_count": 20,
     "metadata": {},
     "output_type": "execute_result"
    }
   ],
   "source": [
    "d4"
   ]
  },
  {
   "cell_type": "code",
   "execution_count": 21,
   "id": "fcc503a2-6110-4865-80a5-7cfb62aca119",
   "metadata": {},
   "outputs": [
    {
     "data": {
      "text/plain": [
       "'nik'"
      ]
     },
     "execution_count": 21,
     "metadata": {},
     "output_type": "execute_result"
    }
   ],
   "source": [
    "d4[\"name\"]"
   ]
  },
  {
   "cell_type": "markdown",
   "id": "65507e41-f1d5-497b-b185-6306fac5f26c",
   "metadata": {},
   "source": [
    "If the key is not unique it gets override with unique value"
   ]
  },
  {
   "cell_type": "markdown",
   "id": "c2ac8d9f-8e31-4f36-a472-154bf3457b75",
   "metadata": {},
   "source": [
    "Key should always be unique"
   ]
  },
  {
   "cell_type": "code",
   "execution_count": 23,
   "id": "96731080-b8a1-4902-9197-9b1daa2fb473",
   "metadata": {},
   "outputs": [],
   "source": [
    "d5 = {\"company\":'ntech',\"courses\":[\"web dev\",\"data science\",\"java with dsa system design\"]}"
   ]
  },
  {
   "cell_type": "code",
   "execution_count": 24,
   "id": "5d9eb756-f393-4f12-966e-26d5853ff27b",
   "metadata": {},
   "outputs": [
    {
     "data": {
      "text/plain": [
       "{'company': 'ntech',\n",
       " 'courses': ['web dev', 'data science', 'java with dsa system design']}"
      ]
     },
     "execution_count": 24,
     "metadata": {},
     "output_type": "execute_result"
    }
   ],
   "source": [
    "d5 #Remember not to use quotes for a value that is in the form of list or numbers"
   ]
  },
  {
   "cell_type": "code",
   "execution_count": 26,
   "id": "04020c20-05fe-42ce-b6c5-d4d0f1c21321",
   "metadata": {},
   "outputs": [
    {
     "data": {
      "text/plain": [
       "'java with dsa system design'"
      ]
     },
     "execution_count": 26,
     "metadata": {},
     "output_type": "execute_result"
    }
   ],
   "source": [
    "d5[\"courses\"][2]"
   ]
  },
  {
   "cell_type": "code",
   "execution_count": 29,
   "id": "baa7ec73-a28d-4744-991a-72a9ed1353fa",
   "metadata": {},
   "outputs": [],
   "source": [
    "d6 = {\"number\":[1,34,2,5,625,14,2],\"assignment\":(1,2,5,3,6),\"launch_date\":{28,12,14},\"class_time\":{\"web_dev\":8,\"Data science masters\":8,\"java with dsa and system design\":7}}"
   ]
  },
  {
   "cell_type": "markdown",
   "id": "7f737f04-2ceb-4dcc-b8ed-79d7bd2f5a55",
   "metadata": {},
   "source": [
    "In a dictionary we are able to take list or set or tuples as a value"
   ]
  },
  {
   "cell_type": "code",
   "execution_count": 30,
   "id": "a7f420bf-94a8-4eac-8cdd-0bdda0d1751c",
   "metadata": {},
   "outputs": [
    {
     "data": {
      "text/plain": [
       "{'number': [1, 34, 2, 5, 625, 14, 2],\n",
       " 'assignment': (1, 2, 5, 3, 6),\n",
       " 'launch_date': {12, 14, 28},\n",
       " 'class_time': {'web_dev': 8,\n",
       "  'Data science masters': 8,\n",
       "  'java with dsa and system design': 7}}"
      ]
     },
     "execution_count": 30,
     "metadata": {},
     "output_type": "execute_result"
    }
   ],
   "source": [
    "d6"
   ]
  },
  {
   "cell_type": "markdown",
   "id": "fd95d2ac-d71b-4502-b050-90a25bad2e4a",
   "metadata": {},
   "source": [
    "We can keep dictionary inside a dictionary. Nested dictionary, nested list, nested tuples and nested sets can be implemented simultaneously as well as cross implementation is also possible"
   ]
  },
  {
   "cell_type": "code",
   "execution_count": 32,
   "id": "932a03c1-1c30-4951-b428-3d21dc80ba4b",
   "metadata": {},
   "outputs": [
    {
     "data": {
      "text/plain": [
       "7"
      ]
     },
     "execution_count": 32,
     "metadata": {},
     "output_type": "execute_result"
    }
   ],
   "source": [
    "d6[\"class_time\"][\"java with dsa and system design\"]"
   ]
  },
  {
   "cell_type": "code",
   "execution_count": 35,
   "id": "0fe29038-d837-4f3d-a478-bafd71ce9bc6",
   "metadata": {},
   "outputs": [],
   "source": [
    "d6['mentor'] = [\"sudhanshu\",\"krish\",\"anurag\",\"hyder\"] #process to add key and value to the existing dictionary"
   ]
  },
  {
   "cell_type": "code",
   "execution_count": 36,
   "id": "654a1413-287b-415f-9fb9-cd477fd5d6c8",
   "metadata": {},
   "outputs": [
    {
     "data": {
      "text/plain": [
       "{'number': [1, 34, 2, 5, 625, 14, 2],\n",
       " 'assignment': (1, 2, 5, 3, 6),\n",
       " 'launch_date': {12, 14, 28},\n",
       " 'class_time': {'web_dev': 8,\n",
       "  'Data science masters': 8,\n",
       "  'java with dsa and system design': 7},\n",
       " 'mentor': ['sudhanshu', 'krish', 'anurag', 'hyder']}"
      ]
     },
     "execution_count": 36,
     "metadata": {},
     "output_type": "execute_result"
    }
   ],
   "source": [
    "d6"
   ]
  },
  {
   "cell_type": "code",
   "execution_count": 37,
   "id": "8352b0be-c2ba-4906-a903-0ace50860bdc",
   "metadata": {},
   "outputs": [],
   "source": [
    "del d6['number']"
   ]
  },
  {
   "cell_type": "code",
   "execution_count": 38,
   "id": "3c6d45fb-4398-4932-a2eb-f36977885b73",
   "metadata": {},
   "outputs": [
    {
     "data": {
      "text/plain": [
       "{'assignment': (1, 2, 5, 3, 6),\n",
       " 'launch_date': {12, 14, 28},\n",
       " 'class_time': {'web_dev': 8,\n",
       "  'Data science masters': 8,\n",
       "  'java with dsa and system design': 7},\n",
       " 'mentor': ['sudhanshu', 'krish', 'anurag', 'hyder']}"
      ]
     },
     "execution_count": 38,
     "metadata": {},
     "output_type": "execute_result"
    }
   ],
   "source": [
    "d6"
   ]
  },
  {
   "cell_type": "code",
   "execution_count": 40,
   "id": "49276207-edcf-400d-9220-0a30dae49c79",
   "metadata": {},
   "outputs": [
    {
     "data": {
      "text/plain": [
       "['assignment', 'launch_date', 'class_time', 'mentor']"
      ]
     },
     "execution_count": 40,
     "metadata": {},
     "output_type": "execute_result"
    }
   ],
   "source": [
    "list(d6.keys())"
   ]
  },
  {
   "cell_type": "code",
   "execution_count": 42,
   "id": "47279191-5e7d-43fc-97e4-4decad150b37",
   "metadata": {},
   "outputs": [
    {
     "data": {
      "text/plain": [
       "[(1, 2, 5, 3, 6),\n",
       " {12, 14, 28},\n",
       " {'web_dev': 8,\n",
       "  'Data science masters': 8,\n",
       "  'java with dsa and system design': 7},\n",
       " ['sudhanshu', 'krish', 'anurag', 'hyder']]"
      ]
     },
     "execution_count": 42,
     "metadata": {},
     "output_type": "execute_result"
    }
   ],
   "source": [
    "list(d6.values())"
   ]
  },
  {
   "cell_type": "code",
   "execution_count": 44,
   "id": "c3402c10-5570-4f01-af98-423811569806",
   "metadata": {},
   "outputs": [
    {
     "data": {
      "text/plain": [
       "[('assignment', (1, 2, 5, 3, 6)),\n",
       " ('launch_date', {12, 14, 28}),\n",
       " ('class_time',\n",
       "  {'web_dev': 8,\n",
       "   'Data science masters': 8,\n",
       "   'java with dsa and system design': 7}),\n",
       " ('mentor', ['sudhanshu', 'krish', 'anurag', 'hyder'])]"
      ]
     },
     "execution_count": 44,
     "metadata": {},
     "output_type": "execute_result"
    }
   ],
   "source": [
    "list(d6.items())"
   ]
  },
  {
   "cell_type": "code",
   "execution_count": 45,
   "id": "7d1f5cf3-c036-41ab-8f10-2f2638c1e1e6",
   "metadata": {},
   "outputs": [
    {
     "ename": "TypeError",
     "evalue": "pop expected at least 1 argument, got 0",
     "output_type": "error",
     "traceback": [
      "\u001b[0;31m---------------------------------------------------------------------------\u001b[0m",
      "\u001b[0;31mTypeError\u001b[0m                                 Traceback (most recent call last)",
      "Cell \u001b[0;32mIn[45], line 1\u001b[0m\n\u001b[0;32m----> 1\u001b[0m \u001b[43md6\u001b[49m\u001b[38;5;241;43m.\u001b[39;49m\u001b[43mpop\u001b[49m\u001b[43m(\u001b[49m\u001b[43m)\u001b[49m\n",
      "\u001b[0;31mTypeError\u001b[0m: pop expected at least 1 argument, got 0"
     ]
    }
   ],
   "source": [
    "d6.pop()"
   ]
  },
  {
   "cell_type": "code",
   "execution_count": 49,
   "id": "c6fc497c-0de5-41af-9239-6c51834f47c2",
   "metadata": {},
   "outputs": [
    {
     "ename": "KeyError",
     "evalue": "'assignment'",
     "output_type": "error",
     "traceback": [
      "\u001b[0;31m---------------------------------------------------------------------------\u001b[0m",
      "\u001b[0;31mKeyError\u001b[0m                                  Traceback (most recent call last)",
      "Cell \u001b[0;32mIn[49], line 1\u001b[0m\n\u001b[0;32m----> 1\u001b[0m \u001b[43md6\u001b[49m\u001b[38;5;241;43m.\u001b[39;49m\u001b[43mpop\u001b[49m\u001b[43m(\u001b[49m\u001b[38;5;124;43m\"\u001b[39;49m\u001b[38;5;124;43massignment\u001b[39;49m\u001b[38;5;124;43m\"\u001b[39;49m\u001b[43m)\u001b[49m\n",
      "\u001b[0;31mKeyError\u001b[0m: 'assignment'"
     ]
    }
   ],
   "source": [
    "d6.pop(\"assignment\")"
   ]
  },
  {
   "cell_type": "markdown",
   "id": "ca414461-8799-4ec7-b342-c97a43416a4a",
   "metadata": {},
   "source": [
    "Conditions"
   ]
  },
  {
   "cell_type": "markdown",
   "id": "325f99c3-3ad8-479e-bdb9-8cd22a0746b8",
   "metadata": {},
   "source": [
    "Conditional statements "
   ]
  },
  {
   "cell_type": "code",
   "execution_count": 12,
   "id": "5b6b41bd-49b8-4f6d-83b3-2328a9a82f38",
   "metadata": {},
   "outputs": [
    {
     "name": "stdin",
     "output_type": "stream",
     "text": [
      "Enter Your Marks 99\n"
     ]
    },
    {
     "name": "stdout",
     "output_type": "stream",
     "text": [
      "You will be a part of A0 batch\n"
     ]
    }
   ],
   "source": [
    "marks = int(input(\"Enter Your Marks\"))\n",
    "if marks >= 80:\n",
    "    print (\"You will be a part of A0 batch\")\n",
    "elif marks >= 60 and marks < 80:\n",
    "    print(\"You will be apart of A1 batch\")\n",
    "elif marks >=40 and marks <60:\n",
    "    print(\"You will be part of A2 batch\")\n",
    "else :\n",
    "    print(\"You will be part of A3 batch\")\n",
    "          "
   ]
  },
  {
   "cell_type": "markdown",
   "id": "601d8672-bfac-4fae-aed1-77508e7e4a40",
   "metadata": {},
   "source": [
    "When we take input from user the system receives it as a string but if the user needs it in a different data type then the user needs to do type casting"
   ]
  },
  {
   "cell_type": "code",
   "execution_count": 14,
   "id": "981a9075-f082-4df2-952e-f60910cbff86",
   "metadata": {},
   "outputs": [
    {
     "name": "stdin",
     "output_type": "stream",
     "text": [
      "Enter the price of the item: 200\n"
     ]
    },
    {
     "name": "stdout",
     "output_type": "stream",
     "text": [
      "I will Purchase\n"
     ]
    }
   ],
   "source": [
    "price = int(input(\"Enter the price of the item:\"))\n",
    "if price >1000:\n",
    "    print(\"I will not Purchase\")\n",
    "else:\n",
    "    print(\"I will Purchase\")"
   ]
  },
  {
   "cell_type": "code",
   "execution_count": 26,
   "id": "433fa96e-fe04-4b7a-8cad-5d878449fa5e",
   "metadata": {},
   "outputs": [
    {
     "name": "stdin",
     "output_type": "stream",
     "text": [
      "Enter the price of the item: 550\n"
     ]
    },
    {
     "name": "stdout",
     "output_type": "stream",
     "text": [
      "I will purchase\n"
     ]
    }
   ],
   "source": [
    "price = int(input(\"Enter the price of the item:\"))\n",
    "if price >1000:\n",
    "    print(\"I will not Purchase\")\n",
    "    if price >5000:\n",
    "        print(\"This is too much\")\n",
    "    elif price <2000:\n",
    "        print(\"ITS Okay\")\n",
    "elif price <1000:\n",
    "    print(\"I will purchase\")\n",
    "else :\n",
    "    print(\"Not Interested\")"
   ]
  },
  {
   "cell_type": "code",
   "execution_count": 32,
   "id": "01086e37-161a-47a6-8ee5-a0102d22c297",
   "metadata": {},
   "outputs": [],
   "source": [
    "l = [1,2,3,4,5,6,7,8]"
   ]
  },
  {
   "cell_type": "code",
   "execution_count": 43,
   "id": "14378dcc-0b0b-49af-9350-c160845708fd",
   "metadata": {},
   "outputs": [],
   "source": [
    "l1 = []\n",
    "for i in l:\n",
    "    l1.append(i+1)"
   ]
  },
  {
   "cell_type": "code",
   "execution_count": 44,
   "id": "fa23966f-71d2-4504-a1ed-939d3a9e89b0",
   "metadata": {},
   "outputs": [
    {
     "data": {
      "text/plain": [
       "[2, 3, 4, 5, 6, 7, 8, 9]"
      ]
     },
     "execution_count": 44,
     "metadata": {},
     "output_type": "execute_result"
    }
   ],
   "source": [
    "l1"
   ]
  },
  {
   "cell_type": "code",
   "execution_count": 45,
   "id": "6124fca2-87d6-453b-b015-80b5eff7df6e",
   "metadata": {},
   "outputs": [],
   "source": [
    "m = [\"nikhil\",\"yash\",\" leena\",\"satish\"]"
   ]
  },
  {
   "cell_type": "code",
   "execution_count": 50,
   "id": "53895691-ac6a-4259-91ec-482e61c22d60",
   "metadata": {},
   "outputs": [
    {
     "data": {
      "text/plain": [
       "['NIKHIL', 'YASH', ' LEENA', 'SATISH']"
      ]
     },
     "execution_count": 50,
     "metadata": {},
     "output_type": "execute_result"
    }
   ],
   "source": [
    "n = []\n",
    "for i in m :\n",
    "    n.append(i.upper())\n",
    "n\n",
    "    "
   ]
  },
  {
   "cell_type": "code",
   "execution_count": 51,
   "id": "74c59aad-7cd8-4c13-b754-9941dfb8a1b3",
   "metadata": {},
   "outputs": [],
   "source": [
    "l = [1,2,3,4,5,\"nikhil\",3425,35.254,\"abc\"]"
   ]
  },
  {
   "cell_type": "code",
   "execution_count": 56,
   "id": "cc2faa57-f1f7-4b2d-930c-c5ab5b695dd2",
   "metadata": {},
   "outputs": [],
   "source": [
    "l1_numeric = []\n",
    "l2_str = []\n",
    "for i in l:\n",
    "    if type(i) == int or type(i) == float :\n",
    "        l1_numeric.append(i)\n",
    "    elif type(i) == str :\n",
    "        l2_str.append(i)\n",
    "    "
   ]
  },
  {
   "cell_type": "code",
   "execution_count": 58,
   "id": "7f0697ed-5719-4bd7-9768-d288f37204f0",
   "metadata": {},
   "outputs": [
    {
     "data": {
      "text/plain": [
       "[1, 2, 3, 4, 5, 3425, 35.254]"
      ]
     },
     "execution_count": 58,
     "metadata": {},
     "output_type": "execute_result"
    }
   ],
   "source": [
    "l1_numeric"
   ]
  },
  {
   "cell_type": "code",
   "execution_count": 59,
   "id": "e37aa9ef-50ff-4067-b6b2-767c8ad8d837",
   "metadata": {},
   "outputs": [
    {
     "data": {
      "text/plain": [
       "['nikhil', 'abc']"
      ]
     },
     "execution_count": 59,
     "metadata": {},
     "output_type": "execute_result"
    }
   ],
   "source": [
    "l2_str"
   ]
  },
  {
   "cell_type": "code",
   "execution_count": null,
   "id": "b8366ebf-44f9-46b7-a7d9-90ad8d31082a",
   "metadata": {},
   "outputs": [],
   "source": []
  }
 ],
 "metadata": {
  "kernelspec": {
   "display_name": "Python 3 (ipykernel)",
   "language": "python",
   "name": "python3"
  },
  "language_info": {
   "codemirror_mode": {
    "name": "ipython",
    "version": 3
   },
   "file_extension": ".py",
   "mimetype": "text/x-python",
   "name": "python",
   "nbconvert_exporter": "python",
   "pygments_lexer": "ipython3",
   "version": "3.10.8"
  }
 },
 "nbformat": 4,
 "nbformat_minor": 5
}
