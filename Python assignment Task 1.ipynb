{
 "cells": [
  {
   "cell_type": "raw",
   "id": "f14514ce",
   "metadata": {},
   "source": [
    "Q1. Create a function which will take a list as an argument and return the product of all the numbers\n",
    "after creating a flat list.\n",
    "Use the below-given list as an argument for your function.\n",
    "list1 = [1,2,3,4, [44,55,66, True], False, (34,56,78,89,34), {1,2,3,3,2,1}, {1:34, \"key2\": [55, 67, 78, 89], 4: (45,\n",
    "22, 61, 34)}, [56, 'data science'], 'Machine Learning']\n",
    "Note: you must extract numeric keys and values of the dictionary also."
   ]
  },
  {
   "cell_type": "code",
   "execution_count": 68,
   "id": "27f88191",
   "metadata": {},
   "outputs": [],
   "source": [
    "\n",
    "def product_of_all_numbers(*kwargs):\n",
    "    prod=1\n",
    "    for  element in list1:\n",
    "        if type(element) is int:\n",
    "            prod = prod * element\n",
    "        elif type(element) is list:\n",
    "            for i in element:\n",
    "                if type(i) is int:\n",
    "                    prod = prod * i\n",
    "        elif type(element) is tuple:\n",
    "            for j in element:\n",
    "                if type(j) is int:\n",
    "                    prod =prod *j\n",
    "        elif type(element) is set:\n",
    "            for m in element:\n",
    "                if type(m) is int:\n",
    "                    prod =prod *m\n",
    "        elif type(element) is dict:\n",
    "            for k in element:\n",
    "                if type(k) is int:\n",
    "                    prod = prod * k\n",
    "                elif type(k) is list:\n",
    "                    for l in k:\n",
    "                        if type(l) is int:\n",
    "                            prod = prod * l\n",
    "                    \n",
    "    return prod\n"
   ]
  },
  {
   "cell_type": "code",
   "execution_count": 69,
   "id": "1564efa1",
   "metadata": {},
   "outputs": [],
   "source": [
    "list1 = [1,2,3,4, [44,55,66, True], False, (34,56,78,89,34), {1,2,3,3,2,1}, {1:34, \"key2\": [55, 67, 78, 89], 4: (45,\n",
    "22, 61, 34)}, [56, 'data science'], 'Machine Learning']"
   ]
  },
  {
   "cell_type": "code",
   "execution_count": 70,
   "id": "1721ad74",
   "metadata": {},
   "outputs": [],
   "source": [
    "product = product_of_all_numbers(list1)"
   ]
  },
  {
   "cell_type": "code",
   "execution_count": 71,
   "id": "da592b97",
   "metadata": {},
   "outputs": [
    {
     "data": {
      "text/plain": [
       "2315262738624675840"
      ]
     },
     "execution_count": 71,
     "metadata": {},
     "output_type": "execute_result"
    }
   ],
   "source": [
    "product"
   ]
  },
  {
   "cell_type": "raw",
   "id": "0c2d3ea7",
   "metadata": {},
   "source": [
    "Q2. Write a python program for encrypting a message sent to you by your friend. The logic of encryption\n",
    "should be such that, for a the output should be z. For b, the output should be y. For c, the output should\n",
    "be x respectively. Also, the whitespace should be replaced with a dollar sign. Keep the punctuation\n",
    "marks unchanged.\n",
    "Input Sentence: I want to become a Data Scientist.\n",
    "Encrypt the above input sentence using the program you just created.\n",
    "Note: Convert the given input sentence into lowercase before encrypting. The final output should be\n",
    "lowercase."
   ]
  },
  {
   "cell_type": "code",
   "execution_count": 5,
   "id": "b788df94",
   "metadata": {},
   "outputs": [
    {
     "name": "stdout",
     "output_type": "stream",
     "text": [
      "Enter Message to be Sent: I want to be Data Scientist\n"
     ]
    }
   ],
   "source": [
    "\n",
    "def encrypt_message(message):\n",
    "    encryption_dict = {\n",
    "        'a': 'z', 'b': 'y', 'c': 'x', 'd': 'w', 'e': 'v', 'f': 'u',\n",
    "        'g': 't', 'h': 's', 'i': 'r', 'j': 'q', 'k': 'p', 'l': 'o',\n",
    "        'm': 'n', 'n': 'm', 'o': 'l', 'p': 'k', 'q': 'j', 'r': 'i',\n",
    "        's': 'h', 't': 'g', 'u': 'f', 'v': 'e', 'w': 'd', 'x': 'c',\n",
    "        'y': 'b', 'z': 'a', ' ': '$'}\n",
    "    message =message.lower()\n",
    "    encrypted_message=''\n",
    "    for char in message:\n",
    "        if char in encryption_dict:\n",
    "            encrypted_message += encryption_dict[char]\n",
    "        else:\n",
    "            encrypted_message += char\n",
    "    return encrypted_message\n",
    "message_to_be_encrypted=input(\"Enter Message to be Sent: \")\n",
    "encrypted_sentence = encrypt_message(message_to_be_encrypted)\n"
   ]
  },
  {
   "cell_type": "code",
   "execution_count": 6,
   "id": "bd59814c",
   "metadata": {},
   "outputs": [
    {
     "name": "stdout",
     "output_type": "stream",
     "text": [
      "r$dzmg$gl$yv$wzgz$hxrvmgrhg\n"
     ]
    }
   ],
   "source": [
    "print(encrypted_sentence)"
   ]
  },
  {
   "cell_type": "code",
   "execution_count": null,
   "id": "eff45758",
   "metadata": {},
   "outputs": [],
   "source": []
  }
 ],
 "metadata": {
  "kernelspec": {
   "display_name": "Python 3 (ipykernel)",
   "language": "python",
   "name": "python3"
  },
  "language_info": {
   "codemirror_mode": {
    "name": "ipython",
    "version": 3
   },
   "file_extension": ".py",
   "mimetype": "text/x-python",
   "name": "python",
   "nbconvert_exporter": "python",
   "pygments_lexer": "ipython3",
   "version": "3.11.5"
  }
 },
 "nbformat": 4,
 "nbformat_minor": 5
}
