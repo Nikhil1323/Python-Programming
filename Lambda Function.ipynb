{
 "cells": [
  {
   "cell_type": "code",
   "execution_count": 1,
   "id": "2847ffd7-318c-4519-99b5-b05c396e3f15",
   "metadata": {},
   "outputs": [],
   "source": [
    "n= 3\n",
    "p = 2\n",
    "# to get n to the power p\n",
    "def test(n,p):\n",
    "    return n**p"
   ]
  },
  {
   "cell_type": "code",
   "execution_count": 2,
   "id": "2ba4c719-ef99-4b2b-9dcc-7a5a8fce2d9d",
   "metadata": {},
   "outputs": [
    {
     "data": {
      "text/plain": [
       "9"
      ]
     },
     "execution_count": 2,
     "metadata": {},
     "output_type": "execute_result"
    }
   ],
   "source": [
    "test(3,2)"
   ]
  },
  {
   "cell_type": "code",
   "execution_count": 4,
   "id": "8a95d2c0-140e-4de6-b78a-a9ff1654db6d",
   "metadata": {},
   "outputs": [],
   "source": [
    "#How to write same function using Lambda Function\n",
    "a = lambda n , p :n**p"
   ]
  },
  {
   "cell_type": "code",
   "execution_count": 5,
   "id": "e02707fa-77cb-48a3-80b2-0b346811d4e2",
   "metadata": {},
   "outputs": [
    {
     "data": {
      "text/plain": [
       "9"
      ]
     },
     "execution_count": 5,
     "metadata": {},
     "output_type": "execute_result"
    }
   ],
   "source": [
    "a(3,2)"
   ]
  },
  {
   "cell_type": "markdown",
   "id": "a90612e0-5075-41f0-9a2e-8db2bb195116",
   "metadata": {},
   "source": [
    "One Liner function or lambda function or anonymous Function"
   ]
  },
  {
   "cell_type": "code",
   "execution_count": 6,
   "id": "c13b8811-7189-4674-b369-189f10742005",
   "metadata": {},
   "outputs": [],
   "source": [
    "# Function for addition\n",
    "add = lambda x,y : x+y"
   ]
  },
  {
   "cell_type": "code",
   "execution_count": 7,
   "id": "612b6b5a-5ea1-442d-a616-87eed6d01243",
   "metadata": {},
   "outputs": [
    {
     "data": {
      "text/plain": [
       "9"
      ]
     },
     "execution_count": 7,
     "metadata": {},
     "output_type": "execute_result"
    }
   ],
   "source": [
    "add(4,5)"
   ]
  },
  {
   "cell_type": "code",
   "execution_count": 10,
   "id": "1e1d51be-a7a3-4c4a-a5d6-ff4335ca1f09",
   "metadata": {},
   "outputs": [],
   "source": [
    "c_to_f = lambda c : (9/5)*c + 32 # function to convert celcius to farhenite"
   ]
  },
  {
   "cell_type": "code",
   "execution_count": 11,
   "id": "d0ae44b7-f7cd-402e-b81f-988883238b84",
   "metadata": {},
   "outputs": [
    {
     "data": {
      "text/plain": [
       "80.6"
      ]
     },
     "execution_count": 11,
     "metadata": {},
     "output_type": "execute_result"
    }
   ],
   "source": [
    "c_to_f(27)"
   ]
  },
  {
   "cell_type": "code",
   "execution_count": 19,
   "id": "2bd23fbe-1ea3-471c-95b9-abd6dadc7759",
   "metadata": {},
   "outputs": [],
   "source": [
    "maximum = lambda m,n : m if m > n else n"
   ]
  },
  {
   "cell_type": "code",
   "execution_count": 20,
   "id": "92f3e67a-3ece-4d71-a8e7-4925168b157f",
   "metadata": {},
   "outputs": [
    {
     "data": {
      "text/plain": [
       "6"
      ]
     },
     "execution_count": 20,
     "metadata": {},
     "output_type": "execute_result"
    }
   ],
   "source": [
    "maximum(5,6)"
   ]
  },
  {
   "cell_type": "code",
   "execution_count": 21,
   "id": "d5d0ccb0-609d-46ff-8808-15616caa950d",
   "metadata": {},
   "outputs": [],
   "source": [
    "s= \"pwskills\""
   ]
  },
  {
   "cell_type": "code",
   "execution_count": 22,
   "id": "e3158199-9e98-4a08-9070-a3f653551593",
   "metadata": {},
   "outputs": [],
   "source": [
    "find_length = lambda s : len(s)"
   ]
  },
  {
   "cell_type": "code",
   "execution_count": 23,
   "id": "6c157a6d-ea05-4cc4-945a-aeb1d140562d",
   "metadata": {},
   "outputs": [
    {
     "data": {
      "text/plain": [
       "8"
      ]
     },
     "execution_count": 23,
     "metadata": {},
     "output_type": "execute_result"
    }
   ],
   "source": [
    "find_length(s)"
   ]
  },
  {
   "cell_type": "code",
   "execution_count": null,
   "id": "7bff86e3-1842-49ef-8950-185b4b81a219",
   "metadata": {},
   "outputs": [],
   "source": []
  }
 ],
 "metadata": {
  "kernelspec": {
   "display_name": "Python 3 (ipykernel)",
   "language": "python",
   "name": "python3"
  },
  "language_info": {
   "codemirror_mode": {
    "name": "ipython",
    "version": 3
   },
   "file_extension": ".py",
   "mimetype": "text/x-python",
   "name": "python",
   "nbconvert_exporter": "python",
   "pygments_lexer": "ipython3",
   "version": "3.10.8"
  }
 },
 "nbformat": 4,
 "nbformat_minor": 5
}
