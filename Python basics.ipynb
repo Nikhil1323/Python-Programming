{
 "cells": [
  {
   "cell_type": "code",
   "execution_count": 1,
   "id": "f8fdf740-b26b-4c29-8ae1-65643c7b339e",
   "metadata": {},
   "outputs": [
    {
     "data": {
      "text/plain": [
       "2"
      ]
     },
     "execution_count": 1,
     "metadata": {},
     "output_type": "execute_result"
    }
   ],
   "source": [
    "1+1"
   ]
  },
  {
   "cell_type": "code",
   "execution_count": 4,
   "id": "8fa2445d-c98a-4bcc-9589-e65c4bcb19d4",
   "metadata": {},
   "outputs": [
    {
     "data": {
      "text/plain": [
       "45"
      ]
     },
     "execution_count": 4,
     "metadata": {},
     "output_type": "execute_result"
    }
   ],
   "source": [
    "5*9"
   ]
  },
  {
   "cell_type": "code",
   "execution_count": 5,
   "id": "2c97ec01-e418-4779-bc14-4c033cc207cc",
   "metadata": {},
   "outputs": [],
   "source": [
    "a = 10\n",
    "# a is variable\n",
    "# a is storing int data 10"
   ]
  },
  {
   "cell_type": "code",
   "execution_count": 6,
   "id": "c26f672b-bb2f-4ced-ba38-d6ea69ccf667",
   "metadata": {},
   "outputs": [
    {
     "data": {
      "text/plain": [
       "10"
      ]
     },
     "execution_count": 6,
     "metadata": {},
     "output_type": "execute_result"
    }
   ],
   "source": [
    "a\n",
    "# calling a"
   ]
  },
  {
   "cell_type": "code",
   "execution_count": 7,
   "id": "1bc34243-dadd-418a-aab4-8edb30b54aeb",
   "metadata": {},
   "outputs": [],
   "source": [
    "#a is referencing value 10 stored in the memory"
   ]
  },
  {
   "cell_type": "code",
   "execution_count": 8,
   "id": "7daa274e-c781-4cff-8806-523b45bd558c",
   "metadata": {},
   "outputs": [],
   "source": [
    "nikhil = 100"
   ]
  },
  {
   "cell_type": "code",
   "execution_count": 9,
   "id": "ed52ec1b-083f-432a-9160-8b3c75a6b981",
   "metadata": {},
   "outputs": [
    {
     "data": {
      "text/plain": [
       "100"
      ]
     },
     "execution_count": 9,
     "metadata": {},
     "output_type": "execute_result"
    }
   ],
   "source": [
    "nikhil"
   ]
  },
  {
   "cell_type": "code",
   "execution_count": 10,
   "id": "7f295b56-c244-48d9-9efd-fa9feaef09c4",
   "metadata": {},
   "outputs": [
    {
     "data": {
      "text/plain": [
       "110"
      ]
     },
     "execution_count": 10,
     "metadata": {},
     "output_type": "execute_result"
    }
   ],
   "source": [
    "a + nikhil"
   ]
  },
  {
   "cell_type": "markdown",
   "id": "21a29631-e676-43f7-b709-49e7cfb83dc3",
   "metadata": {},
   "source": [
    "#using opertator + to perform operation"
   ]
  },
  {
   "cell_type": "markdown",
   "id": "0e2475b4-644e-48d3-a0ad-a21162496bed",
   "metadata": {},
   "source": [
    "# python self recognizes the type of data"
   ]
  },
  {
   "cell_type": "markdown",
   "id": "86220c90-91ad-4243-9d41-6b7fb94559a0",
   "metadata": {},
   "source": [
    "#python supports scripting as well as object oriented programming(oops)"
   ]
  },
  {
   "cell_type": "code",
   "execution_count": 14,
   "id": "a1c6da91-3d1f-46cf-89de-c4d9bda0ac6f",
   "metadata": {},
   "outputs": [
    {
     "data": {
      "text/plain": [
       "int"
      ]
     },
     "execution_count": 14,
     "metadata": {},
     "output_type": "execute_result"
    }
   ],
   "source": [
    "#function to get the data type\n",
    "type(a)"
   ]
  },
  {
   "cell_type": "code",
   "execution_count": 15,
   "id": "3a9bfca8-d126-4c5a-bf4a-02febede992b",
   "metadata": {},
   "outputs": [
    {
     "data": {
      "text/plain": [
       "int"
      ]
     },
     "execution_count": 15,
     "metadata": {},
     "output_type": "execute_result"
    }
   ],
   "source": [
    "type(nikhil)"
   ]
  },
  {
   "cell_type": "code",
   "execution_count": 16,
   "id": "7ed036b7-04c0-4a46-af9e-218ba95a5b92",
   "metadata": {},
   "outputs": [],
   "source": [
    "b = 2.09"
   ]
  },
  {
   "cell_type": "code",
   "execution_count": 17,
   "id": "8707b854-a24e-49e8-82f5-3b8ff355adb0",
   "metadata": {},
   "outputs": [
    {
     "data": {
      "text/plain": [
       "float"
      ]
     },
     "execution_count": 17,
     "metadata": {},
     "output_type": "execute_result"
    }
   ],
   "source": [
    "type(b)"
   ]
  },
  {
   "cell_type": "markdown",
   "id": "05406cea-09ae-4ff5-bdf4-1c60791fc868",
   "metadata": {},
   "source": [
    "Getting acquainted with different data types"
   ]
  },
  {
   "cell_type": "code",
   "execution_count": 18,
   "id": "08876d90-2c95-4a9e-a445-dac71d95c452",
   "metadata": {},
   "outputs": [],
   "source": [
    "c = 45.25689"
   ]
  },
  {
   "cell_type": "code",
   "execution_count": 19,
   "id": "0e7967f7-af0d-446b-9ad9-0122376d29b7",
   "metadata": {},
   "outputs": [
    {
     "data": {
      "text/plain": [
       "float"
      ]
     },
     "execution_count": 19,
     "metadata": {},
     "output_type": "execute_result"
    }
   ],
   "source": [
    "type(c)"
   ]
  },
  {
   "cell_type": "code",
   "execution_count": 20,
   "id": "f4386e49-558f-4012-a8aa-582aa1e41aa1",
   "metadata": {},
   "outputs": [],
   "source": [
    "d = \"nikhil\""
   ]
  },
  {
   "cell_type": "markdown",
   "id": "888df1e8-717b-47ac-9dc8-896e14a039d5",
   "metadata": {
    "tags": []
   },
   "source": [
    "# strings are stored using double quotes or single quotese"
   ]
  },
  {
   "cell_type": "code",
   "execution_count": 22,
   "id": "fa287f8b-8222-4494-b807-2528be59feb7",
   "metadata": {},
   "outputs": [
    {
     "data": {
      "text/plain": [
       "str"
      ]
     },
     "execution_count": 22,
     "metadata": {},
     "output_type": "execute_result"
    }
   ],
   "source": [
    "type(d)"
   ]
  },
  {
   "cell_type": "code",
   "execution_count": 24,
   "id": "bb6a37f2-fcd2-4add-9757-7df1481f9594",
   "metadata": {},
   "outputs": [],
   "source": [
    "e = \"this is my first tech class\""
   ]
  },
  {
   "cell_type": "code",
   "execution_count": 25,
   "id": "4295e1d8-bd9a-4db1-a119-03ab6cf4f311",
   "metadata": {},
   "outputs": [
    {
     "data": {
      "text/plain": [
       "str"
      ]
     },
     "execution_count": 25,
     "metadata": {},
     "output_type": "execute_result"
    }
   ],
   "source": [
    "type(e)"
   ]
  },
  {
   "cell_type": "code",
   "execution_count": 26,
   "id": "b6569e4e-23b1-45b2-acbc-9295027aec34",
   "metadata": {},
   "outputs": [
    {
     "data": {
      "text/plain": [
       "'t'"
      ]
     },
     "execution_count": 26,
     "metadata": {},
     "output_type": "execute_result"
    }
   ],
   "source": [
    "e[0]"
   ]
  },
  {
   "cell_type": "code",
   "execution_count": 27,
   "id": "18106683-1f55-4576-9286-9243aa674443",
   "metadata": {},
   "outputs": [],
   "source": [
    "n = True"
   ]
  },
  {
   "cell_type": "code",
   "execution_count": 28,
   "id": "bf37b8cd-e806-4e67-9afa-c81d671b7492",
   "metadata": {},
   "outputs": [
    {
     "data": {
      "text/plain": [
       "bool"
      ]
     },
     "execution_count": 28,
     "metadata": {},
     "output_type": "execute_result"
    }
   ],
   "source": [
    "type(n)"
   ]
  },
  {
   "cell_type": "markdown",
   "id": "5a54f581-e75b-4844-852e-c9a8c1206ed3",
   "metadata": {},
   "source": [
    "#boolean variable contains only 2 values i.e true and false"
   ]
  },
  {
   "cell_type": "code",
   "execution_count": 30,
   "id": "41fdcae0-4269-4b34-8689-c170b991e38f",
   "metadata": {},
   "outputs": [],
   "source": [
    "m = False"
   ]
  },
  {
   "cell_type": "code",
   "execution_count": 31,
   "id": "cb59cfa8-0d75-4cf8-97c4-487180fac2f3",
   "metadata": {},
   "outputs": [
    {
     "data": {
      "text/plain": [
       "bool"
      ]
     },
     "execution_count": 31,
     "metadata": {},
     "output_type": "execute_result"
    }
   ],
   "source": [
    "type(m)"
   ]
  },
  {
   "cell_type": "code",
   "execution_count": 32,
   "id": "5f8742c0-fce4-42d2-a3ff-30f458583af2",
   "metadata": {},
   "outputs": [
    {
     "data": {
      "text/plain": [
       "1"
      ]
     },
     "execution_count": 32,
     "metadata": {},
     "output_type": "execute_result"
    }
   ],
   "source": [
    "n+m"
   ]
  },
  {
   "cell_type": "markdown",
   "id": "077ca28b-d6e3-43a6-aacc-017e9213464e",
   "metadata": {},
   "source": [
    "#as the system internally stores value of true as 1 and False as 0 hence the addition od m+n is 1"
   ]
  },
  {
   "cell_type": "code",
   "execution_count": 33,
   "id": "a244455c-f7f9-409d-998c-296dc4ce40f3",
   "metadata": {},
   "outputs": [
    {
     "data": {
      "text/plain": [
       "1"
      ]
     },
     "execution_count": 33,
     "metadata": {},
     "output_type": "execute_result"
    }
   ],
   "source": [
    "True *True"
   ]
  },
  {
   "cell_type": "code",
   "execution_count": 34,
   "id": "6189e7d3-163e-43de-8713-aa12b802ebaf",
   "metadata": {},
   "outputs": [
    {
     "data": {
      "text/plain": [
       "0"
      ]
     },
     "execution_count": 34,
     "metadata": {},
     "output_type": "execute_result"
    }
   ],
   "source": [
    "True *  False"
   ]
  },
  {
   "cell_type": "code",
   "execution_count": 35,
   "id": "21707d86-f597-456b-819f-fb8436c737fe",
   "metadata": {},
   "outputs": [
    {
     "ename": "ZeroDivisionError",
     "evalue": "division by zero",
     "output_type": "error",
     "traceback": [
      "\u001b[0;31m---------------------------------------------------------------------------\u001b[0m",
      "\u001b[0;31mZeroDivisionError\u001b[0m                         Traceback (most recent call last)",
      "Cell \u001b[0;32mIn[35], line 1\u001b[0m\n\u001b[0;32m----> 1\u001b[0m \u001b[38;5;28;43;01mTrue\u001b[39;49;00m\u001b[38;5;241;43m/\u001b[39;49m\u001b[38;5;28;43;01mFalse\u001b[39;49;00m\n",
      "\u001b[0;31mZeroDivisionError\u001b[0m: division by zero"
     ]
    }
   ],
   "source": [
    "True/False"
   ]
  },
  {
   "cell_type": "code",
   "execution_count": 36,
   "id": "0dd1573d-4a76-4592-a492-39fdb7b1e78c",
   "metadata": {},
   "outputs": [
    {
     "data": {
      "text/plain": [
       "0.0"
      ]
     },
     "execution_count": 36,
     "metadata": {},
     "output_type": "execute_result"
    }
   ],
   "source": [
    "False/True"
   ]
  },
  {
   "cell_type": "code",
   "execution_count": 37,
   "id": "4a55d20b-2db4-48d9-bb82-4026e28fee7e",
   "metadata": {},
   "outputs": [
    {
     "ename": "ZeroDivisionError",
     "evalue": "division by zero",
     "output_type": "error",
     "traceback": [
      "\u001b[0;31m---------------------------------------------------------------------------\u001b[0m",
      "\u001b[0;31mZeroDivisionError\u001b[0m                         Traceback (most recent call last)",
      "Cell \u001b[0;32mIn[37], line 1\u001b[0m\n\u001b[0;32m----> 1\u001b[0m \u001b[38;5;241;43m1\u001b[39;49m\u001b[38;5;241;43m/\u001b[39;49m\u001b[38;5;241;43m0\u001b[39;49m\n",
      "\u001b[0;31mZeroDivisionError\u001b[0m: division by zero"
     ]
    }
   ],
   "source": [
    "1/0"
   ]
  },
  {
   "cell_type": "code",
   "execution_count": 38,
   "id": "52a39871-a6e8-41d5-a03b-86b48c9d4fdb",
   "metadata": {},
   "outputs": [
    {
     "data": {
      "text/plain": [
       "0.0"
      ]
     },
     "execution_count": 38,
     "metadata": {},
     "output_type": "execute_result"
    }
   ],
   "source": [
    "0/1"
   ]
  },
  {
   "cell_type": "markdown",
   "id": "d8e900b7-a2e5-4b52-ab89-145b320791f6",
   "metadata": {},
   "source": [
    "#check whether the python contains complex variables"
   ]
  },
  {
   "cell_type": "code",
   "execution_count": 40,
   "id": "6821b011-4041-4897-bb7b-2d4448b54db7",
   "metadata": {},
   "outputs": [],
   "source": [
    "v=5+8j"
   ]
  },
  {
   "cell_type": "code",
   "execution_count": 41,
   "id": "bb13a6f3-7dca-46ba-8a96-ef4d4528446e",
   "metadata": {},
   "outputs": [
    {
     "data": {
      "text/plain": [
       "complex"
      ]
     },
     "execution_count": 41,
     "metadata": {},
     "output_type": "execute_result"
    }
   ],
   "source": [
    "type(v)"
   ]
  },
  {
   "cell_type": "markdown",
   "id": "061d4bab-1488-4177-8d85-e427f4890ee7",
   "metadata": {},
   "source": [
    "#generally we use j as imaginary number in complex number"
   ]
  },
  {
   "cell_type": "code",
   "execution_count": 43,
   "id": "7537312f-9f1a-41ee-a95f-ccbf1d74eaf8",
   "metadata": {},
   "outputs": [
    {
     "data": {
      "text/plain": [
       "5.0"
      ]
     },
     "execution_count": 43,
     "metadata": {},
     "output_type": "execute_result"
    }
   ],
   "source": [
    "v.real"
   ]
  },
  {
   "cell_type": "markdown",
   "id": "2096f30d-28f7-4491-ab95-bfe8bc74f497",
   "metadata": {},
   "source": [
    "Use dot function to get the real or imaginary value of the complex number"
   ]
  },
  {
   "cell_type": "code",
   "execution_count": 45,
   "id": "e0f87099-1c1f-4e72-bd28-d2597699d2f6",
   "metadata": {},
   "outputs": [
    {
     "data": {
      "text/plain": [
       "100"
      ]
     },
     "execution_count": 45,
     "metadata": {},
     "output_type": "execute_result"
    }
   ],
   "source": [
    "nikhil.real"
   ]
  },
  {
   "cell_type": "code",
   "execution_count": 46,
   "id": "5ee58b1e-712a-48f5-800a-9f073c2e47a6",
   "metadata": {},
   "outputs": [],
   "source": [
    "nikhil = 8+20j"
   ]
  },
  {
   "cell_type": "code",
   "execution_count": 47,
   "id": "bbeb4818-72e3-441e-8426-532f92e14a83",
   "metadata": {},
   "outputs": [
    {
     "data": {
      "text/plain": [
       "20.0"
      ]
     },
     "execution_count": 47,
     "metadata": {},
     "output_type": "execute_result"
    }
   ],
   "source": [
    "nikhil.imag"
   ]
  },
  {
   "cell_type": "markdown",
   "id": "4e4eca59-9fa0-4f19-bd3b-31a242bf1328",
   "metadata": {},
   "source": [
    "This 2nd time declaration of same variable overrides the 1st declaration and stores the latest values"
   ]
  },
  {
   "cell_type": "code",
   "execution_count": 48,
   "id": "0d1d898e-73b2-4b95-add8-1cac41aa3e50",
   "metadata": {},
   "outputs": [
    {
     "data": {
      "text/plain": [
       "8.0"
      ]
     },
     "execution_count": 48,
     "metadata": {},
     "output_type": "execute_result"
    }
   ],
   "source": [
    "nikhil.real"
   ]
  },
  {
   "cell_type": "code",
   "execution_count": 49,
   "id": "86ccddf0-d068-4496-a132-aadf9180dfa6",
   "metadata": {},
   "outputs": [
    {
     "data": {
      "text/plain": [
       "complex"
      ]
     },
     "execution_count": 49,
     "metadata": {},
     "output_type": "execute_result"
    }
   ],
   "source": [
    "type(nikhil)"
   ]
  },
  {
   "cell_type": "markdown",
   "id": "22ab6478-2bf9-4930-a755-fac6d38e4096",
   "metadata": {},
   "source": [
    "#use swhift+Tab to know about a specific function"
   ]
  },
  {
   "cell_type": "code",
   "execution_count": 51,
   "id": "626fc2b4-6b0a-4ae9-b0db-ab595414be12",
   "metadata": {},
   "outputs": [
    {
     "name": "stdout",
     "output_type": "stream",
     "text": [
      "5\n"
     ]
    }
   ],
   "source": [
    "print(5)"
   ]
  },
  {
   "cell_type": "markdown",
   "id": "cbaad8a2-8b51-4175-a127-6637cb696a82",
   "metadata": {},
   "source": [
    "#print() is used to print in the console "
   ]
  },
  {
   "cell_type": "code",
   "execution_count": 52,
   "id": "3b285f1e-96d0-4bd2-8ecb-c93860570f6a",
   "metadata": {},
   "outputs": [
    {
     "name": "stdout",
     "output_type": "stream",
     "text": [
      "my Name is Nikhil\n"
     ]
    }
   ],
   "source": [
    "print(\"my Name is Nikhil\")"
   ]
  },
  {
   "cell_type": "code",
   "execution_count": 53,
   "id": "4b01066e-cad1-4e6a-bc77-33c080e8bccf",
   "metadata": {},
   "outputs": [
    {
     "name": "stdout",
     "output_type": "stream",
     "text": [
      "(8+20j)\n"
     ]
    }
   ],
   "source": [
    "print(nikhil)"
   ]
  },
  {
   "cell_type": "code",
   "execution_count": 54,
   "id": "57d7c994-4938-4ff1-9c0c-3cad469a7f0d",
   "metadata": {},
   "outputs": [
    {
     "name": "stdout",
     "output_type": "stream",
     "text": [
      "10\n"
     ]
    }
   ],
   "source": [
    "print(a)"
   ]
  },
  {
   "cell_type": "code",
   "execution_count": 55,
   "id": "1607141a-da0b-45c7-be67-5a2e0fc5ce36",
   "metadata": {},
   "outputs": [],
   "source": [
    "s = \"selfstudy\""
   ]
  },
  {
   "cell_type": "code",
   "execution_count": 56,
   "id": "8a2aaf19-96bd-49bc-8aa9-c14739eb7d87",
   "metadata": {},
   "outputs": [
    {
     "data": {
      "text/plain": [
       "str"
      ]
     },
     "execution_count": 56,
     "metadata": {},
     "output_type": "execute_result"
    }
   ],
   "source": [
    "type(s)"
   ]
  },
  {
   "cell_type": "code",
   "execution_count": 57,
   "id": "cd3223b9-bf9f-4fe2-9dd7-72a090f584e0",
   "metadata": {},
   "outputs": [
    {
     "data": {
      "text/plain": [
       "'s'"
      ]
     },
     "execution_count": 57,
     "metadata": {},
     "output_type": "execute_result"
    }
   ],
   "source": [
    "s[0]"
   ]
  },
  {
   "cell_type": "code",
   "execution_count": 1,
   "id": "bafb7ab7-23cf-44b7-97e6-6cff39ad9881",
   "metadata": {},
   "outputs": [
    {
     "ename": "NameError",
     "evalue": "name 's' is not defined",
     "output_type": "error",
     "traceback": [
      "\u001b[0;31m---------------------------------------------------------------------------\u001b[0m",
      "\u001b[0;31mNameError\u001b[0m                                 Traceback (most recent call last)",
      "Cell \u001b[0;32mIn[1], line 1\u001b[0m\n\u001b[0;32m----> 1\u001b[0m \u001b[43ms\u001b[49m[\u001b[38;5;241m4\u001b[39m]\n",
      "\u001b[0;31mNameError\u001b[0m: name 's' is not defined"
     ]
    }
   ],
   "source": [
    "s[4]"
   ]
  },
  {
   "cell_type": "code",
   "execution_count": 2,
   "id": "b740a9db-d855-403e-8fbb-f5ef77162c71",
   "metadata": {},
   "outputs": [
    {
     "ename": "NameError",
     "evalue": "name 's' is not defined",
     "output_type": "error",
     "traceback": [
      "\u001b[0;31m---------------------------------------------------------------------------\u001b[0m",
      "\u001b[0;31mNameError\u001b[0m                                 Traceback (most recent call last)",
      "Cell \u001b[0;32mIn[2], line 1\u001b[0m\n\u001b[0;32m----> 1\u001b[0m \u001b[43ms\u001b[49m\n",
      "\u001b[0;31mNameError\u001b[0m: name 's' is not defined"
     ]
    }
   ],
   "source": [
    "s"
   ]
  },
  {
   "cell_type": "code",
   "execution_count": 4,
   "id": "5c595c9a-26c7-4053-9209-acf8f7cdb77f",
   "metadata": {},
   "outputs": [],
   "source": [
    "s = \"selfstudy\""
   ]
  },
  {
   "cell_type": "code",
   "execution_count": 5,
   "id": "59806e55-9b15-4033-8d94-9fdf041001d7",
   "metadata": {},
   "outputs": [
    {
     "data": {
      "text/plain": [
       "'s'"
      ]
     },
     "execution_count": 5,
     "metadata": {},
     "output_type": "execute_result"
    }
   ],
   "source": [
    "s[4]"
   ]
  },
  {
   "cell_type": "code",
   "execution_count": 6,
   "id": "a9886bd3-e481-4cbd-9d67-5baec625d254",
   "metadata": {},
   "outputs": [
    {
     "data": {
      "text/plain": [
       "'u'"
      ]
     },
     "execution_count": 6,
     "metadata": {},
     "output_type": "execute_result"
    }
   ],
   "source": [
    "s[6]"
   ]
  },
  {
   "cell_type": "markdown",
   "id": "4bf06f4a-c8ce-4303-9d4b-6d8a93b65c63",
   "metadata": {},
   "source": [
    "#forward indexing starting from zero\n",
    "#backward indexing starts from -1"
   ]
  },
  {
   "cell_type": "code",
   "execution_count": 8,
   "id": "339eda61-15d8-45b6-b46c-a1c0e9710dc0",
   "metadata": {},
   "outputs": [
    {
     "data": {
      "text/plain": [
       "'f'"
      ]
     },
     "execution_count": 8,
     "metadata": {},
     "output_type": "execute_result"
    }
   ],
   "source": [
    "s[-6]"
   ]
  },
  {
   "cell_type": "code",
   "execution_count": 9,
   "id": "67bbfd54-0db4-4415-baf7-fb5013f77d70",
   "metadata": {},
   "outputs": [
    {
     "data": {
      "text/plain": [
       "'e'"
      ]
     },
     "execution_count": 9,
     "metadata": {},
     "output_type": "execute_result"
    }
   ],
   "source": [
    "s[-8]"
   ]
  },
  {
   "cell_type": "code",
   "execution_count": 10,
   "id": "6ac63641-4cf0-4db1-958f-ee64dfa38c15",
   "metadata": {},
   "outputs": [
    {
     "data": {
      "text/plain": [
       "'s'"
      ]
     },
     "execution_count": 10,
     "metadata": {},
     "output_type": "execute_result"
    }
   ],
   "source": [
    "s[-9]"
   ]
  },
  {
   "cell_type": "code",
   "execution_count": 11,
   "id": "c3fe414c-20df-4679-b2a0-2e361a726118",
   "metadata": {},
   "outputs": [
    {
     "ename": "TypeError",
     "evalue": "string indices must be integers",
     "output_type": "error",
     "traceback": [
      "\u001b[0;31m---------------------------------------------------------------------------\u001b[0m",
      "\u001b[0;31mTypeError\u001b[0m                                 Traceback (most recent call last)",
      "Cell \u001b[0;32mIn[11], line 1\u001b[0m\n\u001b[0;32m----> 1\u001b[0m \u001b[43ms\u001b[49m\u001b[43m[\u001b[49m\u001b[38;5;241;43m0\u001b[39;49m\u001b[43m,\u001b[49m\u001b[38;5;241;43m1\u001b[39;49m\u001b[43m,\u001b[49m\u001b[38;5;241;43m2\u001b[39;49m\u001b[43m]\u001b[49m\n",
      "\u001b[0;31mTypeError\u001b[0m: string indices must be integers"
     ]
    }
   ],
   "source": [
    "s[0,1,2]"
   ]
  },
  {
   "cell_type": "code",
   "execution_count": 12,
   "id": "871a7f04-23eb-47a4-a7e0-64a01799f586",
   "metadata": {},
   "outputs": [
    {
     "data": {
      "text/plain": [
       "'se'"
      ]
     },
     "execution_count": 12,
     "metadata": {},
     "output_type": "execute_result"
    }
   ],
   "source": [
    "s[0:2]"
   ]
  },
  {
   "cell_type": "code",
   "execution_count": 13,
   "id": "5ec176bb-a5ac-4244-a1b5-a7325b2eeeee",
   "metadata": {},
   "outputs": [
    {
     "data": {
      "text/plain": [
       "'self'"
      ]
     },
     "execution_count": 13,
     "metadata": {},
     "output_type": "execute_result"
    }
   ],
   "source": [
    "s[0:4]"
   ]
  },
  {
   "cell_type": "code",
   "execution_count": 14,
   "id": "f07871d1-58ed-4a82-814e-e0837c18958b",
   "metadata": {},
   "outputs": [],
   "source": [
    "#Slicing a string based on indexing"
   ]
  },
  {
   "cell_type": "code",
   "execution_count": 15,
   "id": "ca420a10-da94-48c5-a944-b095c80057f7",
   "metadata": {},
   "outputs": [],
   "source": [
    "#data output we get as upper bound - 1\n",
    "# the range we give must be +1"
   ]
  },
  {
   "cell_type": "code",
   "execution_count": 16,
   "id": "d98d2e04-dd18-42c8-af07-b8ebfcdb85a4",
   "metadata": {},
   "outputs": [
    {
     "data": {
      "text/plain": [
       "'sel'"
      ]
     },
     "execution_count": 16,
     "metadata": {},
     "output_type": "execute_result"
    }
   ],
   "source": [
    "s[-9:-6]"
   ]
  },
  {
   "cell_type": "markdown",
   "id": "6071cf3b-ecf8-4360-aab9-294dc3144fc1",
   "metadata": {},
   "source": [
    "To get alternate data in the string"
   ]
  },
  {
   "cell_type": "code",
   "execution_count": 17,
   "id": "57f856eb-7cc4-4492-b3aa-165888833b68",
   "metadata": {},
   "outputs": [
    {
     "data": {
      "text/plain": [
       "'slsu'"
      ]
     },
     "execution_count": 17,
     "metadata": {},
     "output_type": "execute_result"
    }
   ],
   "source": [
    "s[0:8:2]"
   ]
  },
  {
   "cell_type": "code",
   "execution_count": 18,
   "id": "7cf1e75e-bc8a-41ef-bc78-3de846e10c19",
   "metadata": {},
   "outputs": [
    {
     "data": {
      "text/plain": [
       "'slsuy'"
      ]
     },
     "execution_count": 18,
     "metadata": {},
     "output_type": "execute_result"
    }
   ],
   "source": [
    "s[0:10:2]"
   ]
  },
  {
   "cell_type": "markdown",
   "id": "54afbac0-1090-4f9d-8b28-eb6334a0c724",
   "metadata": {},
   "source": [
    "Here 2 in the bracket is for the Jump. if we doesn't mention then bydefault it is 1"
   ]
  },
  {
   "cell_type": "code",
   "execution_count": 19,
   "id": "8fa22794-2135-4e9c-bba4-11759196a300",
   "metadata": {},
   "outputs": [
    {
     "data": {
      "text/plain": [
       "'slsuy'"
      ]
     },
     "execution_count": 19,
     "metadata": {},
     "output_type": "execute_result"
    }
   ],
   "source": [
    "s[::2]"
   ]
  },
  {
   "cell_type": "markdown",
   "id": "e904fd5f-5730-4b75-b64e-c7871de35b64",
   "metadata": {},
   "source": [
    "Here we have not mentioned the starting and ending point still python recognzes"
   ]
  },
  {
   "cell_type": "markdown",
   "id": "5c679b9d-af23-4cbe-bd7e-8abfe269ec20",
   "metadata": {},
   "source": [
    "whenever we do not mention either the starting or ending point or both then python recognizes on his own"
   ]
  },
  {
   "cell_type": "code",
   "execution_count": 20,
   "id": "ee493f7d-19f5-4dfd-9e75-96f45cd5dde1",
   "metadata": {},
   "outputs": [
    {
     "data": {
      "text/plain": [
       "'lsuy'"
      ]
     },
     "execution_count": 20,
     "metadata": {},
     "output_type": "execute_result"
    }
   ],
   "source": [
    "s[2::2]"
   ]
  },
  {
   "cell_type": "code",
   "execution_count": 21,
   "id": "e581faa5-3d82-4236-a481-42c34685ca4c",
   "metadata": {},
   "outputs": [
    {
     "data": {
      "text/plain": [
       "'sfu'"
      ]
     },
     "execution_count": 21,
     "metadata": {},
     "output_type": "execute_result"
    }
   ],
   "source": [
    "s[:10:3]"
   ]
  },
  {
   "cell_type": "markdown",
   "id": "5b510f3e-a1ec-44a9-a070-826424596969",
   "metadata": {},
   "source": [
    "Program to print a string in reverse direction"
   ]
  },
  {
   "cell_type": "code",
   "execution_count": 22,
   "id": "062177b6-3d26-4448-86b8-2dd237f1c7a6",
   "metadata": {},
   "outputs": [
    {
     "data": {
      "text/plain": [
       "'ydutsfles'"
      ]
     },
     "execution_count": 22,
     "metadata": {},
     "output_type": "execute_result"
    }
   ],
   "source": [
    "s[::-1]"
   ]
  },
  {
   "cell_type": "code",
   "execution_count": 23,
   "id": "ff539f6e-d918-436c-8c1d-b5f55685f4ef",
   "metadata": {},
   "outputs": [
    {
     "data": {
      "text/plain": [
       "'selfstudy'"
      ]
     },
     "execution_count": 23,
     "metadata": {},
     "output_type": "execute_result"
    }
   ],
   "source": [
    "s"
   ]
  },
  {
   "cell_type": "markdown",
   "id": "445c0e99-2f4d-47f3-ad9c-9329350953d5",
   "metadata": {},
   "source": [
    "Here -1 in the s[::-1] refers to backward direction"
   ]
  },
  {
   "cell_type": "code",
   "execution_count": 24,
   "id": "1196f411-5943-4b89-b2f5-6395b69959be",
   "metadata": {},
   "outputs": [
    {
     "data": {
      "text/plain": [
       "''"
      ]
     },
     "execution_count": 24,
     "metadata": {},
     "output_type": "execute_result"
    }
   ],
   "source": [
    "s[2:7:-1]"
   ]
  },
  {
   "cell_type": "code",
   "execution_count": 25,
   "id": "2f662a29-7226-477f-a3b3-ad455ec0f2fb",
   "metadata": {},
   "outputs": [],
   "source": [
    "s = \"nikhil\""
   ]
  },
  {
   "cell_type": "code",
   "execution_count": 26,
   "id": "26f1719f-a629-4e49-a6e4-a62f960fbf13",
   "metadata": {},
   "outputs": [
    {
     "data": {
      "text/plain": [
       "'nikhil'"
      ]
     },
     "execution_count": 26,
     "metadata": {},
     "output_type": "execute_result"
    }
   ],
   "source": [
    "s[::]"
   ]
  },
  {
   "cell_type": "code",
   "execution_count": 27,
   "id": "d9f3b26a-0591-4e14-9de3-acb6dc23082b",
   "metadata": {},
   "outputs": [
    {
     "data": {
      "text/plain": [
       "'nki'"
      ]
     },
     "execution_count": 27,
     "metadata": {},
     "output_type": "execute_result"
    }
   ],
   "source": [
    "s[::2]"
   ]
  },
  {
   "cell_type": "code",
   "execution_count": 28,
   "id": "58272dbb-e879-43b2-809d-b2c71a238ed7",
   "metadata": {},
   "outputs": [
    {
     "data": {
      "text/plain": [
       "'ni'"
      ]
     },
     "execution_count": 28,
     "metadata": {},
     "output_type": "execute_result"
    }
   ],
   "source": [
    "s[::4]"
   ]
  },
  {
   "cell_type": "code",
   "execution_count": 31,
   "id": "ea901d7b-3992-4e63-9708-d5c8d78726d7",
   "metadata": {},
   "outputs": [],
   "source": [
    "s = \"selfstudy\""
   ]
  },
  {
   "cell_type": "code",
   "execution_count": 32,
   "id": "cf456265-e708-4e02-a2d8-e3adf23dde6e",
   "metadata": {},
   "outputs": [
    {
     "ename": "SyntaxError",
     "evalue": "invalid syntax (1085298815.py, line 1)",
     "output_type": "error",
     "traceback": [
      "\u001b[0;36m  Cell \u001b[0;32mIn[32], line 1\u001b[0;36m\u001b[0m\n\u001b[0;31m    s[]\u001b[0m\n\u001b[0m      ^\u001b[0m\n\u001b[0;31mSyntaxError\u001b[0m\u001b[0;31m:\u001b[0m invalid syntax\n"
     ]
    }
   ],
   "source": [
    "s[]"
   ]
  },
  {
   "cell_type": "code",
   "execution_count": 33,
   "id": "91d28209-436b-4c49-bce2-d0cb62c2d400",
   "metadata": {},
   "outputs": [
    {
     "data": {
      "text/plain": [
       "'selfstudy'"
      ]
     },
     "execution_count": 33,
     "metadata": {},
     "output_type": "execute_result"
    }
   ],
   "source": [
    "s[::]"
   ]
  },
  {
   "cell_type": "code",
   "execution_count": 34,
   "id": "cce61bb8-79c6-4e0d-9d37-ea6c96b1c862",
   "metadata": {},
   "outputs": [
    {
     "data": {
      "text/plain": [
       "''"
      ]
     },
     "execution_count": 34,
     "metadata": {},
     "output_type": "execute_result"
    }
   ],
   "source": [
    "s[8:0]"
   ]
  },
  {
   "cell_type": "code",
   "execution_count": 35,
   "id": "4d95756b-55da-4c0b-81f9-f4d4ad5c08e1",
   "metadata": {},
   "outputs": [
    {
     "data": {
      "text/plain": [
       "'ydutsfle'"
      ]
     },
     "execution_count": 35,
     "metadata": {},
     "output_type": "execute_result"
    }
   ],
   "source": [
    "s[8:0:-1]"
   ]
  },
  {
   "cell_type": "code",
   "execution_count": 36,
   "id": "a5a44bc1-1e83-4683-912f-02e2dcc43648",
   "metadata": {},
   "outputs": [
    {
     "data": {
      "text/plain": [
       "'yusl'"
      ]
     },
     "execution_count": 36,
     "metadata": {},
     "output_type": "execute_result"
    }
   ],
   "source": [
    "s[10:0:-2]"
   ]
  },
  {
   "cell_type": "code",
   "execution_count": 37,
   "id": "5d2c9123-d309-482c-a91c-c16ca9b20284",
   "metadata": {},
   "outputs": [
    {
     "data": {
      "text/plain": [
       "''"
      ]
     },
     "execution_count": 37,
     "metadata": {},
     "output_type": "execute_result"
    }
   ],
   "source": [
    "s[10:-1:-1]"
   ]
  },
  {
   "cell_type": "code",
   "execution_count": 38,
   "id": "a730a2df-2723-446e-9b79-35ff3fd7b857",
   "metadata": {},
   "outputs": [
    {
     "data": {
      "text/plain": [
       "''"
      ]
     },
     "execution_count": 38,
     "metadata": {},
     "output_type": "execute_result"
    }
   ],
   "source": [
    "s[10:-1]"
   ]
  },
  {
   "cell_type": "code",
   "execution_count": 40,
   "id": "b812eea9-935d-4264-8cf7-6b992aecbecd",
   "metadata": {},
   "outputs": [
    {
     "data": {
      "text/plain": [
       "'dutsfles'"
      ]
     },
     "execution_count": 40,
     "metadata": {},
     "output_type": "execute_result"
    }
   ],
   "source": [
    "s[-2:-10:-1]"
   ]
  },
  {
   "cell_type": "code",
   "execution_count": 41,
   "id": "52b94126-e214-4e9d-a69e-70ecfa4c41fe",
   "metadata": {},
   "outputs": [
    {
     "data": {
      "text/plain": [
       "'ydutsfles'"
      ]
     },
     "execution_count": 41,
     "metadata": {},
     "output_type": "execute_result"
    }
   ],
   "source": [
    "s[::-1]"
   ]
  },
  {
   "cell_type": "code",
   "execution_count": 42,
   "id": "265675fb-21ae-4318-a006-833cce1dc74a",
   "metadata": {},
   "outputs": [
    {
     "data": {
      "text/plain": [
       "''"
      ]
     },
     "execution_count": 42,
     "metadata": {},
     "output_type": "execute_result"
    }
   ],
   "source": [
    "s[-10:0:-1]"
   ]
  },
  {
   "cell_type": "code",
   "execution_count": 44,
   "id": "274af638-b8ac-4889-bde6-a1b2503f56c9",
   "metadata": {},
   "outputs": [
    {
     "data": {
      "text/plain": [
       "'ydutsfles'"
      ]
     },
     "execution_count": 44,
     "metadata": {},
     "output_type": "execute_result"
    }
   ],
   "source": [
    "s[-1:-10:-1]"
   ]
  },
  {
   "cell_type": "code",
   "execution_count": 45,
   "id": "2470b1ff-41c1-44e0-8a63-8d8bed56cc00",
   "metadata": {},
   "outputs": [
    {
     "data": {
      "text/plain": [
       "'selfstudy'"
      ]
     },
     "execution_count": 45,
     "metadata": {},
     "output_type": "execute_result"
    }
   ],
   "source": [
    "s[::]"
   ]
  },
  {
   "cell_type": "code",
   "execution_count": 48,
   "id": "2aab35aa-6c96-4f40-a257-c5966a433f30",
   "metadata": {},
   "outputs": [
    {
     "data": {
      "text/plain": [
       "'y'"
      ]
     },
     "execution_count": 48,
     "metadata": {},
     "output_type": "execute_result"
    }
   ],
   "source": [
    "s[8]"
   ]
  },
  {
   "cell_type": "code",
   "execution_count": 49,
   "id": "71821f30-f388-4baa-bb0e-ed95356465ff",
   "metadata": {},
   "outputs": [
    {
     "data": {
      "text/plain": [
       "''"
      ]
     },
     "execution_count": 49,
     "metadata": {},
     "output_type": "execute_result"
    }
   ],
   "source": [
    "s[:-90:]"
   ]
  },
  {
   "cell_type": "code",
   "execution_count": 53,
   "id": "4258df7d-5c55-4ffb-8103-d84079267c82",
   "metadata": {},
   "outputs": [
    {
     "data": {
      "text/plain": [
       "'ydutsfles'"
      ]
     },
     "execution_count": 53,
     "metadata": {},
     "output_type": "execute_result"
    }
   ],
   "source": [
    "s[:-90:-1]"
   ]
  },
  {
   "cell_type": "code",
   "execution_count": 54,
   "id": "564c58eb-0f1b-457c-af0e-c71f2176a44c",
   "metadata": {},
   "outputs": [],
   "source": [
    "c = 200"
   ]
  },
  {
   "cell_type": "code",
   "execution_count": 55,
   "id": "becb7557-3e44-480c-b8d9-e6839befeb50",
   "metadata": {},
   "outputs": [],
   "source": [
    "c=\"200\""
   ]
  },
  {
   "cell_type": "code",
   "execution_count": 56,
   "id": "b015f88a-72c5-405f-bc16-e47010408130",
   "metadata": {},
   "outputs": [
    {
     "data": {
      "text/plain": [
       "'0'"
      ]
     },
     "execution_count": 56,
     "metadata": {},
     "output_type": "execute_result"
    }
   ],
   "source": [
    "c[2]"
   ]
  },
  {
   "cell_type": "code",
   "execution_count": 57,
   "id": "82853800-c533-4748-a720-3855193c5217",
   "metadata": {},
   "outputs": [
    {
     "data": {
      "text/plain": [
       "'200'"
      ]
     },
     "execution_count": 57,
     "metadata": {},
     "output_type": "execute_result"
    }
   ],
   "source": [
    "c"
   ]
  },
  {
   "cell_type": "code",
   "execution_count": 58,
   "id": "98efe7cc-0d96-46ec-b8e4-5ba999b049aa",
   "metadata": {},
   "outputs": [],
   "source": [
    "s1 = \"this is my string class\""
   ]
  },
  {
   "cell_type": "code",
   "execution_count": 59,
   "id": "89f55bbd-1791-480a-bafa-b4ca0e9ddd2d",
   "metadata": {},
   "outputs": [],
   "source": [
    "#String manipulation"
   ]
  },
  {
   "cell_type": "code",
   "execution_count": 61,
   "id": "a260259a-7937-41af-baf5-4260edc245d6",
   "metadata": {},
   "outputs": [
    {
     "data": {
      "text/plain": [
       "23"
      ]
     },
     "execution_count": 61,
     "metadata": {},
     "output_type": "execute_result"
    }
   ],
   "source": [
    "len(s1) #TO FIND LENGTH OF sTRING USE LEN() AND PASS A STRING"
   ]
  },
  {
   "cell_type": "code",
   "execution_count": 63,
   "id": "dac6dff2-7b89-4356-9621-9d76ad5b741f",
   "metadata": {},
   "outputs": [
    {
     "data": {
      "text/plain": [
       "3"
      ]
     },
     "execution_count": 63,
     "metadata": {},
     "output_type": "execute_result"
    }
   ],
   "source": [
    "s1.find('s')   # this function is used to find the characters of a string and returns the index on which the character appears first"
   ]
  },
  {
   "cell_type": "code",
   "execution_count": 66,
   "id": "5226bb86-f94b-4617-85e4-50b2eae7f5e8",
   "metadata": {},
   "outputs": [
    {
     "data": {
      "text/plain": [
       "-1"
      ]
     },
     "execution_count": 66,
     "metadata": {},
     "output_type": "execute_result"
    }
   ],
   "source": [
    "s1.find(\"b\")"
   ]
  },
  {
   "cell_type": "code",
   "execution_count": 67,
   "id": "cd56e300-1aff-49d1-adef-dff68a77c6ce",
   "metadata": {},
   "outputs": [],
   "source": [
    "s = \"This is my string class\""
   ]
  },
  {
   "cell_type": "code",
   "execution_count": 68,
   "id": "86011855-ba6c-4ca4-b721-de6de4c9151c",
   "metadata": {},
   "outputs": [
    {
     "data": {
      "text/plain": [
       "'This is my string class'"
      ]
     },
     "execution_count": 68,
     "metadata": {},
     "output_type": "execute_result"
    }
   ],
   "source": [
    "s"
   ]
  },
  {
   "cell_type": "code",
   "execution_count": 72,
   "id": "d522fcb1-c7cf-4fb2-ba59-1a3fae4a087b",
   "metadata": {},
   "outputs": [
    {
     "data": {
      "text/plain": [
       "5"
      ]
     },
     "execution_count": 72,
     "metadata": {},
     "output_type": "execute_result"
    }
   ],
   "source": [
    "s.count(\"s\")  #Count function is used to measure the frequency of occurance"
   ]
  },
  {
   "cell_type": "code",
   "execution_count": 70,
   "id": "6ed4948f-c171-494c-aab1-538280e9800b",
   "metadata": {},
   "outputs": [
    {
     "data": {
      "text/plain": [
       "2"
      ]
     },
     "execution_count": 70,
     "metadata": {},
     "output_type": "execute_result"
    }
   ],
   "source": [
    "s.count(\"is\")"
   ]
  },
  {
   "cell_type": "code",
   "execution_count": 71,
   "id": "0ffd91ae-8dac-49d1-8e1d-62f149072703",
   "metadata": {},
   "outputs": [
    {
     "data": {
      "text/plain": [
       "0"
      ]
     },
     "execution_count": 71,
     "metadata": {},
     "output_type": "execute_result"
    }
   ],
   "source": [
    "s.count('z')"
   ]
  },
  {
   "cell_type": "code",
   "execution_count": 73,
   "id": "598ed898-1512-4008-801f-9617b750b09d",
   "metadata": {},
   "outputs": [
    {
     "data": {
      "text/plain": [
       "'THIS IS MY STRING CLASS'"
      ]
     },
     "execution_count": 73,
     "metadata": {},
     "output_type": "execute_result"
    }
   ],
   "source": [
    "s.upper() #function used to capitalise each letter of the word"
   ]
  },
  {
   "cell_type": "code",
   "execution_count": 74,
   "id": "70dc9212-333d-49ed-a829-c2d547df54b0",
   "metadata": {},
   "outputs": [
    {
     "data": {
      "text/plain": [
       "'this is my string class'"
      ]
     },
     "execution_count": 74,
     "metadata": {},
     "output_type": "execute_result"
    }
   ],
   "source": [
    "s.lower() # function use to lower the case of all alphabets of the string"
   ]
  },
  {
   "cell_type": "code",
   "execution_count": 75,
   "id": "8842f522-77bf-45b0-ac7b-58e87e95f0c2",
   "metadata": {},
   "outputs": [
    {
     "ename": "AttributeError",
     "evalue": "'str' object has no attribute 'proper'",
     "output_type": "error",
     "traceback": [
      "\u001b[0;31m---------------------------------------------------------------------------\u001b[0m",
      "\u001b[0;31mAttributeError\u001b[0m                            Traceback (most recent call last)",
      "Cell \u001b[0;32mIn[75], line 1\u001b[0m\n\u001b[0;32m----> 1\u001b[0m \u001b[43ms\u001b[49m\u001b[38;5;241;43m.\u001b[39;49m\u001b[43mproper\u001b[49m()\n",
      "\u001b[0;31mAttributeError\u001b[0m: 'str' object has no attribute 'proper'"
     ]
    }
   ],
   "source": [
    "s.proper()"
   ]
  },
  {
   "cell_type": "code",
   "execution_count": 76,
   "id": "a375b012-135d-4d54-a7b6-372d6c14110d",
   "metadata": {},
   "outputs": [
    {
     "data": {
      "text/plain": [
       "'this is my string class'"
      ]
     },
     "execution_count": 76,
     "metadata": {},
     "output_type": "execute_result"
    }
   ],
   "source": [
    "s.lower()"
   ]
  },
  {
   "cell_type": "code",
   "execution_count": 77,
   "id": "56cb98d8-ac69-4fda-8c91-38ac4384a05f",
   "metadata": {},
   "outputs": [
    {
     "data": {
      "text/plain": [
       "'This Is My String Class'"
      ]
     },
     "execution_count": 77,
     "metadata": {},
     "output_type": "execute_result"
    }
   ],
   "source": [
    "s.title() # function is used to capitalize first letter of each word "
   ]
  },
  {
   "cell_type": "code",
   "execution_count": 78,
   "id": "2d70dc5a-18f6-4bb0-ad04-d6019c37a3d7",
   "metadata": {},
   "outputs": [
    {
     "data": {
      "text/plain": [
       "'This is my string class'"
      ]
     },
     "execution_count": 78,
     "metadata": {},
     "output_type": "execute_result"
    }
   ],
   "source": [
    "s.capitalize() # function is used to capitalise only first letter of the sentence"
   ]
  },
  {
   "cell_type": "markdown",
   "id": "84b35eee-a9c6-43f9-804c-39bb6bfe01ce",
   "metadata": {},
   "source": [
    "# Adding two strings"
   ]
  },
  {
   "cell_type": "code",
   "execution_count": 79,
   "id": "e5fb3e6e-8ac7-4b5b-80bd-f7dec65faf64",
   "metadata": {},
   "outputs": [],
   "source": [
    "y = \" I am learning today\""
   ]
  },
  {
   "cell_type": "code",
   "execution_count": 80,
   "id": "c5a5dfbe-ab8f-45d0-ac33-9ed084bceb59",
   "metadata": {},
   "outputs": [
    {
     "data": {
      "text/plain": [
       "'This is my string class I am learning today'"
      ]
     },
     "execution_count": 80,
     "metadata": {},
     "output_type": "execute_result"
    }
   ],
   "source": [
    "s + y"
   ]
  },
  {
   "cell_type": "markdown",
   "id": "d9226d54-1fc4-46ec-9e64-2aaec5140e3b",
   "metadata": {},
   "source": [
    "Note + sign is used to cocatenate the string and does not act as an operator here"
   ]
  },
  {
   "cell_type": "markdown",
   "id": "bc61edbf-db2e-4aa0-aaf2-f3653785d21e",
   "metadata": {},
   "source": [
    "Only two strings can be cocatenated and if we want to cocantenate a string we need to convert into a string"
   ]
  },
  {
   "cell_type": "code",
   "execution_count": 82,
   "id": "53ed1abf-b4ea-42ea-80cd-ca9c525fdde7",
   "metadata": {},
   "outputs": [
    {
     "data": {
      "text/plain": [
       "'This is my string classThis is my string classThis is my string class'"
      ]
     },
     "execution_count": 82,
     "metadata": {},
     "output_type": "execute_result"
    }
   ],
   "source": [
    "s *3"
   ]
  },
  {
   "cell_type": "code",
   "execution_count": 85,
   "id": "c3e8ef2d-85f5-4ce4-98e5-2faab925fcf7",
   "metadata": {},
   "outputs": [
    {
     "data": {
      "text/plain": [
       "'nikhilnikhilnikhil'"
      ]
     },
     "execution_count": 85,
     "metadata": {},
     "output_type": "execute_result"
    }
   ],
   "source": [
    "\"nikhil\" *3 #simply cocatenates the string the number of types mentioned"
   ]
  },
  {
   "cell_type": "code",
   "execution_count": 84,
   "id": "51e0ca8e-72d8-4e58-8361-c1282501c91f",
   "metadata": {},
   "outputs": [
    {
     "ename": "TypeError",
     "evalue": "unsupported operand type(s) for /: 'str' and 'int'",
     "output_type": "error",
     "traceback": [
      "\u001b[0;31m---------------------------------------------------------------------------\u001b[0m",
      "\u001b[0;31mTypeError\u001b[0m                                 Traceback (most recent call last)",
      "Cell \u001b[0;32mIn[84], line 1\u001b[0m\n\u001b[0;32m----> 1\u001b[0m \u001b[38;5;124;43m\"\u001b[39;49m\u001b[38;5;124;43mnikhil\u001b[39;49m\u001b[38;5;124;43m\"\u001b[39;49m\u001b[38;5;241;43m/\u001b[39;49m\u001b[38;5;241;43m4\u001b[39;49m\n",
      "\u001b[0;31mTypeError\u001b[0m: unsupported operand type(s) for /: 'str' and 'int'"
     ]
    }
   ],
   "source": [
    "\"nikhil\"/4"
   ]
  },
  {
   "cell_type": "code",
   "execution_count": 89,
   "id": "cbe80a4e-6887-4f8c-b22b-8b3a2ee6cc6a",
   "metadata": {},
   "outputs": [
    {
     "data": {
      "text/plain": [
       "\"don't do copy and paste in my class\""
      ]
     },
     "execution_count": 89,
     "metadata": {},
     "output_type": "execute_result"
    }
   ],
   "source": [
    "\"don't do copy and paste in my class\""
   ]
  },
  {
   "cell_type": "code",
   "execution_count": 90,
   "id": "51561667-7cd1-4dce-ac9e-6220aa540aa7",
   "metadata": {},
   "outputs": [],
   "source": [
    "## this is a comment"
   ]
  },
  {
   "cell_type": "code",
   "execution_count": 92,
   "id": "9657c2aa-900a-4d37-9b53-f9e433c7c0c8",
   "metadata": {},
   "outputs": [
    {
     "data": {
      "text/plain": [
       "'this is my comment\\nand i have done it'"
      ]
     },
     "execution_count": 92,
     "metadata": {},
     "output_type": "execute_result"
    }
   ],
   "source": [
    "\"\"\"this is my comment\n",
    "and i have done it\"\"\""
   ]
  },
  {
   "cell_type": "code",
   "execution_count": null,
   "id": "289bd612-b6c3-4282-ac3b-8f07a1610b51",
   "metadata": {},
   "outputs": [],
   "source": [
    "# '''I have learnt variable declaration, data type, string, int, boolean, complex numbers\n",
    "# i have seen some examples of string slicing and indexing\n",
    "# i have gone through some of the string inbuilt function\n",
    "# apart from that i am trying to practice in my system"
   ]
  },
  {
   "cell_type": "code",
   "execution_count": null,
   "id": "0efb4f17-aeb2-41cf-8194-b4137febecde",
   "metadata": {},
   "outputs": [],
   "source": []
  },
  {
   "cell_type": "code",
   "execution_count": null,
   "id": "3be83d64-76f8-4183-ba56-a6e36ed8e3f8",
   "metadata": {},
   "outputs": [],
   "source": []
  },
  {
   "cell_type": "code",
   "execution_count": null,
   "id": "2ba0c60e-b830-4b4f-8593-1c953c86f227",
   "metadata": {},
   "outputs": [],
   "source": []
  }
 ],
 "metadata": {
  "kernelspec": {
   "display_name": "Python 3 (ipykernel)",
   "language": "python",
   "name": "python3"
  },
  "language_info": {
   "codemirror_mode": {
    "name": "ipython",
    "version": 3
   },
   "file_extension": ".py",
   "mimetype": "text/x-python",
   "name": "python",
   "nbconvert_exporter": "python",
   "pygments_lexer": "ipython3",
   "version": "3.10.8"
  }
 },
 "nbformat": 4,
 "nbformat_minor": 5
}
