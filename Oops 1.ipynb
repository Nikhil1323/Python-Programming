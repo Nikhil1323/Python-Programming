{
 "cells": [
  {
   "cell_type": "markdown",
   "id": "4444ed84-fc94-4f2f-b87a-03768c7cccaf",
   "metadata": {},
   "source": [
    "\"Oops\" stands for Object-Oriented Programming System"
   ]
  },
  {
   "cell_type": "code",
   "execution_count": 1,
   "id": "4c9d6521-f7e9-4b17-9128-e4219c9ef7ed",
   "metadata": {},
   "outputs": [
    {
     "name": "stdout",
     "output_type": "stream",
     "text": [
      "<class 'int'>\n"
     ]
    }
   ],
   "source": [
    "a = 1\n",
    "print(type(a))"
   ]
  },
  {
   "cell_type": "code",
   "execution_count": 2,
   "id": "97e6be6e-6fc5-4df9-9558-17f8a8acd3cc",
   "metadata": {},
   "outputs": [
    {
     "name": "stdout",
     "output_type": "stream",
     "text": [
      "<class 'str'>\n"
     ]
    }
   ],
   "source": [
    "print(type(\"nikhil\"))"
   ]
  },
  {
   "cell_type": "markdown",
   "id": "b83e7fec-04a9-41c2-9c85-5a55bc611fc8",
   "metadata": {},
   "source": [
    "Class is a skeleton or blueprint which gives general characters but not the specifics.\n",
    "It classifies real world entities.\n",
    "It is a blue print of real world entity but not specific to a real world entity."
   ]
  },
  {
   "cell_type": "markdown",
   "id": "adbf62aa-b810-4a4e-8ff8-eca5eeddd3e6",
   "metadata": {},
   "source": [
    "Object is a real world entity.\n",
    "In the above example \"a\" is a object/instance of class integer."
   ]
  },
  {
   "cell_type": "code",
   "execution_count": 3,
   "id": "74f0440e-e731-45cc-8acd-fe8ecad6e683",
   "metadata": {},
   "outputs": [],
   "source": [
    "#How to create Class in Python\n",
    "class test :\n",
    "    pass"
   ]
  },
  {
   "cell_type": "markdown",
   "id": "4b992f8c-71ff-448f-aae6-405294bd4d8b",
   "metadata": {},
   "source": [
    "Pass word is used to skip and a blank class is created."
   ]
  },
  {
   "cell_type": "markdown",
   "id": "621e456a-58db-430a-9c69-386a7139aec2",
   "metadata": {},
   "source": [
    "oop enhances coding capibility, makes code reusable and makes coding modular and hassle free so that large group of teams can work on it\n",
    "Without creating a mess."
   ]
  },
  {
   "cell_type": "markdown",
   "id": "3b9b4ae6-dc91-4686-95bc-2ef48532f8ff",
   "metadata": {},
   "source": [
    "A class can contain multiple functions, integers, complex numbers, operations, looping , etc"
   ]
  },
  {
   "cell_type": "code",
   "execution_count": 4,
   "id": "f2eede8d-322c-4e05-b45b-c334f4fae75b",
   "metadata": {},
   "outputs": [],
   "source": [
    "a = test()"
   ]
  },
  {
   "cell_type": "code",
   "execution_count": 5,
   "id": "7e4bfdce-9c80-44fd-8b68-07498a1ff6fd",
   "metadata": {},
   "outputs": [
    {
     "data": {
      "text/plain": [
       "__main__.test"
      ]
     },
     "execution_count": 5,
     "metadata": {},
     "output_type": "execute_result"
    }
   ],
   "source": [
    "type(a)"
   ]
  },
  {
   "cell_type": "code",
   "execution_count": 6,
   "id": "27143b0c-2748-4e82-8e08-8fa159bf9332",
   "metadata": {},
   "outputs": [
    {
     "name": "stdout",
     "output_type": "stream",
     "text": [
      "<class '__main__.test'>\n"
     ]
    }
   ],
   "source": [
    "print(type(a))"
   ]
  },
  {
   "cell_type": "code",
   "execution_count": 11,
   "id": "c4bfc9f3-6d28-4b10-84f4-2cf036020d0b",
   "metadata": {},
   "outputs": [],
   "source": [
    "class pwskills :\n",
    "    def welcome_msg(self) :\n",
    "        print(\"Welcome to pwskills\")"
   ]
  },
  {
   "cell_type": "markdown",
   "id": "d89d15d7-3c22-495c-b48e-ff357182068f",
   "metadata": {},
   "source": [
    "Any function that is written inside a class needs to be binded to the class.\n"
   ]
  },
  {
   "cell_type": "code",
   "execution_count": 15,
   "id": "aa0a812c-b122-47f7-8151-85829ceac4c3",
   "metadata": {},
   "outputs": [],
   "source": [
    "nikhil = pwskills()  #Here nikhil is variable/object/instance to class pwskills"
   ]
  },
  {
   "cell_type": "code",
   "execution_count": 16,
   "id": "05ba13db-a59e-481e-a1b1-474c2c6de4d0",
   "metadata": {},
   "outputs": [
    {
     "name": "stdout",
     "output_type": "stream",
     "text": [
      "<class '__main__.pwskills'>\n"
     ]
    }
   ],
   "source": [
    "print(type(nikhil))"
   ]
  },
  {
   "cell_type": "code",
   "execution_count": 17,
   "id": "b236f47c-7f3c-46bf-9523-9b27ed3b49ed",
   "metadata": {},
   "outputs": [
    {
     "name": "stdout",
     "output_type": "stream",
     "text": [
      "Welcome to pwskills\n"
     ]
    }
   ],
   "source": [
    "nikhil.welcome_msg()"
   ]
  },
  {
   "cell_type": "code",
   "execution_count": 19,
   "id": "d9370a88-e7f1-4e08-b5d9-52ecc9ec02e5",
   "metadata": {},
   "outputs": [],
   "source": [
    "yash = pwskills()"
   ]
  },
  {
   "cell_type": "code",
   "execution_count": 20,
   "id": "48209ba6-f43b-411c-a0d7-246d210b047b",
   "metadata": {},
   "outputs": [
    {
     "name": "stdout",
     "output_type": "stream",
     "text": [
      "Welcome to pwskills\n"
     ]
    }
   ],
   "source": [
    "yash.welcome_msg()"
   ]
  },
  {
   "cell_type": "code",
   "execution_count": 21,
   "id": "efe49064-84ac-4872-81a8-da0a75e90c6b",
   "metadata": {},
   "outputs": [],
   "source": [
    "# creating a class which is specific to some data and taking some input parameter from user.\n",
    "class pwskills1 :\n",
    "    \n",
    "    def __init__(self ,phone_number, email_id, student_id ) :\n",
    "        self.phone_number = phone_number\n",
    "        self.email_id = email_id\n",
    "        self.student_id = student_id\n",
    "        \n",
    "    def return_student_details(self) :\n",
    "        return self.student_id ,self.phone_number, self.email_id\n",
    "    "
   ]
  },
  {
   "cell_type": "code",
   "execution_count": 24,
   "id": "eeeb451c-06ca-4135-afd4-7e63f8f69404",
   "metadata": {},
   "outputs": [
    {
     "ename": "TypeError",
     "evalue": "pwskills1.__init__() missing 3 required positional arguments: 'phone_number', 'email_id', and 'student_id'",
     "output_type": "error",
     "traceback": [
      "\u001b[0;31m---------------------------------------------------------------------------\u001b[0m",
      "\u001b[0;31mTypeError\u001b[0m                                 Traceback (most recent call last)",
      "Cell \u001b[0;32mIn[24], line 1\u001b[0m\n\u001b[0;32m----> 1\u001b[0m rohan \u001b[38;5;241m=\u001b[39m \u001b[43mpwskills1\u001b[49m\u001b[43m(\u001b[49m\u001b[43m)\u001b[49m\n",
      "\u001b[0;31mTypeError\u001b[0m: pwskills1.__init__() missing 3 required positional arguments: 'phone_number', 'email_id', and 'student_id'"
     ]
    }
   ],
   "source": [
    "rohan = pwskills1()"
   ]
  },
  {
   "cell_type": "code",
   "execution_count": 25,
   "id": "44ade0ea-bb9f-47b5-86f2-db36c45ed4f9",
   "metadata": {},
   "outputs": [],
   "source": [
    "rohan = pwskills1(9856475856,\"rohan@njfo.com\", 101)"
   ]
  },
  {
   "cell_type": "code",
   "execution_count": 33,
   "id": "094eeab7-be2a-41c6-8c89-de7ffa8c2a1c",
   "metadata": {},
   "outputs": [
    {
     "data": {
      "text/plain": [
       "9856475856"
      ]
     },
     "execution_count": 33,
     "metadata": {},
     "output_type": "execute_result"
    }
   ],
   "source": [
    "rohan.phone_number"
   ]
  },
  {
   "cell_type": "code",
   "execution_count": 34,
   "id": "d45953dd-f64e-4f58-9259-75428514a47f",
   "metadata": {},
   "outputs": [
    {
     "data": {
      "text/plain": [
       "'rohan@njfo.com'"
      ]
     },
     "execution_count": 34,
     "metadata": {},
     "output_type": "execute_result"
    }
   ],
   "source": [
    "rohan.email_id"
   ]
  },
  {
   "cell_type": "code",
   "execution_count": 26,
   "id": "2b8e5bdb-5ea6-40f7-be47-064ba5af1afc",
   "metadata": {},
   "outputs": [
    {
     "data": {
      "text/plain": [
       "(101, 9856475856, 'rohan@njfo.com')"
      ]
     },
     "execution_count": 26,
     "metadata": {},
     "output_type": "execute_result"
    }
   ],
   "source": [
    "rohan.return_student_details()"
   ]
  },
  {
   "cell_type": "code",
   "execution_count": 28,
   "id": "4ab87fd5-ff0d-44a5-ab0f-54f7682b1613",
   "metadata": {},
   "outputs": [],
   "source": [
    "yash = pwskills1(142532533,\"yash@gmail.com\",102)"
   ]
  },
  {
   "cell_type": "code",
   "execution_count": 29,
   "id": "cbda9a0c-97bf-428e-853d-10acf33d65dc",
   "metadata": {},
   "outputs": [
    {
     "data": {
      "text/plain": [
       "(102, 142532533, 'yash@gmail.com')"
      ]
     },
     "execution_count": 29,
     "metadata": {},
     "output_type": "execute_result"
    }
   ],
   "source": [
    "yash.return_student_details()"
   ]
  },
  {
   "cell_type": "code",
   "execution_count": 38,
   "id": "9691f5b5-d1b3-433a-91ae-19fded8ac1a5",
   "metadata": {},
   "outputs": [],
   "source": [
    "# creating a class which is specific to some data and taking some input parameter from user.\n",
    "class pwskills2 :\n",
    "    \n",
    "    def __init__(self ,phone_number, email_id, student_id ) :\n",
    "        self.phone_number1 = phone_number\n",
    "        self.email_id1 = email_id\n",
    "        self.student_id1 = student_id\n",
    "        \n",
    "    def return_student_details(self) :\n",
    "        return self.student_id1 ,self.phone_number1, self.email_id1\n",
    "    "
   ]
  },
  {
   "cell_type": "code",
   "execution_count": 39,
   "id": "b220dc09-0f8a-498a-8c3a-03d55465b710",
   "metadata": {},
   "outputs": [],
   "source": [
    "nikhil = pwskills2(2458696,\"nik@gmail.com\",103)"
   ]
  },
  {
   "cell_type": "code",
   "execution_count": 40,
   "id": "1505b21c-8a3d-4a7c-8522-b336537993f9",
   "metadata": {},
   "outputs": [
    {
     "data": {
      "text/plain": [
       "<__main__.pwskills2 at 0x7f5a1980db40>"
      ]
     },
     "execution_count": 40,
     "metadata": {},
     "output_type": "execute_result"
    }
   ],
   "source": [
    "nikhil"
   ]
  },
  {
   "cell_type": "code",
   "execution_count": 41,
   "id": "6e722270-57da-4cf0-b200-ecb9a07ed37a",
   "metadata": {},
   "outputs": [
    {
     "data": {
      "text/plain": [
       "2458696"
      ]
     },
     "execution_count": 41,
     "metadata": {},
     "output_type": "execute_result"
    }
   ],
   "source": [
    "nikhil.phone_number1"
   ]
  },
  {
   "cell_type": "code",
   "execution_count": 42,
   "id": "b4a2a769-6929-44a2-a351-775bbb7e22fa",
   "metadata": {},
   "outputs": [
    {
     "data": {
      "text/plain": [
       "(103, 2458696, 'nik@gmail.com')"
      ]
     },
     "execution_count": 42,
     "metadata": {},
     "output_type": "execute_result"
    }
   ],
   "source": [
    "nikhil.return_student_details()"
   ]
  },
  {
   "cell_type": "code",
   "execution_count": 43,
   "id": "e13394c9-60dd-4207-88f1-9d73b5d816c9",
   "metadata": {},
   "outputs": [],
   "source": [
    "# creating a class which is specific to some data and taking some input parameter from user.\n",
    "class pwskills2 :\n",
    "    \n",
    "    def __init__(nik ,phone_number, email_id, student_id ) :\n",
    "        nik.phone_number1 = phone_number\n",
    "        nik.email_id1 = email_id\n",
    "        nik.student_id1 = student_id\n",
    "        \n",
    "    def return_student_details(self) :\n",
    "        return nik.student_id1 ,nik.phone_number1, nik.email_id1"
   ]
  },
  {
   "cell_type": "code",
   "execution_count": 44,
   "id": "8f11094b-e8d3-4f87-ab80-d16f65d852a7",
   "metadata": {},
   "outputs": [],
   "source": [
    "yash = pwskills2(25489663,\"rohan@gmail.com\",201)"
   ]
  },
  {
   "cell_type": "code",
   "execution_count": 46,
   "id": "f7ca68b8-d97c-4e9f-9235-572681b80d62",
   "metadata": {},
   "outputs": [
    {
     "data": {
      "text/plain": [
       "25489663"
      ]
     },
     "execution_count": 46,
     "metadata": {},
     "output_type": "execute_result"
    }
   ],
   "source": [
    "yash.phone_number1"
   ]
  },
  {
   "cell_type": "markdown",
   "id": "96ce5aad-ead1-461a-9c35-2b4b5c357bd7",
   "metadata": {},
   "source": [
    "Self is not a reserved keyword\n",
    "we can use anything as a pointer and to associate it to a class"
   ]
  },
  {
   "cell_type": "code",
   "execution_count": null,
   "id": "4f7fb4ec-cd0e-4649-aa3a-fc6ef874b3ce",
   "metadata": {},
   "outputs": [],
   "source": []
  }
 ],
 "metadata": {
  "kernelspec": {
   "display_name": "Python 3 (ipykernel)",
   "language": "python",
   "name": "python3"
  },
  "language_info": {
   "codemirror_mode": {
    "name": "ipython",
    "version": 3
   },
   "file_extension": ".py",
   "mimetype": "text/x-python",
   "name": "python",
   "nbconvert_exporter": "python",
   "pygments_lexer": "ipython3",
   "version": "3.10.8"
  }
 },
 "nbformat": 4,
 "nbformat_minor": 5
}
