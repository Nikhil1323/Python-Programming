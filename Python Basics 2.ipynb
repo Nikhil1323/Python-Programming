{
 "cells": [
  {
   "cell_type": "markdown",
   "id": "8f318bf2-a905-4416-b802-51a74e0860e8",
   "metadata": {},
   "source": [
    "Topic: What is List?"
   ]
  },
  {
   "cell_type": "code",
   "execution_count": 2,
   "id": "1550bc92-267e-40bd-80ed-743f8b016d9b",
   "metadata": {},
   "outputs": [],
   "source": [
    "l = [1,25,26,23,\"nikhil\",True,5+9j,245.369]"
   ]
  },
  {
   "cell_type": "code",
   "execution_count": 3,
   "id": "198b28ef-690e-446e-b8d1-4ed72388a491",
   "metadata": {},
   "outputs": [
    {
     "data": {
      "text/plain": [
       "list"
      ]
     },
     "execution_count": 3,
     "metadata": {},
     "output_type": "execute_result"
    }
   ],
   "source": [
    "type(l)"
   ]
  },
  {
   "cell_type": "code",
   "execution_count": 4,
   "id": "4188df58-e5b9-4024-8470-d198b0339f25",
   "metadata": {},
   "outputs": [
    {
     "data": {
      "text/plain": [
       "float"
      ]
     },
     "execution_count": 4,
     "metadata": {},
     "output_type": "execute_result"
    }
   ],
   "source": [
    "type(l[7])"
   ]
  },
  {
   "cell_type": "code",
   "execution_count": 5,
   "id": "0655fc4a-53b1-4f5e-8f02-69283f9ed4ea",
   "metadata": {},
   "outputs": [
    {
     "data": {
      "text/plain": [
       "[1, 25, 26, 23, 'nikhil', True, (5+9j), 245.369]"
      ]
     },
     "execution_count": 5,
     "metadata": {},
     "output_type": "execute_result"
    }
   ],
   "source": [
    "l[::]"
   ]
  },
  {
   "cell_type": "code",
   "execution_count": 6,
   "id": "474e1dc8-f02e-4ab7-a14f-0a59b5fd97bc",
   "metadata": {},
   "outputs": [
    {
     "data": {
      "text/plain": [
       "26"
      ]
     },
     "execution_count": 6,
     "metadata": {},
     "output_type": "execute_result"
    }
   ],
   "source": [
    "l[2]"
   ]
  },
  {
   "cell_type": "code",
   "execution_count": 7,
   "id": "7cf28b1b-7098-40b0-8da9-891952bafe1a",
   "metadata": {},
   "outputs": [
    {
     "data": {
      "text/plain": [
       "1"
      ]
     },
     "execution_count": 7,
     "metadata": {},
     "output_type": "execute_result"
    }
   ],
   "source": [
    "l[0]"
   ]
  },
  {
   "cell_type": "code",
   "execution_count": 8,
   "id": "8edca35e-7134-4689-bfe1-a694ac5b112e",
   "metadata": {},
   "outputs": [
    {
     "data": {
      "text/plain": [
       "'nikhil'"
      ]
     },
     "execution_count": 8,
     "metadata": {},
     "output_type": "execute_result"
    }
   ],
   "source": [
    "l[4]"
   ]
  },
  {
   "cell_type": "code",
   "execution_count": 9,
   "id": "1e3f44f7-00c8-4b21-8e85-c8668ad9fd50",
   "metadata": {},
   "outputs": [],
   "source": [
    "l[4]=\"NIK\""
   ]
  },
  {
   "cell_type": "code",
   "execution_count": 10,
   "id": "63cea609-5933-4bdc-9b13-14332bca29bf",
   "metadata": {},
   "outputs": [
    {
     "data": {
      "text/plain": [
       "[1, 25, 26, 23, 'NIK', True, (5+9j), 245.369]"
      ]
     },
     "execution_count": 10,
     "metadata": {},
     "output_type": "execute_result"
    }
   ],
   "source": [
    "l"
   ]
  },
  {
   "cell_type": "code",
   "execution_count": 11,
   "id": "151d03a2-5b06-4be6-b9bf-0535e50d1537",
   "metadata": {},
   "outputs": [
    {
     "ename": "IndexError",
     "evalue": "list index out of range",
     "output_type": "error",
     "traceback": [
      "\u001b[0;31m---------------------------------------------------------------------------\u001b[0m",
      "\u001b[0;31mIndexError\u001b[0m                                Traceback (most recent call last)",
      "Cell \u001b[0;32mIn[11], line 1\u001b[0m\n\u001b[0;32m----> 1\u001b[0m \u001b[43ml\u001b[49m\u001b[43m[\u001b[49m\u001b[38;5;241;43m90\u001b[39;49m\u001b[43m]\u001b[49m\n",
      "\u001b[0;31mIndexError\u001b[0m: list index out of range"
     ]
    }
   ],
   "source": [
    "l[90]"
   ]
  },
  {
   "cell_type": "code",
   "execution_count": 12,
   "id": "53a39805-f47b-425d-a9e9-2cb8fe8751f3",
   "metadata": {},
   "outputs": [],
   "source": [
    "l[4]=\"nikhil\""
   ]
  },
  {
   "cell_type": "code",
   "execution_count": 13,
   "id": "54198e5d-3381-421d-a50b-d2381c5f7bea",
   "metadata": {},
   "outputs": [
    {
     "data": {
      "text/plain": [
       "[1, 25, 26, 23, 'nikhil', True, (5+9j), 245.369]"
      ]
     },
     "execution_count": 13,
     "metadata": {},
     "output_type": "execute_result"
    }
   ],
   "source": [
    "l"
   ]
  },
  {
   "cell_type": "markdown",
   "id": "7402baa0-91b0-4016-ac00-ae4c8217a77e",
   "metadata": {},
   "source": [
    "Advantage of list \n",
    "1. can store primitive and non primitive data"
   ]
  },
  {
   "cell_type": "markdown",
   "id": "22ebef1e-bd4c-46e3-8051-95a02af886eb",
   "metadata": {},
   "source": [
    "Primitive data type = int, boolean, complex, str, float,etc"
   ]
  },
  {
   "cell_type": "code",
   "execution_count": 15,
   "id": "2ffadf5e-f974-4c38-bf04-a07437a2cae7",
   "metadata": {},
   "outputs": [
    {
     "data": {
      "text/plain": [
       "[1, 25, 26]"
      ]
     },
     "execution_count": 15,
     "metadata": {},
     "output_type": "execute_result"
    }
   ],
   "source": [
    "l[0:3] # same concept of upper and lower bound as used in string slicing and indexing"
   ]
  },
  {
   "cell_type": "code",
   "execution_count": 16,
   "id": "035a4d0a-52d7-4745-91d3-f309f9ac7b27",
   "metadata": {},
   "outputs": [
    {
     "data": {
      "text/plain": [
       "245.369"
      ]
     },
     "execution_count": 16,
     "metadata": {},
     "output_type": "execute_result"
    }
   ],
   "source": [
    "l[-1]"
   ]
  },
  {
   "cell_type": "code",
   "execution_count": 18,
   "id": "f098715e-d476-4658-9d3a-ea9a64528990",
   "metadata": {},
   "outputs": [
    {
     "data": {
      "text/plain": [
       "[245.369, (5+9j), True, 'nikhil', 23, 26, 25, 1]"
      ]
     },
     "execution_count": 18,
     "metadata": {},
     "output_type": "execute_result"
    }
   ],
   "source": [
    "l[::-1] #reversing the elements of the list"
   ]
  },
  {
   "cell_type": "code",
   "execution_count": 21,
   "id": "d8e1bcc5-a4a1-4f2a-9dc1-608cf547f53a",
   "metadata": {},
   "outputs": [
    {
     "data": {
      "text/plain": [
       "[1, 26, 'nikhil', (5+9j)]"
      ]
     },
     "execution_count": 21,
     "metadata": {},
     "output_type": "execute_result"
    }
   ],
   "source": [
    "l[0:9:2] #to get elements on even indexes"
   ]
  },
  {
   "cell_type": "code",
   "execution_count": 22,
   "id": "43ef154e-31ff-4430-a3cd-8d9b3df48bcb",
   "metadata": {},
   "outputs": [
    {
     "data": {
      "text/plain": [
       "[1, 26, 'nikhil', (5+9j)]"
      ]
     },
     "execution_count": 22,
     "metadata": {},
     "output_type": "execute_result"
    }
   ],
   "source": [
    "l[::2]# to get elements on even indexes"
   ]
  },
  {
   "cell_type": "code",
   "execution_count": 23,
   "id": "f94a9569-8d0c-498e-bf50-164b1839d0cb",
   "metadata": {},
   "outputs": [
    {
     "data": {
      "text/plain": [
       "[1, 25, 26, 23, 'nikhil', True, (5+9j), 245.369]"
      ]
     },
     "execution_count": 23,
     "metadata": {},
     "output_type": "execute_result"
    }
   ],
   "source": [
    "l"
   ]
  },
  {
   "cell_type": "code",
   "execution_count": 24,
   "id": "f9fec8a8-b08b-4410-85fb-d5b76afe24a3",
   "metadata": {},
   "outputs": [],
   "source": [
    "s = \"Yash\""
   ]
  },
  {
   "cell_type": "code",
   "execution_count": 25,
   "id": "355c55b4-68f9-44e9-987f-9a1039e94154",
   "metadata": {},
   "outputs": [
    {
     "ename": "TypeError",
     "evalue": "can only concatenate list (not \"str\") to list",
     "output_type": "error",
     "traceback": [
      "\u001b[0;31m---------------------------------------------------------------------------\u001b[0m",
      "\u001b[0;31mTypeError\u001b[0m                                 Traceback (most recent call last)",
      "Cell \u001b[0;32mIn[25], line 1\u001b[0m\n\u001b[0;32m----> 1\u001b[0m \u001b[43ml\u001b[49m\u001b[43m \u001b[49m\u001b[38;5;241;43m+\u001b[39;49m\u001b[43m \u001b[49m\u001b[43ms\u001b[49m\n",
      "\u001b[0;31mTypeError\u001b[0m: can only concatenate list (not \"str\") to list"
     ]
    }
   ],
   "source": [
    "l + s"
   ]
  },
  {
   "cell_type": "markdown",
   "id": "f0f7e856-a814-4886-b982-fa4eb1085232",
   "metadata": {},
   "source": [
    "Cocatenation operation can only be performed when both the elements are lists"
   ]
  },
  {
   "cell_type": "code",
   "execution_count": 27,
   "id": "e72810d4-fff2-407f-ab7e-8b5ff9f66c30",
   "metadata": {},
   "outputs": [
    {
     "data": {
      "text/plain": [
       "['Y', 'a', 's', 'h']"
      ]
     },
     "execution_count": 27,
     "metadata": {},
     "output_type": "execute_result"
    }
   ],
   "source": [
    "list(s) #Cocatenate is not possible using type conversion"
   ]
  },
  {
   "cell_type": "markdown",
   "id": "d1814dfa-f9ef-465b-a9fb-1be0816e625e",
   "metadata": {},
   "source": [
    "How to append a complete stringin a list"
   ]
  },
  {
   "cell_type": "code",
   "execution_count": 28,
   "id": "198278cb-66d8-4387-9912-fc5e6e0095f7",
   "metadata": {},
   "outputs": [
    {
     "data": {
      "text/plain": [
       "[1, 25, 26, 23, 'nikhil', True, (5+9j), 245.369]"
      ]
     },
     "execution_count": 28,
     "metadata": {},
     "output_type": "execute_result"
    }
   ],
   "source": [
    "l"
   ]
  },
  {
   "cell_type": "code",
   "execution_count": 29,
   "id": "146d5915-e9f5-4134-bfc0-727eb77a4d4e",
   "metadata": {},
   "outputs": [
    {
     "data": {
      "text/plain": [
       "'nikhil'"
      ]
     },
     "execution_count": 29,
     "metadata": {},
     "output_type": "execute_result"
    }
   ],
   "source": [
    "l[4]"
   ]
  },
  {
   "cell_type": "code",
   "execution_count": 30,
   "id": "d90cc545-4a49-41da-ba1a-fab779756298",
   "metadata": {},
   "outputs": [
    {
     "data": {
      "text/plain": [
       "str"
      ]
     },
     "execution_count": 30,
     "metadata": {},
     "output_type": "execute_result"
    }
   ],
   "source": [
    "type(l[4])"
   ]
  },
  {
   "cell_type": "code",
   "execution_count": 31,
   "id": "433ec05c-c3b5-4976-82f6-453c557b9b2f",
   "metadata": {},
   "outputs": [
    {
     "data": {
      "text/plain": [
       "'ni'"
      ]
     },
     "execution_count": 31,
     "metadata": {},
     "output_type": "execute_result"
    }
   ],
   "source": [
    "l[4][0:2]"
   ]
  },
  {
   "cell_type": "code",
   "execution_count": 32,
   "id": "99c7699c-ccf6-4ba6-8cbb-d326b8b1ba07",
   "metadata": {},
   "outputs": [
    {
     "data": {
      "text/plain": [
       "True"
      ]
     },
     "execution_count": 32,
     "metadata": {},
     "output_type": "execute_result"
    }
   ],
   "source": [
    "l[5]"
   ]
  },
  {
   "cell_type": "code",
   "execution_count": 33,
   "id": "6517410d-0937-45cf-96e7-dda2cc7d62bb",
   "metadata": {},
   "outputs": [
    {
     "data": {
      "text/plain": [
       "'Tr'"
      ]
     },
     "execution_count": 33,
     "metadata": {},
     "output_type": "execute_result"
    }
   ],
   "source": [
    "str(l[5])[0:2]"
   ]
  },
  {
   "cell_type": "code",
   "execution_count": 34,
   "id": "70e1c086-b523-4b09-bc4b-6f037af2507b",
   "metadata": {},
   "outputs": [
    {
     "data": {
      "text/plain": [
       "[1, 25, 26, 23, 'nikhil', True, (5+9j), 245.369]"
      ]
     },
     "execution_count": 34,
     "metadata": {},
     "output_type": "execute_result"
    }
   ],
   "source": [
    "l"
   ]
  },
  {
   "cell_type": "code",
   "execution_count": 35,
   "id": "425eb93f-287d-4514-b666-9650c9eeaf6f",
   "metadata": {},
   "outputs": [
    {
     "ename": "TypeError",
     "evalue": "can only concatenate list (not \"int\") to list",
     "output_type": "error",
     "traceback": [
      "\u001b[0;31m---------------------------------------------------------------------------\u001b[0m",
      "\u001b[0;31mTypeError\u001b[0m                                 Traceback (most recent call last)",
      "Cell \u001b[0;32mIn[35], line 1\u001b[0m\n\u001b[0;32m----> 1\u001b[0m \u001b[43ml\u001b[49m\u001b[43m \u001b[49m\u001b[38;5;241;43m+\u001b[39;49m\u001b[43m \u001b[49m\u001b[38;5;241;43m5\u001b[39;49m\n",
      "\u001b[0;31mTypeError\u001b[0m: can only concatenate list (not \"int\") to list"
     ]
    }
   ],
   "source": [
    "l + 5"
   ]
  },
  {
   "cell_type": "code",
   "execution_count": 36,
   "id": "d351e9b7-9826-4eff-8fdd-3b3989eef407",
   "metadata": {},
   "outputs": [],
   "source": [
    "l.append(5) # to append a element in  the list"
   ]
  },
  {
   "cell_type": "code",
   "execution_count": 37,
   "id": "36eb971a-c1fc-45a2-ae1c-ef8d8b4da605",
   "metadata": {},
   "outputs": [
    {
     "data": {
      "text/plain": [
       "[1, 25, 26, 23, 'nikhil', True, (5+9j), 245.369, 5]"
      ]
     },
     "execution_count": 37,
     "metadata": {},
     "output_type": "execute_result"
    }
   ],
   "source": [
    "l"
   ]
  },
  {
   "cell_type": "code",
   "execution_count": 38,
   "id": "f6f3fe20-ae92-43e8-b747-2d7e1961952f",
   "metadata": {},
   "outputs": [],
   "source": [
    "l1 =[14,25,\"list\"]"
   ]
  },
  {
   "cell_type": "code",
   "execution_count": 39,
   "id": "9cfda7bc-d1e6-452e-a5bd-89885fd90fca",
   "metadata": {},
   "outputs": [
    {
     "data": {
      "text/plain": [
       "[1, 25, 26, 23, 'nikhil', True, (5+9j), 245.369, 5, 14, 25, 'list']"
      ]
     },
     "execution_count": 39,
     "metadata": {},
     "output_type": "execute_result"
    }
   ],
   "source": [
    "l + l1"
   ]
  },
  {
   "cell_type": "code",
   "execution_count": 40,
   "id": "322b5d65-1ece-4a4a-8bd8-2d22799fa3e7",
   "metadata": {},
   "outputs": [
    {
     "data": {
      "text/plain": [
       "[14, 25, 'list', 14, 25, 'list', 14, 25, 'list']"
      ]
     },
     "execution_count": 40,
     "metadata": {},
     "output_type": "execute_result"
    }
   ],
   "source": [
    "l1*3"
   ]
  },
  {
   "cell_type": "code",
   "execution_count": 41,
   "id": "c8db36a6-71a1-49b7-9651-25ab7d1546b7",
   "metadata": {},
   "outputs": [
    {
     "ename": "TypeError",
     "evalue": "list.count() takes exactly one argument (0 given)",
     "output_type": "error",
     "traceback": [
      "\u001b[0;31m---------------------------------------------------------------------------\u001b[0m",
      "\u001b[0;31mTypeError\u001b[0m                                 Traceback (most recent call last)",
      "Cell \u001b[0;32mIn[41], line 1\u001b[0m\n\u001b[0;32m----> 1\u001b[0m \u001b[43ml\u001b[49m\u001b[38;5;241;43m.\u001b[39;49m\u001b[43mcount\u001b[49m\u001b[43m(\u001b[49m\u001b[43m)\u001b[49m\n",
      "\u001b[0;31mTypeError\u001b[0m: list.count() takes exactly one argument (0 given)"
     ]
    }
   ],
   "source": [
    "l.count()"
   ]
  },
  {
   "cell_type": "code",
   "execution_count": 42,
   "id": "0e92b1b3-07b4-4369-971e-5c83d41f2953",
   "metadata": {},
   "outputs": [
    {
     "data": {
      "text/plain": [
       "9"
      ]
     },
     "execution_count": 42,
     "metadata": {},
     "output_type": "execute_result"
    }
   ],
   "source": [
    "len(l)"
   ]
  },
  {
   "cell_type": "code",
   "execution_count": 43,
   "id": "816a6f57-e5ee-49c9-8a82-01d8bd326224",
   "metadata": {},
   "outputs": [
    {
     "data": {
      "text/plain": [
       "[1, 25, 26, 23, 'nikhil', True, (5+9j), 245.369, 5]"
      ]
     },
     "execution_count": 43,
     "metadata": {},
     "output_type": "execute_result"
    }
   ],
   "source": [
    "l"
   ]
  },
  {
   "cell_type": "code",
   "execution_count": 48,
   "id": "2935f04e-fbe9-45ee-9f65-936be9d439eb",
   "metadata": {},
   "outputs": [],
   "source": [
    "l.append(10) # to append object to the end of the list"
   ]
  },
  {
   "cell_type": "code",
   "execution_count": 45,
   "id": "b784d076-76bb-4626-9a8d-bc8934fd5fd7",
   "metadata": {},
   "outputs": [
    {
     "data": {
      "text/plain": [
       "[1, 25, 26, 23, 'nikhil', True, (5+9j), 245.369, 5, 10]"
      ]
     },
     "execution_count": 45,
     "metadata": {},
     "output_type": "execute_result"
    }
   ],
   "source": [
    "l"
   ]
  },
  {
   "cell_type": "code",
   "execution_count": 46,
   "id": "43ff316a-c497-4754-b129-a37635dbc6d2",
   "metadata": {},
   "outputs": [],
   "source": [
    "l.append(\"Yash\")"
   ]
  },
  {
   "cell_type": "code",
   "execution_count": 47,
   "id": "23fc8a94-e0de-49b5-9fef-820ac7819e0d",
   "metadata": {},
   "outputs": [
    {
     "data": {
      "text/plain": [
       "[1, 25, 26, 23, 'nikhil', True, (5+9j), 245.369, 5, 10, 'Yash']"
      ]
     },
     "execution_count": 47,
     "metadata": {},
     "output_type": "execute_result"
    }
   ],
   "source": [
    "l"
   ]
  },
  {
   "cell_type": "code",
   "execution_count": 49,
   "id": "99701f8f-fa80-424f-a83b-d8b62d6a58cd",
   "metadata": {},
   "outputs": [],
   "source": [
    "l.append(s)"
   ]
  },
  {
   "cell_type": "code",
   "execution_count": 50,
   "id": "fb47026c-e8e8-4ab0-8e9c-3660dc44fb6d",
   "metadata": {},
   "outputs": [
    {
     "data": {
      "text/plain": [
       "[1, 25, 26, 23, 'nikhil', True, (5+9j), 245.369, 5, 10, 'Yash', 10, 'Yash']"
      ]
     },
     "execution_count": 50,
     "metadata": {},
     "output_type": "execute_result"
    }
   ],
   "source": [
    "l"
   ]
  },
  {
   "cell_type": "code",
   "execution_count": 51,
   "id": "b8e36a94-8fc3-4061-8dbf-048be06b4f12",
   "metadata": {},
   "outputs": [],
   "source": [
    "l.append(l1)"
   ]
  },
  {
   "cell_type": "code",
   "execution_count": 52,
   "id": "5928e612-88d8-4bbd-810b-02cc828f4c62",
   "metadata": {},
   "outputs": [
    {
     "data": {
      "text/plain": [
       "[1,\n",
       " 25,\n",
       " 26,\n",
       " 23,\n",
       " 'nikhil',\n",
       " True,\n",
       " (5+9j),\n",
       " 245.369,\n",
       " 5,\n",
       " 10,\n",
       " 'Yash',\n",
       " 10,\n",
       " 'Yash',\n",
       " [14, 25, 'list']]"
      ]
     },
     "execution_count": 52,
     "metadata": {},
     "output_type": "execute_result"
    }
   ],
   "source": [
    "l"
   ]
  },
  {
   "cell_type": "markdown",
   "id": "26b32676-38e2-4ccc-8562-767872196e95",
   "metadata": {},
   "source": [
    "The above is the example of Nested List"
   ]
  },
  {
   "cell_type": "code",
   "execution_count": 53,
   "id": "7d6234d3-82dd-496b-bb70-a67ed2865258",
   "metadata": {},
   "outputs": [
    {
     "data": {
      "text/plain": [
       "[14, 25, 'list']"
      ]
     },
     "execution_count": 53,
     "metadata": {},
     "output_type": "execute_result"
    }
   ],
   "source": [
    "l[-1]"
   ]
  },
  {
   "cell_type": "code",
   "execution_count": 54,
   "id": "a452b7dd-d52c-4854-a31b-d808e739c780",
   "metadata": {},
   "outputs": [
    {
     "data": {
      "text/plain": [
       "25"
      ]
     },
     "execution_count": 54,
     "metadata": {},
     "output_type": "execute_result"
    }
   ],
   "source": [
    "l[-1][1]"
   ]
  },
  {
   "cell_type": "code",
   "execution_count": 55,
   "id": "6a430728-999e-4443-85bb-5195a457b2e4",
   "metadata": {},
   "outputs": [
    {
     "data": {
      "text/plain": [
       "'li'"
      ]
     },
     "execution_count": 55,
     "metadata": {},
     "output_type": "execute_result"
    }
   ],
   "source": [
    "l[-1][2][0:2]"
   ]
  },
  {
   "cell_type": "code",
   "execution_count": 56,
   "id": "85702306-a0f9-43dd-bb2f-49bda4fb7ffd",
   "metadata": {},
   "outputs": [
    {
     "data": {
      "text/plain": [
       "[1,\n",
       " 25,\n",
       " 26,\n",
       " 23,\n",
       " 'nikhil',\n",
       " True,\n",
       " (5+9j),\n",
       " 245.369,\n",
       " 5,\n",
       " 10,\n",
       " 'Yash',\n",
       " 10,\n",
       " 'Yash',\n",
       " [14, 25, 'list']]"
      ]
     },
     "execution_count": 56,
     "metadata": {},
     "output_type": "execute_result"
    }
   ],
   "source": [
    "l"
   ]
  },
  {
   "cell_type": "code",
   "execution_count": 57,
   "id": "bca8c1dc-8cbd-473a-8965-60f1c0bc4e93",
   "metadata": {},
   "outputs": [
    {
     "ename": "TypeError",
     "evalue": "'int' object is not iterable",
     "output_type": "error",
     "traceback": [
      "\u001b[0;31m---------------------------------------------------------------------------\u001b[0m",
      "\u001b[0;31mTypeError\u001b[0m                                 Traceback (most recent call last)",
      "Cell \u001b[0;32mIn[57], line 1\u001b[0m\n\u001b[0;32m----> 1\u001b[0m \u001b[43ml\u001b[49m\u001b[38;5;241;43m.\u001b[39;49m\u001b[43mextend\u001b[49m\u001b[43m(\u001b[49m\u001b[38;5;241;43m4\u001b[39;49m\u001b[43m)\u001b[49m\n",
      "\u001b[0;31mTypeError\u001b[0m: 'int' object is not iterable"
     ]
    }
   ],
   "source": [
    "l.extend(4)"
   ]
  },
  {
   "cell_type": "code",
   "execution_count": 60,
   "id": "de4278c4-82c0-4aaa-921d-f6935dbd944b",
   "metadata": {},
   "outputs": [],
   "source": [
    "l.extend(\"nikhil\") # to append element that have data inside data"
   ]
  },
  {
   "cell_type": "code",
   "execution_count": 61,
   "id": "468d5890-71c0-4090-9741-01b789a0a49e",
   "metadata": {},
   "outputs": [
    {
     "data": {
      "text/plain": [
       "[1,\n",
       " 25,\n",
       " 26,\n",
       " 23,\n",
       " 'nikhil',\n",
       " True,\n",
       " (5+9j),\n",
       " 245.369,\n",
       " 5,\n",
       " 10,\n",
       " 'Yash',\n",
       " 10,\n",
       " 'Yash',\n",
       " [14, 25, 'list'],\n",
       " 'n',\n",
       " 'i',\n",
       " 'k',\n",
       " 'h',\n",
       " 'i',\n",
       " 'l',\n",
       " 'n',\n",
       " 'i',\n",
       " 'k',\n",
       " 'h',\n",
       " 'i',\n",
       " 'l']"
      ]
     },
     "execution_count": 61,
     "metadata": {},
     "output_type": "execute_result"
    }
   ],
   "source": [
    "l"
   ]
  },
  {
   "cell_type": "code",
   "execution_count": 62,
   "id": "3728b6c9-bead-411b-b849-e961fbe8bf19",
   "metadata": {},
   "outputs": [],
   "source": [
    "m = [1,25.26,\"nikhil\",6+7j]"
   ]
  },
  {
   "cell_type": "code",
   "execution_count": 64,
   "id": "96a949c5-740c-47af-9421-f73b58baef16",
   "metadata": {},
   "outputs": [
    {
     "data": {
      "text/plain": [
       "[1, 25.26, 'nikhil', (6+7j)]"
      ]
     },
     "execution_count": 64,
     "metadata": {},
     "output_type": "execute_result"
    }
   ],
   "source": [
    "m"
   ]
  },
  {
   "cell_type": "code",
   "execution_count": 67,
   "id": "19408a83-0cf3-4487-9ac3-f71536bea281",
   "metadata": {},
   "outputs": [],
   "source": [
    "m.extend(l1) "
   ]
  },
  {
   "cell_type": "code",
   "execution_count": 68,
   "id": "6a180123-5769-4c48-84b7-04d83c3c0a28",
   "metadata": {},
   "outputs": [
    {
     "data": {
      "text/plain": [
       "[1, 25.26, 'nikhil', (6+7j), 'y', 'a', 's', 'h', 14, 25, 'list']"
      ]
     },
     "execution_count": 68,
     "metadata": {},
     "output_type": "execute_result"
    }
   ],
   "source": [
    "m"
   ]
  },
  {
   "cell_type": "markdown",
   "id": "cb80f0a6-9543-4baa-baed-a55b212d45b2",
   "metadata": {},
   "source": [
    "The difference between append and extend is that append insert the data as it is like if we append a list then it considers whole list as a single element but in case of extends it breaks the elements of the list and adds the elements in second list as individual elements"
   ]
  },
  {
   "cell_type": "code",
   "execution_count": 69,
   "id": "bc90343f-9dda-4b39-94dc-7436f8ac0153",
   "metadata": {},
   "outputs": [
    {
     "data": {
      "text/plain": [
       "[1, 25.26, 'nikhil', (6+7j), 'y', 'a', 's', 'h', 14, 25, 'list']"
      ]
     },
     "execution_count": 69,
     "metadata": {},
     "output_type": "execute_result"
    }
   ],
   "source": [
    "m"
   ]
  },
  {
   "cell_type": "code",
   "execution_count": 70,
   "id": "785be31d-dcb1-4735-b5e2-c279aa2e9167",
   "metadata": {},
   "outputs": [
    {
     "data": {
      "text/plain": [
       "[14, 25, 'list']"
      ]
     },
     "execution_count": 70,
     "metadata": {},
     "output_type": "execute_result"
    }
   ],
   "source": [
    "l1"
   ]
  },
  {
   "cell_type": "markdown",
   "id": "9efc808b-b763-4f46-9b96-60019a37b585",
   "metadata": {},
   "source": [
    "Process to add data at the desired index in the list "
   ]
  },
  {
   "cell_type": "code",
   "execution_count": 71,
   "id": "e340a96d-8883-46fd-a359-dc577eedb982",
   "metadata": {},
   "outputs": [],
   "source": [
    "m.insert(0,\"nikhil\")"
   ]
  },
  {
   "cell_type": "code",
   "execution_count": 72,
   "id": "78c82467-30dd-4a0f-bf60-9b48965f752f",
   "metadata": {},
   "outputs": [
    {
     "data": {
      "text/plain": [
       "['nikhil', 1, 25.26, 'nikhil', (6+7j), 'y', 'a', 's', 'h', 14, 25, 'list']"
      ]
     },
     "execution_count": 72,
     "metadata": {},
     "output_type": "execute_result"
    }
   ],
   "source": [
    "m"
   ]
  },
  {
   "cell_type": "code",
   "execution_count": 73,
   "id": "197b59b9-9773-4734-89f0-63579b33c61b",
   "metadata": {},
   "outputs": [],
   "source": [
    "l1.insert(2,5+2j)"
   ]
  },
  {
   "cell_type": "code",
   "execution_count": 74,
   "id": "6383513e-1ff5-4ca9-810f-617e9a311c1a",
   "metadata": {},
   "outputs": [
    {
     "data": {
      "text/plain": [
       "[14, 25, (5+2j), 'list']"
      ]
     },
     "execution_count": 74,
     "metadata": {},
     "output_type": "execute_result"
    }
   ],
   "source": [
    "l1"
   ]
  },
  {
   "cell_type": "code",
   "execution_count": 77,
   "id": "c13e6d84-29ed-4465-931b-30e27f4124c1",
   "metadata": {},
   "outputs": [],
   "source": [
    "m.insert(2,[2,3,4]*2)"
   ]
  },
  {
   "cell_type": "code",
   "execution_count": 78,
   "id": "42c43dd3-747c-46ca-8417-85d28f396594",
   "metadata": {},
   "outputs": [
    {
     "data": {
      "text/plain": [
       "['nikhil',\n",
       " 1,\n",
       " [2, 3, 4, 2, 3, 4],\n",
       " [2, 3, 4],\n",
       " 25.26,\n",
       " 'nikhil',\n",
       " (6+7j),\n",
       " 'y',\n",
       " 'a',\n",
       " 's',\n",
       " 'h',\n",
       " 14,\n",
       " 25,\n",
       " 'list']"
      ]
     },
     "execution_count": 78,
     "metadata": {},
     "output_type": "execute_result"
    }
   ],
   "source": [
    "m"
   ]
  },
  {
   "cell_type": "code",
   "execution_count": 79,
   "id": "5e07b85a-b043-4110-b53f-2282740bf0b7",
   "metadata": {},
   "outputs": [],
   "source": [
    "l1.insert(-1,45) "
   ]
  },
  {
   "cell_type": "code",
   "execution_count": 80,
   "id": "b40e4fde-2e84-4cd2-978c-474e8c8e0880",
   "metadata": {},
   "outputs": [
    {
     "data": {
      "text/plain": [
       "[14, 25, (5+2j), 45, 'list']"
      ]
     },
     "execution_count": 80,
     "metadata": {},
     "output_type": "execute_result"
    }
   ],
   "source": [
    "l1"
   ]
  },
  {
   "cell_type": "code",
   "execution_count": 81,
   "id": "b51a7f94-d95d-46bf-be1a-a61529316343",
   "metadata": {},
   "outputs": [],
   "source": [
    "l1.insert(0,45) "
   ]
  },
  {
   "cell_type": "code",
   "execution_count": 82,
   "id": "7b7c6d75-dc49-4e76-b755-7fbcdb20ed40",
   "metadata": {},
   "outputs": [
    {
     "data": {
      "text/plain": [
       "[45, 14, 25, (5+2j), 45, 'list']"
      ]
     },
     "execution_count": 82,
     "metadata": {},
     "output_type": "execute_result"
    }
   ],
   "source": [
    "l1"
   ]
  },
  {
   "cell_type": "code",
   "execution_count": 88,
   "id": "ee22c510-31b3-4a55-89f4-06a74979a8e4",
   "metadata": {},
   "outputs": [
    {
     "data": {
      "text/plain": [
       "25"
      ]
     },
     "execution_count": 88,
     "metadata": {},
     "output_type": "execute_result"
    }
   ],
   "source": [
    "l1.pop() #to remove the element at the end of the list"
   ]
  },
  {
   "cell_type": "code",
   "execution_count": 84,
   "id": "1dfdc8e6-a8ae-4a1b-8b25-bad85ba98cab",
   "metadata": {},
   "outputs": [
    {
     "data": {
      "text/plain": [
       "[45, 14, 25, (5+2j), 45]"
      ]
     },
     "execution_count": 84,
     "metadata": {},
     "output_type": "execute_result"
    }
   ],
   "source": [
    "l1"
   ]
  },
  {
   "cell_type": "code",
   "execution_count": 86,
   "id": "f6babd75-1d81-4d5e-870e-202c942d6cc4",
   "metadata": {},
   "outputs": [
    {
     "data": {
      "text/plain": [
       "45"
      ]
     },
     "execution_count": 86,
     "metadata": {},
     "output_type": "execute_result"
    }
   ],
   "source": [
    "l1.pop()"
   ]
  },
  {
   "cell_type": "code",
   "execution_count": 93,
   "id": "f590bcd0-ffdb-48a0-98fc-26fd9f7fde89",
   "metadata": {},
   "outputs": [
    {
     "data": {
      "text/plain": [
       "14"
      ]
     },
     "execution_count": 93,
     "metadata": {},
     "output_type": "execute_result"
    }
   ],
   "source": [
    "l1.pop()"
   ]
  },
  {
   "cell_type": "code",
   "execution_count": 94,
   "id": "69ba4a5e-61d4-42dd-b501-191d63298418",
   "metadata": {},
   "outputs": [
    {
     "data": {
      "text/plain": [
       "'l'"
      ]
     },
     "execution_count": 94,
     "metadata": {},
     "output_type": "execute_result"
    }
   ],
   "source": [
    "l.pop()"
   ]
  },
  {
   "cell_type": "code",
   "execution_count": 95,
   "id": "94638fb7-cccd-4306-bfce-b971daa6ccfa",
   "metadata": {},
   "outputs": [
    {
     "ename": "SyntaxError",
     "evalue": "invalid syntax (961153753.py, line 1)",
     "output_type": "error",
     "traceback": [
      "\u001b[0;36m  Cell \u001b[0;32mIn[95], line 1\u001b[0;36m\u001b[0m\n\u001b[0;31m    l.pop(-1:-5)\u001b[0m\n\u001b[0m            ^\u001b[0m\n\u001b[0;31mSyntaxError\u001b[0m\u001b[0;31m:\u001b[0m invalid syntax\n"
     ]
    }
   ],
   "source": [
    "l.pop(-1:-5)"
   ]
  },
  {
   "cell_type": "code",
   "execution_count": 96,
   "id": "bb6d8590-234a-43c3-b20a-2f1911764768",
   "metadata": {},
   "outputs": [
    {
     "data": {
      "text/plain": [
       "True"
      ]
     },
     "execution_count": 96,
     "metadata": {},
     "output_type": "execute_result"
    }
   ],
   "source": [
    "l.pop(5)"
   ]
  },
  {
   "cell_type": "code",
   "execution_count": 97,
   "id": "86de47cc-7244-40cc-9b01-ef1765509198",
   "metadata": {},
   "outputs": [
    {
     "data": {
      "text/plain": [
       "[1,\n",
       " 25,\n",
       " 26,\n",
       " 23,\n",
       " 'nikhil',\n",
       " (5+9j),\n",
       " 245.369,\n",
       " 5,\n",
       " 10,\n",
       " 'Yash',\n",
       " 10,\n",
       " 'Yash',\n",
       " [45],\n",
       " 'n',\n",
       " 'i',\n",
       " 'k',\n",
       " 'h',\n",
       " 'i',\n",
       " 'l',\n",
       " 'n',\n",
       " 'i',\n",
       " 'k',\n",
       " 'h',\n",
       " 'i']"
      ]
     },
     "execution_count": 97,
     "metadata": {},
     "output_type": "execute_result"
    }
   ],
   "source": [
    "l"
   ]
  },
  {
   "cell_type": "code",
   "execution_count": 98,
   "id": "04b7211b-a291-4cb1-b6b9-9e22059f4548",
   "metadata": {},
   "outputs": [
    {
     "data": {
      "text/plain": [
       "['nikhil',\n",
       " 1,\n",
       " [2, 3, 4, 2, 3, 4],\n",
       " [2, 3, 4],\n",
       " 25.26,\n",
       " 'nikhil',\n",
       " (6+7j),\n",
       " 'y',\n",
       " 'a',\n",
       " 's',\n",
       " 'h',\n",
       " 14,\n",
       " 25,\n",
       " 'list']"
      ]
     },
     "execution_count": 98,
     "metadata": {},
     "output_type": "execute_result"
    }
   ],
   "source": [
    "m"
   ]
  },
  {
   "cell_type": "code",
   "execution_count": null,
   "id": "8ebde52d-1b1c-44b6-b648-b3b3b506245d",
   "metadata": {},
   "outputs": [],
   "source": []
  }
 ],
 "metadata": {
  "kernelspec": {
   "display_name": "Python 3 (ipykernel)",
   "language": "python",
   "name": "python3"
  },
  "language_info": {
   "codemirror_mode": {
    "name": "ipython",
    "version": 3
   },
   "file_extension": ".py",
   "mimetype": "text/x-python",
   "name": "python",
   "nbconvert_exporter": "python",
   "pygments_lexer": "ipython3",
   "version": "3.10.8"
  }
 },
 "nbformat": 4,
 "nbformat_minor": 5
}
