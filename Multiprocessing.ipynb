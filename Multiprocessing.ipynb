{
 "cells": [
  {
   "cell_type": "markdown",
   "id": "76afba8d-5dad-459c-bfd1-2d08bf9cab40",
   "metadata": {},
   "source": [
    "If we have multiple programs or multiple instances of a program to be run on multiple processors parallely.\n",
    "in this the whole execution time is optimized."
   ]
  },
  {
   "cell_type": "code",
   "execution_count": 6,
   "id": "23fb3d89-b0ca-4068-874a-fa2ca5343be8",
   "metadata": {},
   "outputs": [
    {
     "name": "stdout",
     "output_type": "stream",
     "text": [
      "This is my main program\n",
      "This is my multi processing program\n"
     ]
    }
   ],
   "source": [
    "#program of multiprocessing through Process function.\n",
    "import multiprocessing\n",
    "def test():\n",
    "    print(\"This is my multi processing program\")\n",
    "if __name__ == '__main__':\n",
    "    m = multiprocessing.Process(target=test)\n",
    "    print(\"This is my main program\")\n",
    "    m.start() # it is used to start a child process\n",
    "    m.join() # it is used to return resources to the parent process once the child process has been fully executed."
   ]
  },
  {
   "cell_type": "code",
   "execution_count": 9,
   "id": "288b6c5d-b65e-4284-bb59-8138d307dd63",
   "metadata": {},
   "outputs": [
    {
     "name": "stdout",
     "output_type": "stream",
     "text": [
      "[1, 4, 9, 16, 25, 36, 49, 64, 81]\n"
     ]
    }
   ],
   "source": [
    "# program to implement multiprocess through pooling of processors\n",
    "def square(n):\n",
    "    return n**2\n",
    "if __name__ == '__main__':\n",
    "    with multiprocessing.Pool(processes=4) as pool :#returns objects in bulk. it is similar to threading.thread(). it allocates this \n",
    "                                                    # processes to 4 processors as specified by user.\n",
    "        out = pool.map(square, [1,2,3,4,5,6,7,8,9]) # map function is used to give input one by one and to get output one  by one\n",
    "        print(out) # used to get the output"
   ]
  },
  {
   "cell_type": "code",
   "execution_count": 10,
   "id": "2a7ee343-2cfe-4a52-be20-b1a4ae64d87b",
   "metadata": {},
   "outputs": [],
   "source": [
    "#Program to implement multiprocessing using queue"
   ]
  },
  {
   "cell_type": "code",
   "execution_count": null,
   "id": "ce787c99-80ce-4ace-8629-7f02a76493aa",
   "metadata": {},
   "outputs": [
    {
     "name": "stdout",
     "output_type": "stream",
     "text": [
      "nikhil\n",
      "yash\n",
      "leena\n",
      "satish\n",
      "nikhil\n"
     ]
    }
   ],
   "source": [
    "#Queue works through principle of first in first out in this case.\n",
    "import multiprocessing\n",
    "def producer(q) : # 1st function to insert elements in the queue\n",
    "    for i in [\"nikhil\",\"yash\",\"leena\",\"satish\"]:\n",
    "        q.put(i)\n",
    "\n",
    "def consume(q) : # 2nd function to remove elements from the queue\n",
    "    while True:\n",
    "        item = q.get()\n",
    "        if item is None :\n",
    "            break\n",
    "        print(item)\n",
    "        \n",
    "if __name__ == '__main__':\n",
    "    queue = multiprocessing.Queue()\n",
    "    m1 = multiprocessing.Process(target=producer , args=(queue,))\n",
    "    m2 = multiprocessing.Process(target=consume , args=(queue,))\n",
    "    m1.start()\n",
    "    m2.start()\n",
    "    queue.put(\"nikhil\")\n",
    "    m1.join()\n",
    "    m2.join()"
   ]
  },
  {
   "cell_type": "code",
   "execution_count": 1,
   "id": "1f579948-8dc2-4010-9611-351241a31c0d",
   "metadata": {},
   "outputs": [
    {
     "name": "stdout",
     "output_type": "stream",
     "text": [
      "[4, 9, 16, 25, 36, 49, 64]\n"
     ]
    }
   ],
   "source": [
    "import multiprocessing\n",
    "def square(index, value) :\n",
    "    value[index] = value[index]**2\n",
    "    \n",
    "if __name__ == \"__main__\" :\n",
    "    arr = multiprocessing.Array('i',[2,3,4,5,6,7,8])\n",
    "    process = []\n",
    "    for i in range(7):\n",
    "        m = multiprocessing.Process(target=square, args = (i, arr))\n",
    "        process.append(m)\n",
    "        m.start()\n",
    "    for m in process:\n",
    "        m.join()\n",
    "    print(list(arr))"
   ]
  },
  {
   "cell_type": "code",
   "execution_count": null,
   "id": "1e4e5868-c08a-4655-875e-73ead0bcb2f5",
   "metadata": {},
   "outputs": [
    {
     "name": "stdout",
     "output_type": "stream",
     "text": [
      "my name is nik\n",
      "this is my msg to mentor\n",
      "I am taking class to learn multiprocessing\n"
     ]
    }
   ],
   "source": [
    "import multiprocessing\n",
    "def sender(conn, msg):\n",
    "    for i in msg:\n",
    "        conn.send(i)\n",
    "    conn.close()\n",
    "def receiver(conn) :\n",
    "    while True:\n",
    "        try:\n",
    "            msg = conn.recv()\n",
    "        except Exception as e:\n",
    "            print(e)\n",
    "            break\n",
    "        print(msg)\n",
    "\n",
    "if __name__ == \"__main__\" :\n",
    "    msg = ['my name is nik', 'this is my msg to mentor', 'I am taking class to learn multiprocessing']\n",
    "    parent_con,child_con = multiprocessing.Pipe()\n",
    "    m1 = multiprocessing.Process(target=sender, args=(child_con, msg))\n",
    "    m2 = multiprocessing.Process(target= receiver, args =(parent_con,))\n",
    "    m1.start()\n",
    "    m2.start()\n",
    "    m1.join()\n",
    "    child_con.close()\n",
    "    m2.join()\n",
    "    parent_con.close()"
   ]
  },
  {
   "cell_type": "code",
   "execution_count": null,
   "id": "1d858130-6b5c-4cb5-a54c-b2f6fcdcef7e",
   "metadata": {},
   "outputs": [],
   "source": []
  },
  {
   "cell_type": "code",
   "execution_count": null,
   "id": "98222599-42e8-4e3c-85e7-10b028ea13be",
   "metadata": {},
   "outputs": [],
   "source": []
  }
 ],
 "metadata": {
  "kernelspec": {
   "display_name": "Python 3 (ipykernel)",
   "language": "python",
   "name": "python3"
  },
  "language_info": {
   "codemirror_mode": {
    "name": "ipython",
    "version": 3
   },
   "file_extension": ".py",
   "mimetype": "text/x-python",
   "name": "python",
   "nbconvert_exporter": "python",
   "pygments_lexer": "ipython3",
   "version": "3.10.8"
  }
 },
 "nbformat": 4,
 "nbformat_minor": 5
}
