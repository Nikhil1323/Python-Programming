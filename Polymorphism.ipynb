{
 "cells": [
  {
   "cell_type": "markdown",
   "id": "41ea76b5-3f24-4aad-9965-0fe5571651e6",
   "metadata": {},
   "source": [
    "#POLYMORPHISM"
   ]
  },
  {
   "cell_type": "markdown",
   "id": "98298f68-d53f-4f36-b3bf-db6ca458ec05",
   "metadata": {},
   "source": [
    "Multiple kind of behaviour in multiple kind of situation"
   ]
  },
  {
   "cell_type": "code",
   "execution_count": 1,
   "id": "9741aaed-8cdf-49c2-af68-9d2e2bc107d6",
   "metadata": {},
   "outputs": [],
   "source": [
    "def test(a,b):\n",
    "    return a+b"
   ]
  },
  {
   "cell_type": "code",
   "execution_count": 2,
   "id": "43b5b1bf-2bda-4707-86a9-a50bc8b10e34",
   "metadata": {},
   "outputs": [
    {
     "data": {
      "text/plain": [
       "7"
      ]
     },
     "execution_count": 2,
     "metadata": {},
     "output_type": "execute_result"
    }
   ],
   "source": [
    "test(3,4)"
   ]
  },
  {
   "cell_type": "code",
   "execution_count": 5,
   "id": "6e575350-b298-4166-8c8a-8e25d1d28ad0",
   "metadata": {},
   "outputs": [
    {
     "data": {
      "text/plain": [
       "'nikhil bagul'"
      ]
     },
     "execution_count": 5,
     "metadata": {},
     "output_type": "execute_result"
    }
   ],
   "source": [
    "test(\"nikhil\", \" bagul\")"
   ]
  },
  {
   "cell_type": "code",
   "execution_count": 6,
   "id": "aaa22b36-27cf-4025-8f62-40cfffe0e9c5",
   "metadata": {},
   "outputs": [
    {
     "data": {
      "text/plain": [
       "[1, 2, 5, 3, 4, 2, 5, 36, 142]"
      ]
     },
     "execution_count": 6,
     "metadata": {},
     "output_type": "execute_result"
    }
   ],
   "source": [
    "test([1,2,5,3,4],[2,5,36,142])"
   ]
  },
  {
   "cell_type": "markdown",
   "id": "9e3a6bc6-41a7-4895-8c6f-88f760666a0c",
   "metadata": {},
   "source": [
    "In the above examples the function remains the same but the behaviour changes as the parameters changes\n",
    "when integers are passed then the addition operation is performed\n",
    "when we pass string then it cocatenates\n",
    "if we pass list then it performs cocatenates"
   ]
  },
  {
   "cell_type": "code",
   "execution_count": 7,
   "id": "d8d3fc64-0c41-4d73-bdd6-46c1a854d2d4",
   "metadata": {},
   "outputs": [],
   "source": [
    "class data_science:\n",
    "    def syllabus(self):\n",
    "        print(\"This is my syllabus for Data Science Masters\")"
   ]
  },
  {
   "cell_type": "code",
   "execution_count": 8,
   "id": "007dbc4e-801e-4a8a-b19d-252add52c478",
   "metadata": {},
   "outputs": [],
   "source": [
    "class web_dev:\n",
    "    def syllabus(self):\n",
    "        print(\"This is my syllabus for web_dev\")"
   ]
  },
  {
   "cell_type": "code",
   "execution_count": 9,
   "id": "94dc096d-f0e9-4a1b-aed1-1e29539da231",
   "metadata": {},
   "outputs": [],
   "source": [
    "def class_parcer(clas_obj):\n",
    "    for i in clas_obj:\n",
    "        i.syllabus()"
   ]
  },
  {
   "cell_type": "code",
   "execution_count": 10,
   "id": "b37e747b-c6cf-4c07-86dd-720b4fa322d0",
   "metadata": {},
   "outputs": [],
   "source": [
    "data_science = data_science()"
   ]
  },
  {
   "cell_type": "code",
   "execution_count": 11,
   "id": "1c00f2e0-19a3-4775-90b0-d290347e57bf",
   "metadata": {},
   "outputs": [],
   "source": [
    "web_dev = web_dev()"
   ]
  },
  {
   "cell_type": "code",
   "execution_count": 12,
   "id": "cc88f5ee-bf50-4345-a3d8-1624c2bbb537",
   "metadata": {},
   "outputs": [],
   "source": [
    "class_obj = [data_science, web_dev]"
   ]
  },
  {
   "cell_type": "code",
   "execution_count": 13,
   "id": "73701a05-2c45-47ea-a750-a1bf914ea764",
   "metadata": {},
   "outputs": [
    {
     "name": "stdout",
     "output_type": "stream",
     "text": [
      "This is my syllabus for Data Science Masters\n",
      "This is my syllabus for web_dev\n"
     ]
    }
   ],
   "source": [
    "class_parcer(class_obj)"
   ]
  },
  {
   "cell_type": "code",
   "execution_count": null,
   "id": "a9cef61b-a79e-498d-84bd-79b22d039690",
   "metadata": {},
   "outputs": [],
   "source": []
  }
 ],
 "metadata": {
  "kernelspec": {
   "display_name": "Python 3 (ipykernel)",
   "language": "python",
   "name": "python3"
  },
  "language_info": {
   "codemirror_mode": {
    "name": "ipython",
    "version": 3
   },
   "file_extension": ".py",
   "mimetype": "text/x-python",
   "name": "python",
   "nbconvert_exporter": "python",
   "pygments_lexer": "ipython3",
   "version": "3.10.8"
  }
 },
 "nbformat": 4,
 "nbformat_minor": 5
}
