{
 "cells": [
  {
   "cell_type": "code",
   "execution_count": 1,
   "id": "435de5d3-290b-49d2-b232-0776a6114d44",
   "metadata": {},
   "outputs": [],
   "source": [
    "f = open(\"test.txt\",'w') # used to open a new file in write mode"
   ]
  },
  {
   "cell_type": "code",
   "execution_count": 2,
   "id": "ec8f0774-4502-4adf-98b0-bb2bea602f68",
   "metadata": {},
   "outputs": [
    {
     "data": {
      "text/plain": [
       "'/home/jovyan/work'"
      ]
     },
     "execution_count": 2,
     "metadata": {},
     "output_type": "execute_result"
    }
   ],
   "source": [
    "pwd # used to locate the present working directory"
   ]
  },
  {
   "cell_type": "code",
   "execution_count": 4,
   "id": "42cf8ee0-2124-4ec7-99f4-6fc3db6dad73",
   "metadata": {},
   "outputs": [
    {
     "name": "stdout",
     "output_type": "stream",
     "text": [
      "README.md  sample-code.ipynb  test.txt  Untitled.ipynb\n"
     ]
    }
   ],
   "source": [
    "ls #used to list the files in currentt directory"
   ]
  },
  {
   "cell_type": "code",
   "execution_count": 5,
   "id": "22664892-5d9a-4ea9-b9e2-8d69745f62ec",
   "metadata": {},
   "outputs": [],
   "source": [
    "#cd file_name : this command is used to change directory of the file "
   ]
  },
  {
   "cell_type": "code",
   "execution_count": 6,
   "id": "47bee8e3-edb7-4fb4-a535-74be3bde5bd2",
   "metadata": {},
   "outputs": [
    {
     "data": {
      "text/plain": [
       "32"
      ]
     },
     "execution_count": 6,
     "metadata": {},
     "output_type": "execute_result"
    }
   ],
   "source": [
    "f.write(\"This is my first write in a file\")"
   ]
  },
  {
   "cell_type": "code",
   "execution_count": 7,
   "id": "e4339d8c-64cc-4524-9a87-755d55a38b28",
   "metadata": {},
   "outputs": [],
   "source": [
    "f.close()"
   ]
  },
  {
   "cell_type": "code",
   "execution_count": 8,
   "id": "779c3859-5836-41ce-9e2d-379c2ac91bea",
   "metadata": {},
   "outputs": [],
   "source": [
    "f = open(\"test.txt\",'w')"
   ]
  },
  {
   "cell_type": "code",
   "execution_count": 9,
   "id": "764922bb-72d1-409a-bb8e-08388af31891",
   "metadata": {},
   "outputs": [
    {
     "data": {
      "text/plain": [
       "15"
      ]
     },
     "execution_count": 9,
     "metadata": {},
     "output_type": "execute_result"
    }
   ],
   "source": [
    "f.write(\"This is my file\")"
   ]
  },
  {
   "cell_type": "code",
   "execution_count": 10,
   "id": "8c5879aa-b7a6-4189-a752-1f955667319a",
   "metadata": {},
   "outputs": [],
   "source": [
    "f.close() #it is necessary to close the file after write operation so that the content gets written inside it."
   ]
  },
  {
   "cell_type": "code",
   "execution_count": 11,
   "id": "36530b9d-31c4-4825-8d90-2ae797fc0022",
   "metadata": {},
   "outputs": [],
   "source": [
    "f = open(\"test.txt\",'a') #file is opened in append mode."
   ]
  },
  {
   "cell_type": "code",
   "execution_count": 12,
   "id": "99309453-58fc-4f30-a097-4631fe0c5de0",
   "metadata": {},
   "outputs": [
    {
     "data": {
      "text/plain": [
       "104"
      ]
     },
     "execution_count": 12,
     "metadata": {},
     "output_type": "execute_result"
    }
   ],
   "source": [
    "f.write(\"This is the best course for Data science masters. I will highly recommend it to every aspiring candidate\")"
   ]
  },
  {
   "cell_type": "code",
   "execution_count": 13,
   "id": "c6df7fe5-7d35-4b50-8ae7-82c705dbac8b",
   "metadata": {},
   "outputs": [],
   "source": [
    "f.close()"
   ]
  },
  {
   "cell_type": "code",
   "execution_count": 14,
   "id": "c0cde035-ba0c-4216-b242-ebf7ba7854c1",
   "metadata": {},
   "outputs": [],
   "source": [
    "f = open(\"test.txt\",'r')"
   ]
  },
  {
   "cell_type": "code",
   "execution_count": 15,
   "id": "559f855a-b708-407e-91dd-c1ba4bd4491c",
   "metadata": {},
   "outputs": [
    {
     "data": {
      "text/plain": [
       "'This is my fileThis is the best course for Data science masters. I will highly recommend it to every aspiring candidate'"
      ]
     },
     "execution_count": 15,
     "metadata": {},
     "output_type": "execute_result"
    }
   ],
   "source": [
    "f.read() # to read the data in the file."
   ]
  },
  {
   "cell_type": "code",
   "execution_count": 16,
   "id": "67e48164-d5bb-416d-b92c-e5171afd86c1",
   "metadata": {},
   "outputs": [
    {
     "data": {
      "text/plain": [
       "''"
      ]
     },
     "execution_count": 16,
     "metadata": {},
     "output_type": "execute_result"
    }
   ],
   "source": [
    "f.readline() #it is used to read line by line.\n",
    "#but here just like lists the data is stored in indexes and hence the system does not find multiple pointers to read."
   ]
  },
  {
   "cell_type": "code",
   "execution_count": 17,
   "id": "5472e1b8-04b3-4b28-943f-3ef11b8af814",
   "metadata": {},
   "outputs": [
    {
     "data": {
      "text/plain": [
       "0"
      ]
     },
     "execution_count": 17,
     "metadata": {},
     "output_type": "execute_result"
    }
   ],
   "source": [
    "f.seek(0) #to move the pointer to zeroth position"
   ]
  },
  {
   "cell_type": "code",
   "execution_count": 18,
   "id": "fabe0761-5916-4747-bcbd-04481b21d005",
   "metadata": {},
   "outputs": [
    {
     "data": {
      "text/plain": [
       "'This is my fileThis is the best course for Data science masters. I will highly recommend it to every aspiring candidate'"
      ]
     },
     "execution_count": 18,
     "metadata": {},
     "output_type": "execute_result"
    }
   ],
   "source": [
    "f.readline()"
   ]
  },
  {
   "cell_type": "code",
   "execution_count": 19,
   "id": "36d9373a-79ad-4f76-9d53-a9d507431825",
   "metadata": {},
   "outputs": [
    {
     "data": {
      "text/plain": [
       "10"
      ]
     },
     "execution_count": 19,
     "metadata": {},
     "output_type": "execute_result"
    }
   ],
   "source": [
    "f.seek(10) #now the pointer is moved to 10th position."
   ]
  },
  {
   "cell_type": "code",
   "execution_count": 20,
   "id": "b57f51ac-99a0-429d-a5c3-4eae78da44aa",
   "metadata": {},
   "outputs": [
    {
     "data": {
      "text/plain": [
       "' fileThis is the best course for Data science masters. I will highly recommend it to every aspiring candidate'"
      ]
     },
     "execution_count": 20,
     "metadata": {},
     "output_type": "execute_result"
    }
   ],
   "source": [
    "f.read() #as the pointer is on 10th position. the read is performed from 10th position onwards."
   ]
  },
  {
   "cell_type": "code",
   "execution_count": 21,
   "id": "2891cae8-3af2-4552-a27c-8b5ad9f7f5bc",
   "metadata": {},
   "outputs": [],
   "source": [
    "data1 = open(\"test.txt\",'r')"
   ]
  },
  {
   "cell_type": "code",
   "execution_count": 22,
   "id": "f6ae9a7f-e99c-4f80-a99a-34176ff19131",
   "metadata": {},
   "outputs": [
    {
     "name": "stdout",
     "output_type": "stream",
     "text": [
      "This is my fileThis is the best course for Data science masters. I will highly recommend it to every aspiring candidate\n"
     ]
    }
   ],
   "source": [
    "for i in data1:\n",
    "    print(i)"
   ]
  },
  {
   "cell_type": "code",
   "execution_count": 23,
   "id": "9b77693d-f26f-49f7-9426-d82a27b8eb55",
   "metadata": {},
   "outputs": [],
   "source": [
    "import os #os means operating system as a module is imported"
   ]
  },
  {
   "cell_type": "code",
   "execution_count": 24,
   "id": "3f9de38d-3439-4daf-ab43-87ffebd2fae9",
   "metadata": {},
   "outputs": [
    {
     "data": {
      "text/plain": [
       "119"
      ]
     },
     "execution_count": 24,
     "metadata": {},
     "output_type": "execute_result"
    }
   ],
   "source": [
    "os.path.getsize(\"test.txt\") #to get the size of the file"
   ]
  },
  {
   "cell_type": "code",
   "execution_count": 29,
   "id": "7350d134-9d0a-4424-9806-66686d4a3503",
   "metadata": {},
   "outputs": [],
   "source": [
    "f = open(\"test.txt\",'w')"
   ]
  },
  {
   "cell_type": "code",
   "execution_count": 30,
   "id": "42013033-91d0-4b80-855f-078f10ec28c5",
   "metadata": {},
   "outputs": [],
   "source": [
    "os.remove(\"test.txt\") # to delete the file."
   ]
  },
  {
   "cell_type": "code",
   "execution_count": 31,
   "id": "9487fac7-0160-4094-bfe3-d1f7892c8b6b",
   "metadata": {},
   "outputs": [],
   "source": [
    "f = open(\"test1.txt\",'w')"
   ]
  },
  {
   "cell_type": "code",
   "execution_count": 33,
   "id": "4d274c89-929f-40b8-86dd-51a9ed648f54",
   "metadata": {},
   "outputs": [
    {
     "data": {
      "text/plain": [
       "153"
      ]
     },
     "execution_count": 33,
     "metadata": {},
     "output_type": "execute_result"
    }
   ],
   "source": [
    "f.write(\"Hello Learner,You have a Doubt Clearing Class of Data Science masters on 29th Jul, 2023 at 03:00 PM IST. Please use the below button to join the session.\")"
   ]
  },
  {
   "cell_type": "code",
   "execution_count": 34,
   "id": "1f946bd5-0342-44f6-985c-535dab3fd779",
   "metadata": {},
   "outputs": [],
   "source": [
    "f.close()"
   ]
  },
  {
   "cell_type": "code",
   "execution_count": 35,
   "id": "4af5edf2-5cfe-4946-9056-d6aaa31ff7e6",
   "metadata": {},
   "outputs": [],
   "source": [
    "os.rename(\"test1.txt\",\"new.txt\") #to rename the file"
   ]
  },
  {
   "cell_type": "code",
   "execution_count": 36,
   "id": "87582219-447a-4d66-aa78-4ca0eb364e9d",
   "metadata": {},
   "outputs": [],
   "source": [
    "#to create multiple copies of file\n",
    "import shutil"
   ]
  },
  {
   "cell_type": "code",
   "execution_count": 37,
   "id": "fac1fe90-a851-4637-acc4-65dd281dd8a7",
   "metadata": {},
   "outputs": [
    {
     "data": {
      "text/plain": [
       "'copy_new.txt'"
      ]
     },
     "execution_count": 37,
     "metadata": {},
     "output_type": "execute_result"
    }
   ],
   "source": [
    "shutil.copy(\"new.txt\",\"copy_new.txt\")  #the data inside the file is also reflected in the duplicate file"
   ]
  },
  {
   "cell_type": "code",
   "execution_count": 39,
   "id": "abdabf08-e1cd-48c9-a2bc-6dc44c2d1b27",
   "metadata": {},
   "outputs": [
    {
     "name": "stdout",
     "output_type": "stream",
     "text": [
      "Hello Learner,You have a Doubt Clearing Class of Data Science masters on 29th Jul, 2023 at 03:00 PM IST. Please use the below button to join the session.\n"
     ]
    }
   ],
   "source": [
    "with open(\"new.txt\",'r') as f :\n",
    "    print(f.read())"
   ]
  },
  {
   "cell_type": "code",
   "execution_count": null,
   "id": "3de8afd3-d46c-4745-a218-35958f57467e",
   "metadata": {},
   "outputs": [],
   "source": []
  }
 ],
 "metadata": {
  "kernelspec": {
   "display_name": "Python 3 (ipykernel)",
   "language": "python",
   "name": "python3"
  },
  "language_info": {
   "codemirror_mode": {
    "name": "ipython",
    "version": 3
   },
   "file_extension": ".py",
   "mimetype": "text/x-python",
   "name": "python",
   "nbconvert_exporter": "python",
   "pygments_lexer": "ipython3",
   "version": "3.10.8"
  }
 },
 "nbformat": 4,
 "nbformat_minor": 5
}
