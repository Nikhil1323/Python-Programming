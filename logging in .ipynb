{
 "cells": [
  {
   "cell_type": "code",
   "execution_count": 1,
   "id": "7e595777-8a13-40b7-8876-73011d37f27b",
   "metadata": {},
   "outputs": [
    {
     "name": "stdout",
     "output_type": "stream",
     "text": [
      "This is my print\n"
     ]
    }
   ],
   "source": [
    "print(\"This is my print\")"
   ]
  },
  {
   "cell_type": "code",
   "execution_count": 2,
   "id": "91f19692-ae83-4b8f-aa74-431e190baae8",
   "metadata": {},
   "outputs": [],
   "source": [
    "#how we can store anything for future investigation or code debugging, maybe with the help of a file we can store and investigate.\n",
    "#  we have a solution in the form of logging in "
   ]
  },
  {
   "cell_type": "code",
   "execution_count": 3,
   "id": "157d20d1-c749-485e-b721-0235ec3d5cba",
   "metadata": {},
   "outputs": [],
   "source": [
    "#Logging module\n",
    "#here a file is created first and then we store the data permanently\n",
    "# in industry grade coding we avoid using print() as the output is temporary and vanishes as the console is closed."
   ]
  },
  {
   "cell_type": "code",
   "execution_count": 4,
   "id": "c648b2f3-7f39-4232-92f5-896756c7cb9b",
   "metadata": {},
   "outputs": [],
   "source": [
    "import logging"
   ]
  },
  {
   "cell_type": "code",
   "execution_count": 5,
   "id": "d2a34f8f-89ed-4336-b32a-02813d50fab2",
   "metadata": {},
   "outputs": [],
   "source": [
    "#to set the basic configuration\n",
    "logging.basicConfig(filename = \"test.log\" , level = logging.INFO) "
   ]
  },
  {
   "cell_type": "code",
   "execution_count": 6,
   "id": "2eee2dfa-989a-47b4-b162-149410cf7090",
   "metadata": {},
   "outputs": [],
   "source": [
    "logging.info(\"log this line of execution\")"
   ]
  },
  {
   "cell_type": "code",
   "execution_count": 7,
   "id": "6f43aa44-ac86-4ad9-b45f-2c062c20acd3",
   "metadata": {},
   "outputs": [],
   "source": [
    "logging.info(\"This is my print\")"
   ]
  },
  {
   "cell_type": "code",
   "execution_count": 9,
   "id": "8ea7e0be-4d5c-4744-b6b0-c5082bf2a9c1",
   "metadata": {},
   "outputs": [],
   "source": [
    "logging.debug(\"this is my message\") #here the log is not reflected in the log file as the level is set to info which does not have\n",
    "# permission to access logging above its level but can do it below its level."
   ]
  },
  {
   "cell_type": "code",
   "execution_count": 10,
   "id": "2294856b-5fb6-4bd8-8694-ebfa68746d82",
   "metadata": {},
   "outputs": [],
   "source": [
    "logging.warning(\"This is my warniong message\")"
   ]
  },
  {
   "cell_type": "code",
   "execution_count": 11,
   "id": "e67a555c-8a7e-4c6f-bfb2-90043dadb899",
   "metadata": {},
   "outputs": [],
   "source": [
    "logging.error(\"This is my error\")"
   ]
  },
  {
   "cell_type": "code",
   "execution_count": 12,
   "id": "732cba1e-99ce-40da-a6cb-759922bf13c0",
   "metadata": {},
   "outputs": [],
   "source": [
    "logging.critical(\"this is my critical msg\")"
   ]
  },
  {
   "cell_type": "code",
   "execution_count": 19,
   "id": "7124356b-8d43-4564-bf7e-4b27fb7c0729",
   "metadata": {},
   "outputs": [],
   "source": [
    "logging.shutdown()"
   ]
  },
  {
   "cell_type": "code",
   "execution_count": null,
   "id": "3238cf7f-0200-4525-ac4b-c5054bb4e636",
   "metadata": {},
   "outputs": [],
   "source": [
    "#logging levels\n",
    "1. NOTSET\n",
    "2. DEBUG\n",
    "3. INFO\n",
    "4. WARNING\n",
    "5. ERROR\n",
    "6. CRITICAL"
   ]
  },
  {
   "cell_type": "code",
   "execution_count": 1,
   "id": "9ffb2305-8c23-4c69-99f4-3e9854219a77",
   "metadata": {},
   "outputs": [],
   "source": [
    "import logging\n",
    "logging.basicConfig(filename = \"test1.log\", level = logging.DEBUG, format = '%(asctime)s %(message)s')"
   ]
  },
  {
   "cell_type": "code",
   "execution_count": 2,
   "id": "9e01e096-ef25-4b5d-bbe3-1b0235780e73",
   "metadata": {},
   "outputs": [],
   "source": [
    "logging.info(\"this is my info logging\")"
   ]
  },
  {
   "cell_type": "code",
   "execution_count": 3,
   "id": "12c293d7-4870-4536-b58c-beda1d871dc3",
   "metadata": {},
   "outputs": [],
   "source": [
    "logging.error(\"this is my error msg\")\n",
    "logging.warning(\"this is my warning\")\n",
    "logging.critical(\"this is my critical\")"
   ]
  },
  {
   "cell_type": "code",
   "execution_count": 4,
   "id": "6268db7c-4b64-4190-8407-56d18100454d",
   "metadata": {},
   "outputs": [],
   "source": [
    "logging.shutdown()"
   ]
  },
  {
   "cell_type": "code",
   "execution_count": 31,
   "id": "3a8c91e3-c5b0-469b-a1ec-423f292c3dc5",
   "metadata": {},
   "outputs": [],
   "source": [
    "import logging\n",
    "logging.basicConfig(filename = \"test2.log\", level = logging.DEBUG, format = '%(asctime)s %(name)s %(levelname)s %(message)s')"
   ]
  },
  {
   "cell_type": "code",
   "execution_count": 32,
   "id": "45f12b3b-cd52-468d-b99a-30eed61b648b",
   "metadata": {},
   "outputs": [],
   "source": [
    "logging.error(\"this is my error msg\")\n",
    "logging.warning(\"this is my warning\")\n",
    "logging.critical(\"this is my critical\")"
   ]
  },
  {
   "cell_type": "code",
   "execution_count": 33,
   "id": "ba65cd73-b33c-44a7-8b14-c015fa65ac05",
   "metadata": {},
   "outputs": [],
   "source": [
    "l = [1,2,3,4,[2,4,6],\"nikhil\",\"bagul\"]"
   ]
  },
  {
   "cell_type": "code",
   "execution_count": 44,
   "id": "730f5a1d-92ff-4f9f-8903-902f4e249d92",
   "metadata": {},
   "outputs": [],
   "source": [
    "l1_int = []\n",
    "l2_str = []\n",
    "for i in l:\n",
    "    logging.info(\"we are iterating through our list and our local variable is {}\" .format(l))\n",
    "    if type(i) == list :\n",
    "        logging.info(\"I am inside if statement and i am trying to check list type \" + str(i))\n",
    "        for j in i:\n",
    "            logging.info(\"I am another for loop for list inside list element \" + str(j))\n",
    "            if type(j) == int :\n",
    "                logging.info(\"I am inside if statement\")\n",
    "                l1_int.append(j)\n",
    "    elif type(i) == int :\n",
    "        l1_int.append(i)\n",
    "    else:\n",
    "        if type(i) == str :\n",
    "            l2_str.append(i)\n",
    "logging.info(\"My final list for int is {l1} and str is {l2}\".format(l1 = l1_int, l2 = l2_str))"
   ]
  },
  {
   "cell_type": "code",
   "execution_count": 45,
   "id": "b9381b4b-1fdd-45dd-89be-920683e6c206",
   "metadata": {},
   "outputs": [
    {
     "data": {
      "text/plain": [
       "[1, 2, 3, 4, 2, 4, 6]"
      ]
     },
     "execution_count": 45,
     "metadata": {},
     "output_type": "execute_result"
    }
   ],
   "source": [
    "l1_int"
   ]
  },
  {
   "cell_type": "code",
   "execution_count": 46,
   "id": "522b8e08-d082-47c6-afc4-c6bfefa3a2ad",
   "metadata": {},
   "outputs": [
    {
     "data": {
      "text/plain": [
       "['nikhil', 'bagul']"
      ]
     },
     "execution_count": 46,
     "metadata": {},
     "output_type": "execute_result"
    }
   ],
   "source": [
    "l2_str"
   ]
  },
  {
   "cell_type": "code",
   "execution_count": null,
   "id": "f6a74f4a-2aa6-4593-830c-28d788e1e397",
   "metadata": {},
   "outputs": [],
   "source": []
  }
 ],
 "metadata": {
  "kernelspec": {
   "display_name": "Python 3 (ipykernel)",
   "language": "python",
   "name": "python3"
  },
  "language_info": {
   "codemirror_mode": {
    "name": "ipython",
    "version": 3
   },
   "file_extension": ".py",
   "mimetype": "text/x-python",
   "name": "python",
   "nbconvert_exporter": "python",
   "pygments_lexer": "ipython3",
   "version": "3.10.8"
  }
 },
 "nbformat": 4,
 "nbformat_minor": 5
}
