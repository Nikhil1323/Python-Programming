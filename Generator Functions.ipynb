{
 "cells": [
  {
   "cell_type": "code",
   "execution_count": 1,
   "id": "17645913-5efc-4977-8d51-013b86fdda32",
   "metadata": {},
   "outputs": [
    {
     "data": {
      "text/plain": [
       "range(0, 10)"
      ]
     },
     "execution_count": 1,
     "metadata": {},
     "output_type": "execute_result"
    }
   ],
   "source": [
    "range(10)"
   ]
  },
  {
   "cell_type": "code",
   "execution_count": 2,
   "id": "b5f12af6-d0ed-4ca7-9396-d5aaa362f1ef",
   "metadata": {},
   "outputs": [
    {
     "name": "stdout",
     "output_type": "stream",
     "text": [
      "0\n",
      "1\n",
      "2\n",
      "3\n",
      "4\n",
      "5\n",
      "6\n",
      "7\n",
      "8\n",
      "9\n"
     ]
    }
   ],
   "source": [
    "for i in range(10):\n",
    "    print(i)"
   ]
  },
  {
   "cell_type": "markdown",
   "id": "ae18a7ff-6c95-4ee9-b75e-1cdd60ed16e9",
   "metadata": {},
   "source": [
    "To reduce memory concern we use generator function instead of storing large amount of data in any other data type"
   ]
  },
  {
   "cell_type": "markdown",
   "id": "2127df33-7500-46b1-bd93-06d67e4983a8",
   "metadata": {},
   "source": [
    "Such type of function is called Generator function"
   ]
  },
  {
   "cell_type": "code",
   "execution_count": 3,
   "id": "86023d12-5c3b-4812-b026-a61f489d6fde",
   "metadata": {},
   "outputs": [],
   "source": [
    "#To generate Fibonacci number series\n",
    "def test_fibo(n):\n",
    "    a,b =0,1\n",
    "    for i in range(n):\n",
    "        yield a\n",
    "        a,b = b, a+b"
   ]
  },
  {
   "cell_type": "markdown",
   "id": "16394686-c914-46ab-80fc-13ced10a5448",
   "metadata": {},
   "source": [
    "The above function is an example of generator function. Here there is no return used instead yield is used to give back the value"
   ]
  },
  {
   "cell_type": "code",
   "execution_count": null,
   "id": "ae0a40db-5f03-4c04-95aa-00863951773e",
   "metadata": {},
   "outputs": [],
   "source": [
    "we do not get the whole data at once we generate it one by one.\n",
    "suppose we have a list containing a million records in this case it will be highly costly in terms of time and system memory.\n",
    "so better to generate the value one by one as and when needed."
   ]
  },
  {
   "cell_type": "code",
   "execution_count": 4,
   "id": "2b940b06-d5f5-4077-a4be-e8d63e5ea7d3",
   "metadata": {},
   "outputs": [
    {
     "data": {
      "text/plain": [
       "<generator object test_fibo at 0x7fdad4b51850>"
      ]
     },
     "execution_count": 4,
     "metadata": {},
     "output_type": "execute_result"
    }
   ],
   "source": [
    "test_fibo(10)"
   ]
  },
  {
   "cell_type": "code",
   "execution_count": 5,
   "id": "f05147bc-a55d-4ecf-aa7d-e53acc447c80",
   "metadata": {},
   "outputs": [
    {
     "name": "stdout",
     "output_type": "stream",
     "text": [
      "0\n",
      "1\n",
      "1\n",
      "2\n",
      "3\n",
      "5\n",
      "8\n",
      "13\n",
      "21\n",
      "34\n"
     ]
    }
   ],
   "source": [
    "for i in test_fibo(10):\n",
    "    print(i)"
   ]
  },
  {
   "cell_type": "code",
   "execution_count": 8,
   "id": "f3c0add9-7bcf-4daf-a761-34a4c7d988e3",
   "metadata": {},
   "outputs": [],
   "source": [
    "#Example of generator function\n",
    "def test_fibo1():\n",
    "    a,b = 0,1\n",
    "    while True:\n",
    "        yield a\n",
    "        a,b = b,a+b"
   ]
  },
  {
   "cell_type": "code",
   "execution_count": 9,
   "id": "aaca8bac-3b2c-45f4-9c65-d74bfd646300",
   "metadata": {},
   "outputs": [],
   "source": [
    "fib = test_fibo1()"
   ]
  },
  {
   "cell_type": "code",
   "execution_count": 10,
   "id": "0b094ec7-f119-4a05-a484-93c3d497af67",
   "metadata": {},
   "outputs": [
    {
     "name": "stdout",
     "output_type": "stream",
     "text": [
      "0\n",
      "1\n",
      "1\n",
      "2\n",
      "3\n",
      "5\n",
      "8\n",
      "13\n",
      "21\n",
      "34\n"
     ]
    }
   ],
   "source": [
    "for i in range(10):\n",
    "    print(next(fib))"
   ]
  },
  {
   "cell_type": "code",
   "execution_count": 11,
   "id": "31aeeed1-20ea-4deb-9e5f-19f312c77fc2",
   "metadata": {},
   "outputs": [
    {
     "name": "stdout",
     "output_type": "stream",
     "text": [
      "n\n",
      "i\n",
      "k\n",
      "h\n",
      "i\n",
      "l\n"
     ]
    }
   ],
   "source": [
    "s =\"nikhil\"\n",
    "for i in s:\n",
    "    print(i)"
   ]
  },
  {
   "cell_type": "code",
   "execution_count": 12,
   "id": "164f38ad-e4ce-463e-ad35-c4cf6f2dcf54",
   "metadata": {},
   "outputs": [
    {
     "data": {
      "text/plain": [
       "'nikhil'"
      ]
     },
     "execution_count": 12,
     "metadata": {},
     "output_type": "execute_result"
    }
   ],
   "source": [
    "s"
   ]
  },
  {
   "cell_type": "code",
   "execution_count": 13,
   "id": "95ca3eb8-5b14-4a0e-ab80-ef3010200dda",
   "metadata": {},
   "outputs": [
    {
     "ename": "TypeError",
     "evalue": "'str' object is not an iterator",
     "output_type": "error",
     "traceback": [
      "\u001b[0;31m---------------------------------------------------------------------------\u001b[0m",
      "\u001b[0;31mTypeError\u001b[0m                                 Traceback (most recent call last)",
      "Cell \u001b[0;32mIn[13], line 1\u001b[0m\n\u001b[0;32m----> 1\u001b[0m \u001b[38;5;28;43mnext\u001b[39;49m\u001b[43m(\u001b[49m\u001b[43ms\u001b[49m\u001b[43m)\u001b[49m\n",
      "\u001b[0;31mTypeError\u001b[0m: 'str' object is not an iterator"
     ]
    }
   ],
   "source": [
    "next(s)"
   ]
  },
  {
   "cell_type": "code",
   "execution_count": 14,
   "id": "7fb22319-af22-42ea-a177-4ffde3f34061",
   "metadata": {},
   "outputs": [],
   "source": [
    "s1 = iter(s)"
   ]
  },
  {
   "cell_type": "code",
   "execution_count": 15,
   "id": "3280d239-2036-4c98-a962-bc4f7672d081",
   "metadata": {},
   "outputs": [
    {
     "data": {
      "text/plain": [
       "'n'"
      ]
     },
     "execution_count": 15,
     "metadata": {},
     "output_type": "execute_result"
    }
   ],
   "source": [
    "next(s1)"
   ]
  },
  {
   "cell_type": "markdown",
   "id": "960c7dbb-3c91-41ed-919c-0669379f60b8",
   "metadata": {},
   "source": [
    "next(s1)"
   ]
  },
  {
   "cell_type": "code",
   "execution_count": 17,
   "id": "f4922fbe-6e6d-4b29-909d-f85708fc8fad",
   "metadata": {},
   "outputs": [
    {
     "data": {
      "text/plain": [
       "'k'"
      ]
     },
     "execution_count": 17,
     "metadata": {},
     "output_type": "execute_result"
    }
   ],
   "source": [
    "next(s1)"
   ]
  },
  {
   "cell_type": "markdown",
   "id": "a7512798-2b33-469c-a893-9b42d7c31506",
   "metadata": {},
   "source": [
    "String is iterable but not an iterator\n",
    "to make string iterator we need to first use iter()\n",
    "then use the next() which gives the elements at different indexes"
   ]
  },
  {
   "cell_type": "code",
   "execution_count": 18,
   "id": "efba4e13-2043-45e5-9fd9-7ab7e6db5611",
   "metadata": {},
   "outputs": [
    {
     "ename": "TypeError",
     "evalue": "'int' object is not an iterator",
     "output_type": "error",
     "traceback": [
      "\u001b[0;31m---------------------------------------------------------------------------\u001b[0m",
      "\u001b[0;31mTypeError\u001b[0m                                 Traceback (most recent call last)",
      "Cell \u001b[0;32mIn[18], line 1\u001b[0m\n\u001b[0;32m----> 1\u001b[0m \u001b[38;5;28;43mnext\u001b[39;49m\u001b[43m(\u001b[49m\u001b[38;5;241;43m45\u001b[39;49m\u001b[43m)\u001b[49m\n",
      "\u001b[0;31mTypeError\u001b[0m: 'int' object is not an iterator"
     ]
    }
   ],
   "source": [
    "next(45)"
   ]
  },
  {
   "cell_type": "code",
   "execution_count": 19,
   "id": "a1dde946-889d-4e17-ae74-3b09ed143d73",
   "metadata": {},
   "outputs": [
    {
     "ename": "TypeError",
     "evalue": "'int' object is not iterable",
     "output_type": "error",
     "traceback": [
      "\u001b[0;31m---------------------------------------------------------------------------\u001b[0m",
      "\u001b[0;31mTypeError\u001b[0m                                 Traceback (most recent call last)",
      "Cell \u001b[0;32mIn[19], line 1\u001b[0m\n\u001b[0;32m----> 1\u001b[0m \u001b[38;5;28;43miter\u001b[39;49m\u001b[43m(\u001b[49m\u001b[38;5;241;43m45\u001b[39;49m\u001b[43m)\u001b[49m\n",
      "\u001b[0;31mTypeError\u001b[0m: 'int' object is not iterable"
     ]
    }
   ],
   "source": [
    "iter(45)"
   ]
  },
  {
   "cell_type": "markdown",
   "id": "909733af-e4bd-45e5-8b85-39487dfdd406",
   "metadata": {},
   "source": [
    "The one which is iterable  only that can be converted to iterator \n",
    "for example string, list, tuples, dictionary, sets,etc\n",
    "an integer/float/complex/boolean is not an iterable and hence cannot become an iterator even after using iter()"
   ]
  },
  {
   "cell_type": "code",
   "execution_count": 21,
   "id": "e9539f7d-6fc6-47eb-a0db-6f07eda5e0ad",
   "metadata": {},
   "outputs": [
    {
     "name": "stdout",
     "output_type": "stream",
     "text": [
      "1\n",
      "2\n",
      "3\n",
      "4\n"
     ]
    }
   ],
   "source": [
    "def count_test(n):\n",
    "    count = 1\n",
    "    while count < n:\n",
    "        yield count\n",
    "        count = count + 1\n",
    "c = count_test(5)\n",
    "for i in c :\n",
    "    print(i)"
   ]
  },
  {
   "cell_type": "code",
   "execution_count": null,
   "id": "609a488e-55b1-40c3-9558-aa4bc8633a49",
   "metadata": {},
   "outputs": [],
   "source": []
  }
 ],
 "metadata": {
  "kernelspec": {
   "display_name": "Python 3 (ipykernel)",
   "language": "python",
   "name": "python3"
  },
  "language_info": {
   "codemirror_mode": {
    "name": "ipython",
    "version": 3
   },
   "file_extension": ".py",
   "mimetype": "text/x-python",
   "name": "python",
   "nbconvert_exporter": "python",
   "pygments_lexer": "ipython3",
   "version": "3.10.8"
  }
 },
 "nbformat": 4,
 "nbformat_minor": 5
}
