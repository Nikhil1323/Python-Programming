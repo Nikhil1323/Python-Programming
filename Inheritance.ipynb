{
 "cells": [
  {
   "cell_type": "markdown",
   "id": "c3aa077e-7b00-48d6-b015-bb50738f4a96",
   "metadata": {},
   "source": [
    "#Inheritance"
   ]
  },
  {
   "cell_type": "markdown",
   "id": "648f7347-f5c8-4855-a1a5-af3ff8493b86",
   "metadata": {},
   "source": [
    "Property of one class into another class is inherited/acquired in the Inheritance Concept"
   ]
  },
  {
   "cell_type": "code",
   "execution_count": 5,
   "id": "2db08c7d-73eb-4c0a-b0b8-2738b56efe8d",
   "metadata": {},
   "outputs": [],
   "source": [
    "#self is required to create a reference towards a main class \n",
    "class test:\n",
    "    \n",
    "    def test_meth(self):\n",
    "        return \"This is my first class\"\n",
    "  #this is a parent class  "
   ]
  },
  {
   "cell_type": "code",
   "execution_count": 6,
   "id": "bd71bc74-cfcb-4fca-baf8-7b5bedcdd712",
   "metadata": {},
   "outputs": [],
   "source": [
    "class child_test(test) :\n",
    "    pass\n",
    "#this is a child class in which parent class is passed as a parameter "
   ]
  },
  {
   "cell_type": "code",
   "execution_count": 8,
   "id": "e9dcda3b-1da0-460c-8c3a-92c794b28560",
   "metadata": {},
   "outputs": [],
   "source": [
    "child_test_obj = child_test() #object is created of the child class"
   ]
  },
  {
   "cell_type": "code",
   "execution_count": 9,
   "id": "b56b0bbb-8d2c-4c54-9c30-6587851e73c9",
   "metadata": {},
   "outputs": [
    {
     "data": {
      "text/plain": [
       "'This is my first class'"
      ]
     },
     "execution_count": 9,
     "metadata": {},
     "output_type": "execute_result"
    }
   ],
   "source": [
    "child_test_obj.test_meth() #Because of Inheritance the object of child class is able to call the function of parent class"
   ]
  },
  {
   "cell_type": "markdown",
   "id": "85a44860-352d-4521-b6dc-5eab4ea5ab89",
   "metadata": {},
   "source": [
    "Parent Class property is inherited in child class"
   ]
  },
  {
   "cell_type": "markdown",
   "id": "7fb32cbd-5279-4194-b152-d20ba7df3e01",
   "metadata": {},
   "source": [
    "Types of Inheritance\n",
    "1. Multiple inheritance\n",
    "2. Multi level Inheritance"
   ]
  },
  {
   "cell_type": "markdown",
   "id": "d1b05851-ccf5-4b72-b9ee-e79c626b7d08",
   "metadata": {},
   "source": [
    "If in a hierarchy of class 1, class 2 and class 3 in the respective order, class 2 is able to inherit properties of Class 1.\n",
    "And Class 3 is able to inherit properties of class 2.\n",
    "And Class 3 is also able to inherit properties of class 1 which are inherited by class 2.\n",
    "Then this type of Inheritance is called as Multilevel Inheritance"
   ]
  },
  {
   "cell_type": "code",
   "execution_count": 10,
   "id": "898672cb-7dac-4e59-9f01-e0aa6a0a7a25",
   "metadata": {},
   "outputs": [],
   "source": [
    "#Program to implement Multi level Inheritance"
   ]
  },
  {
   "cell_type": "code",
   "execution_count": 11,
   "id": "ec4f0caf-ddc8-42e1-9b95-e90509d19077",
   "metadata": {},
   "outputs": [],
   "source": [
    "class class1:\n",
    "    def test_class1(self):\n",
    "        return \"This is a Method from class1\""
   ]
  },
  {
   "cell_type": "code",
   "execution_count": 12,
   "id": "a637dddd-34fc-4799-aef7-622b359c8aa0",
   "metadata": {},
   "outputs": [],
   "source": [
    "class class2(class1):\n",
    "    def test_class2(self):\n",
    "        return \"This is a method from class2\""
   ]
  },
  {
   "cell_type": "code",
   "execution_count": 13,
   "id": "f0c601a1-17a2-49e1-8b11-18880322bd39",
   "metadata": {},
   "outputs": [],
   "source": [
    "class class3(class2):\n",
    "    pass"
   ]
  },
  {
   "cell_type": "code",
   "execution_count": 14,
   "id": "1bf560e3-c9cc-4c7b-92cc-b3fd2b7f8e2d",
   "metadata": {},
   "outputs": [],
   "source": [
    "obj_class3 = class3()"
   ]
  },
  {
   "cell_type": "code",
   "execution_count": 15,
   "id": "4a117a52-b0bd-4790-9f1c-3eadcc287510",
   "metadata": {},
   "outputs": [
    {
     "data": {
      "text/plain": [
       "'This is a Method from class1'"
      ]
     },
     "execution_count": 15,
     "metadata": {},
     "output_type": "execute_result"
    }
   ],
   "source": [
    "obj_class3.test_class1()"
   ]
  },
  {
   "cell_type": "code",
   "execution_count": 17,
   "id": "67bc9b7c-018e-4237-8115-1895770ba1b7",
   "metadata": {},
   "outputs": [
    {
     "data": {
      "text/plain": [
       "'This is a method from class2'"
      ]
     },
     "execution_count": 17,
     "metadata": {},
     "output_type": "execute_result"
    }
   ],
   "source": [
    "obj_class3.test_class2()"
   ]
  },
  {
   "cell_type": "markdown",
   "id": "688137e0-74bf-4a5c-ac5d-b141bad360a9",
   "metadata": {},
   "source": [
    "#Mulitple Inheritance\n",
    "If we can access properties of Class 1 and Class 2  both of which are at the same level, in class 3 which is at a lower level\n",
    "It is called as multiple Inheritance"
   ]
  },
  {
   "cell_type": "code",
   "execution_count": 18,
   "id": "ecff965e-be4c-4b24-9f55-acaebd486fe0",
   "metadata": {},
   "outputs": [],
   "source": [
    "#Program to implement multiple inheritance\n",
    "class class1:\n",
    "    def test_class1(self):\n",
    "        return \"This is class1\"\n",
    "class class2:\n",
    "    def test_class2(self):\n",
    "        return \"This is class2\""
   ]
  },
  {
   "cell_type": "code",
   "execution_count": 19,
   "id": "1302a021-0093-4787-9733-5e54513a47d6",
   "metadata": {},
   "outputs": [],
   "source": [
    "class class3(class1,  class2):\n",
    "    pass"
   ]
  },
  {
   "cell_type": "code",
   "execution_count": 20,
   "id": "50750e0c-2216-4815-8292-c06dae46231b",
   "metadata": {},
   "outputs": [],
   "source": [
    "obj_class3 = class3()"
   ]
  },
  {
   "cell_type": "code",
   "execution_count": 21,
   "id": "e7bfb26f-82b6-4dd1-a9ef-642726f83745",
   "metadata": {},
   "outputs": [
    {
     "data": {
      "text/plain": [
       "'This is class1'"
      ]
     },
     "execution_count": 21,
     "metadata": {},
     "output_type": "execute_result"
    }
   ],
   "source": [
    "obj_class3.test_class1()"
   ]
  },
  {
   "cell_type": "code",
   "execution_count": 22,
   "id": "b582d11b-b0fd-41c4-94ad-12995718c5ae",
   "metadata": {},
   "outputs": [
    {
     "data": {
      "text/plain": [
       "'This is class2'"
      ]
     },
     "execution_count": 22,
     "metadata": {},
     "output_type": "execute_result"
    }
   ],
   "source": [
    "obj_class3.test_class2()"
   ]
  },
  {
   "cell_type": "code",
   "execution_count": null,
   "id": "a8a54edd-3ffe-4c77-82ce-f047c7d5da67",
   "metadata": {},
   "outputs": [],
   "source": []
  }
 ],
 "metadata": {
  "kernelspec": {
   "display_name": "Python 3 (ipykernel)",
   "language": "python",
   "name": "python3"
  },
  "language_info": {
   "codemirror_mode": {
    "name": "ipython",
    "version": 3
   },
   "file_extension": ".py",
   "mimetype": "text/x-python",
   "name": "python",
   "nbconvert_exporter": "python",
   "pygments_lexer": "ipython3",
   "version": "3.10.8"
  }
 },
 "nbformat": 4,
 "nbformat_minor": 5
}
