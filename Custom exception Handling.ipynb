{
 "cells": [
  {
   "cell_type": "code",
   "execution_count": 1,
   "id": "f4573ad8-5b50-4189-87bf-c8d72930f37e",
   "metadata": {},
   "outputs": [
    {
     "name": "stdin",
     "output_type": "stream",
     "text": [
      "Enter Your age -253\n"
     ]
    }
   ],
   "source": [
    "age = int(input(\"Enter Your age\"))"
   ]
  },
  {
   "cell_type": "code",
   "execution_count": 14,
   "id": "618a62b8-6f43-4d7a-9ba5-2d5586d6befd",
   "metadata": {},
   "outputs": [],
   "source": [
    "class validate_age(Exception):\n",
    "    def __init__(self,msg):\n",
    "        self.msg = msg"
   ]
  },
  {
   "cell_type": "code",
   "execution_count": 15,
   "id": "e9d5e630-bf8f-42a2-8a9c-1251cd7830ca",
   "metadata": {},
   "outputs": [],
   "source": [
    "def validateage(age):\n",
    "    if age < 0 :\n",
    "        raise validate_age(\"Entered age is Negative\")\n",
    "    elif age > 200 :\n",
    "        raise validate_age(\"Entered age is very very high\")\n",
    "    else:\n",
    "        print(\"Age is valid\")"
   ]
  },
  {
   "cell_type": "code",
   "execution_count": 17,
   "id": "3e96a457-47b2-48dc-85a2-5513b507388e",
   "metadata": {},
   "outputs": [
    {
     "name": "stdin",
     "output_type": "stream",
     "text": [
      "Enter your age -25\n"
     ]
    },
    {
     "name": "stdout",
     "output_type": "stream",
     "text": [
      "Entered age is Negative\n"
     ]
    }
   ],
   "source": [
    "try:\n",
    "    age = int(input(\"Enter your age\"))\n",
    "    validateage(age)\n",
    "except validate_age as e :\n",
    "    print(e)"
   ]
  },
  {
   "cell_type": "code",
   "execution_count": null,
   "id": "fe7ab6db-6e85-4566-8da7-d67d42b27b4f",
   "metadata": {},
   "outputs": [],
   "source": []
  }
 ],
 "metadata": {
  "kernelspec": {
   "display_name": "Python 3 (ipykernel)",
   "language": "python",
   "name": "python3"
  },
  "language_info": {
   "codemirror_mode": {
    "name": "ipython",
    "version": 3
   },
   "file_extension": ".py",
   "mimetype": "text/x-python",
   "name": "python",
   "nbconvert_exporter": "python",
   "pygments_lexer": "ipython3",
   "version": "3.10.8"
  }
 },
 "nbformat": 4,
 "nbformat_minor": 5
}
