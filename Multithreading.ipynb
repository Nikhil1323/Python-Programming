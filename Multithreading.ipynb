{
 "cells": [
  {
   "cell_type": "markdown",
   "id": "c3302dbe-a81f-4a06-83a1-28f2c5921405",
   "metadata": {},
   "source": [
    "In a multi core processor if we want to execute multiple programs in one core through a process called as threading\n",
    "In python we have 2 libraries. threading and multiplethreadings."
   ]
  },
  {
   "cell_type": "code",
   "execution_count": 1,
   "id": "c425fd7f-a455-4b96-b430-5eab17ec9534",
   "metadata": {},
   "outputs": [],
   "source": [
    "import threading"
   ]
  },
  {
   "cell_type": "code",
   "execution_count": 6,
   "id": "84cbb421-e69d-4147-a530-ccfc1f40a6b6",
   "metadata": {},
   "outputs": [],
   "source": [
    "def test(id):\n",
    "    print(\"Prog start %d\"% id)"
   ]
  },
  {
   "cell_type": "code",
   "execution_count": 7,
   "id": "661138b4-896f-4d80-a513-c25754116eb1",
   "metadata": {},
   "outputs": [
    {
     "name": "stdout",
     "output_type": "stream",
     "text": [
      "Prog start 45\n"
     ]
    }
   ],
   "source": [
    "test(45)"
   ]
  },
  {
   "cell_type": "code",
   "execution_count": 10,
   "id": "c6a3c0b4-a83d-4db3-96b3-b5dba7fce60f",
   "metadata": {},
   "outputs": [],
   "source": [
    "thread = [threading.Thread(target = test, args=(i,) )for i in range(10)] # in this list comprehension we are\n",
    "                           #trying to run the above test function 10 times in a single core.\n",
    "                           #for that we r using threading.thread function from threading package\n",
    "                           # passing the target function Test \n",
    "                           # and looping it 10 times using for loop and range()"
   ]
  },
  {
   "cell_type": "code",
   "execution_count": 11,
   "id": "8d86ff12-9611-4aaa-ab03-0e55cd983b4e",
   "metadata": {},
   "outputs": [
    {
     "name": "stdout",
     "output_type": "stream",
     "text": [
      "Prog start 0\n",
      "Prog start 1\n",
      "Prog start 2\n",
      "Prog start 3\n",
      "Prog start 4\n",
      "Prog start 5\n",
      "Prog start 6\n",
      "Prog start 7\n",
      "Prog start 8\n",
      "Prog start 9\n"
     ]
    }
   ],
   "source": [
    "for t in thread :\n",
    "    t.start()     #here we are making 10 threads based on different values of input we passs as id to the test function."
   ]
  },
  {
   "cell_type": "code",
   "execution_count": 12,
   "id": "886a7ec8-aedc-4c63-a834-3422cbb1994f",
   "metadata": {},
   "outputs": [
    {
     "data": {
      "text/plain": [
       "[<Thread(Thread-5 (test), stopped 139838130996800)>,\n",
       " <Thread(Thread-6 (test), stopped 139838130996800)>,\n",
       " <Thread(Thread-7 (test), stopped 139838130996800)>,\n",
       " <Thread(Thread-8 (test), stopped 139838130996800)>,\n",
       " <Thread(Thread-9 (test), stopped 139838130996800)>,\n",
       " <Thread(Thread-10 (test), stopped 139838130996800)>,\n",
       " <Thread(Thread-11 (test), stopped 139838130996800)>,\n",
       " <Thread(Thread-12 (test), stopped 139838130996800)>,\n",
       " <Thread(Thread-13 (test), stopped 139838130996800)>,\n",
       " <Thread(Thread-14 (test), stopped 139838130996800)>]"
      ]
     },
     "execution_count": 12,
     "metadata": {},
     "output_type": "execute_result"
    }
   ],
   "source": [
    "thread"
   ]
  },
  {
   "cell_type": "code",
   "execution_count": 13,
   "id": "3017fdf5-3dbd-48e0-ba32-a9ce4dbba0a2",
   "metadata": {},
   "outputs": [
    {
     "data": {
      "text/plain": [
       "139838131172800"
      ]
     },
     "execution_count": 13,
     "metadata": {},
     "output_type": "execute_result"
    }
   ],
   "source": [
    "id(thread)"
   ]
  },
  {
   "cell_type": "code",
   "execution_count": 14,
   "id": "91c0bec0-8150-452f-b6f3-a4b6ef89b56a",
   "metadata": {},
   "outputs": [],
   "source": [
    "#program to store multiple files in multiple files.\n",
    "import threading\n",
    "import urllib.request\n",
    "\n",
    "def file_download(url, filename) :\n",
    "    urllib.request.urlretrieve(url, filename)"
   ]
  },
  {
   "cell_type": "code",
   "execution_count": 15,
   "id": "f054cc78-42a6-451d-945b-01c76e8e65c1",
   "metadata": {},
   "outputs": [],
   "source": [
    "url_list = ['https://github.com/Nikhil1323/assignment/blob/main/Assignment1%20(1).ipynb', 'https://github.com/Nikhil1323/assignment/blob/main/Assignment%202.ipynb','https://github.com/Nikhil1323/assignment/blob/main/Assignment%203%20(1).ipynb']"
   ]
  },
  {
   "cell_type": "code",
   "execution_count": 16,
   "id": "33fa4c70-334c-4df0-b86a-c1b23eaa1f9c",
   "metadata": {},
   "outputs": [
    {
     "data": {
      "text/plain": [
       "['https://github.com/Nikhil1323/assignment/blob/main/Assignment1%20(1).ipynb',\n",
       " 'https://github.com/Nikhil1323/assignment/blob/main/Assignment%202.ipynb',\n",
       " 'https://github.com/Nikhil1323/assignment/blob/main/Assignment%203%20(1).ipynb']"
      ]
     },
     "execution_count": 16,
     "metadata": {},
     "output_type": "execute_result"
    }
   ],
   "source": [
    "url_list"
   ]
  },
  {
   "cell_type": "code",
   "execution_count": 17,
   "id": "7aa40822-1e11-4cd8-a9f4-0cf7e3a1c999",
   "metadata": {},
   "outputs": [],
   "source": [
    "file_name_list = ['data1.txt','data2.txt','data3.txt']"
   ]
  },
  {
   "cell_type": "code",
   "execution_count": 22,
   "id": "1b944250-0a50-45ce-9eba-91625d867069",
   "metadata": {},
   "outputs": [],
   "source": [
    "ther =[threading.Thread(target = file_download, args =(url_list[i], file_name_list[i])) for i in range(len(url_list))]"
   ]
  },
  {
   "cell_type": "code",
   "execution_count": 23,
   "id": "e4395f7f-7b77-499c-8d7a-c65b739f04ce",
   "metadata": {},
   "outputs": [
    {
     "data": {
      "text/plain": [
       "[<Thread(Thread-15 (file_download), initial)>,\n",
       " <Thread(Thread-16 (file_download), initial)>,\n",
       " <Thread(Thread-17 (file_download), initial)>]"
      ]
     },
     "execution_count": 23,
     "metadata": {},
     "output_type": "execute_result"
    }
   ],
   "source": [
    "ther"
   ]
  },
  {
   "cell_type": "code",
   "execution_count": 24,
   "id": "eb62f3b6-96d2-4048-98f3-63f0d88e74e2",
   "metadata": {},
   "outputs": [],
   "source": [
    "for t in ther :\n",
    "    t.start()"
   ]
  },
  {
   "cell_type": "code",
   "execution_count": 25,
   "id": "83a4e35f-9a51-4903-8348-63454ed5a995",
   "metadata": {},
   "outputs": [],
   "source": [
    "import time\n"
   ]
  },
  {
   "cell_type": "code",
   "execution_count": 43,
   "id": "6a70d21a-0a75-4641-803c-0d52da09ac18",
   "metadata": {},
   "outputs": [],
   "source": [
    "def test1(id):\n",
    "    for i in range(10):\n",
    "        print(\"test1 %d printing %d %s\" %(id,i,time.ctime()))\n",
    "        time.sleep(1)"
   ]
  },
  {
   "cell_type": "code",
   "execution_count": 44,
   "id": "90c45f3e-bcd0-47da-800c-362afee0e4f6",
   "metadata": {},
   "outputs": [],
   "source": [
    "# for multiple ids\n",
    "thread1 = [threading.Thread(target = test1, args=(i,)) for i in range(3)]"
   ]
  },
  {
   "cell_type": "code",
   "execution_count": 45,
   "id": "0979f0c6-e8f3-44be-89f0-f86bf4e0c449",
   "metadata": {},
   "outputs": [
    {
     "name": "stdout",
     "output_type": "stream",
     "text": [
      "test1 0 printing 0 Mon Jul 31 12:38:53 2023\n",
      "test1 1 printing 0 Mon Jul 31 12:38:53 2023\n",
      "test1 2 printing 0 Mon Jul 31 12:38:53 2023\n",
      "test1 0 printing 1 Mon Jul 31 12:38:54 2023\n",
      "test1 1 printing 1 Mon Jul 31 12:38:54 2023\n",
      "test1 2 printing 1 Mon Jul 31 12:38:54 2023\n",
      "test1 0 printing 2 Mon Jul 31 12:38:55 2023\n",
      "test1 1 printing 2 Mon Jul 31 12:38:55 2023\n",
      "test1 2 printing 2 Mon Jul 31 12:38:55 2023\n",
      "test1 0 printing 3 Mon Jul 31 12:38:56 2023\n",
      "test1 1 printing 3 Mon Jul 31 12:38:56 2023\n",
      "test1 2 printing 3 Mon Jul 31 12:38:56 2023\n",
      "test1 0 printing 4 Mon Jul 31 12:38:57 2023\n",
      "test1 1 printing 4 Mon Jul 31 12:38:57 2023\n",
      "test1 2 printing 4 Mon Jul 31 12:38:57 2023\n",
      "test1 0 printing 5 Mon Jul 31 12:38:58 2023\n",
      "test1 1 printing 5 Mon Jul 31 12:38:58 2023\n",
      "test1 2 printing 5 Mon Jul 31 12:38:58 2023\n",
      "test1 0 printing 6 Mon Jul 31 12:38:59 2023\n",
      "test1 1 printing 6 Mon Jul 31 12:38:59 2023\n",
      "test1 2 printing 6 Mon Jul 31 12:38:59 2023\n",
      "test1 0 printing 7 Mon Jul 31 12:39:00 2023\n",
      "test1 2 printing 7 Mon Jul 31 12:39:00 2023\n",
      "test1 1 printing 7 Mon Jul 31 12:39:00 2023\n",
      "test1 0 printing 8 Mon Jul 31 12:39:01 2023\n",
      "test1 2 printing 8 Mon Jul 31 12:39:01 2023\n",
      "test1 1 printing 8 Mon Jul 31 12:39:01 2023\n",
      "test1 0 printing 9 Mon Jul 31 12:39:02 2023\n",
      "test1 1 printing 9 Mon Jul 31 12:39:02 2023\n",
      "test1 2 printing 9 Mon Jul 31 12:39:02 2023\n"
     ]
    }
   ],
   "source": [
    "for t in thread1:\n",
    "    t.start()"
   ]
  },
  {
   "cell_type": "code",
   "execution_count": 52,
   "id": "f403a5da-335b-4b12-9488-df90ff31b976",
   "metadata": {},
   "outputs": [],
   "source": [
    "#Programs using shared resources.\n",
    "shared_var = 0\n",
    "lock_var = threading.Lock()"
   ]
  },
  {
   "cell_type": "code",
   "execution_count": 63,
   "id": "543f5fc1-4249-4cf3-817f-26077a66297b",
   "metadata": {},
   "outputs": [
    {
     "name": "stdout",
     "output_type": "stream",
     "text": [
      "test2 is 0 has increased the shared_variable by 1 \n",
      "test2 is 1 has increased the shared_variable by 2 \n",
      "test2 is 2 has increased the shared_variable by 3 \n"
     ]
    }
   ],
   "source": [
    "shared_var = 0\n",
    "lock_var = threading.Lock()\n",
    "def test2(id) :\n",
    "    global shared_var #global is akeyword used to make an data type global that is accessable outside a function as well.\n",
    "    with lock_var:\n",
    "        shared_var = shared_var + 1\n",
    "        print(\"test2 is %d has increased the shared_variable by %d \" % (id,shared_var))\n",
    "        time.sleep(1)\n",
    "thread2 = [threading.Thread(target =test2, args=(i,)) for i in range(3)]\n",
    "for t in thread2:\n",
    "    t.start()"
   ]
  },
  {
   "cell_type": "code",
   "execution_count": 64,
   "id": "f69b53d8-290b-4526-ba91-eec2e97b4a69",
   "metadata": {},
   "outputs": [],
   "source": [
    "thread2 = [threading.Thread(target =test2, args=(id,)) for i in range(3)]"
   ]
  },
  {
   "cell_type": "code",
   "execution_count": 65,
   "id": "3219f22a-f7f7-44d6-9dae-73385aaa26a1",
   "metadata": {},
   "outputs": [
    {
     "data": {
      "text/plain": [
       "[<Thread(Thread-63 (test2), initial)>,\n",
       " <Thread(Thread-64 (test2), initial)>,\n",
       " <Thread(Thread-65 (test2), initial)>]"
      ]
     },
     "execution_count": 65,
     "metadata": {},
     "output_type": "execute_result"
    }
   ],
   "source": [
    "thread2"
   ]
  },
  {
   "cell_type": "code",
   "execution_count": null,
   "id": "280deef6-0a0e-4d7c-81ea-e1ab1ef9e3ac",
   "metadata": {},
   "outputs": [],
   "source": []
  }
 ],
 "metadata": {
  "kernelspec": {
   "display_name": "Python 3 (ipykernel)",
   "language": "python",
   "name": "python3"
  },
  "language_info": {
   "codemirror_mode": {
    "name": "ipython",
    "version": 3
   },
   "file_extension": ".py",
   "mimetype": "text/x-python",
   "name": "python",
   "nbconvert_exporter": "python",
   "pygments_lexer": "ipython3",
   "version": "3.10.8"
  }
 },
 "nbformat": 4,
 "nbformat_minor": 5
}
